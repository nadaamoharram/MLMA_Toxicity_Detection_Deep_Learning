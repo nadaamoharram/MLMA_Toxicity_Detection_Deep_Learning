{
  "cells": [
    {
      "cell_type": "code",
      "source": [
        "print(2)"
      ],
      "metadata": {
        "id": "XGpHSX_ykE8y",
        "colab": {
          "base_uri": "https://localhost:8080/",
          "height": 0
        },
        "outputId": "4866882c-8cab-409f-dfe8-410bbb20f3b1"
      },
      "id": "XGpHSX_ykE8y",
      "execution_count": 35,
      "outputs": [
        {
          "output_type": "stream",
          "name": "stdout",
          "text": [
            "2\n"
          ]
        }
      ]
    },
    {
      "cell_type": "code",
      "execution_count": 36,
      "id": "PAGKhUDbf-6c",
      "metadata": {
        "id": "PAGKhUDbf-6c",
        "colab": {
          "base_uri": "https://localhost:8080/",
          "height": 0
        },
        "outputId": "ee1e6f63-3c2d-4ec8-ac24-c425b9bfb45c"
      },
      "outputs": [
        {
          "output_type": "stream",
          "name": "stdout",
          "text": [
            "Drive already mounted at /content/drive; to attempt to forcibly remount, call drive.mount(\"/content/drive\", force_remount=True).\n"
          ]
        }
      ],
      "source": [
        "from google.colab import drive\n",
        "drive.mount('/content/drive')"
      ]
    },
    {
      "cell_type": "code",
      "execution_count": 37,
      "id": "Ytpr43FFf55C",
      "metadata": {
        "id": "Ytpr43FFf55C"
      },
      "outputs": [],
      "source": [
        "import random; random.seed(42)\n",
        "!pip install -q evaluate torchinfo bitsandbytes peft"
      ]
    },
    {
      "cell_type": "code",
      "execution_count": 38,
      "id": "5f3c4607",
      "metadata": {
        "id": "5f3c4607"
      },
      "outputs": [],
      "source": [
        "import numpy as np\n",
        "import pandas as pd\n",
        "from datasets import Dataset\n",
        "import evaluate\n",
        "from transformers import BertTokenizer, BertForSequenceClassification\n",
        "from transformers import TrainingArguments, Trainer\n",
        "from torchinfo import summary\n",
        "import torch\n",
        "from transformers import BertTokenizer, BertForSequenceClassification, BitsAndBytesConfig\n",
        "from sklearn.metrics import confusion_matrix\n",
        "import matplotlib.pyplot as plt\n",
        "import seaborn as sns\n",
        "from sklearn.metrics import accuracy_score, precision_score, recall_score, f1_score\n",
        "import random"
      ]
    },
    {
      "cell_type": "code",
      "execution_count": 39,
      "id": "1O-tS7qmoiVf",
      "metadata": {
        "id": "1O-tS7qmoiVf"
      },
      "outputs": [],
      "source": [
        "from transformers import AutoTokenizer, AutoModelForSequenceClassification"
      ]
    },
    {
      "cell_type": "code",
      "execution_count": 40,
      "id": "gqlgkgQBSFGm",
      "metadata": {
        "id": "gqlgkgQBSFGm"
      },
      "outputs": [],
      "source": [
        "random.seed(42)"
      ]
    },
    {
      "cell_type": "markdown",
      "id": "88ec3af9",
      "metadata": {
        "id": "88ec3af9"
      },
      "source": [
        "## Load Datasets, Tokenizer, and Model"
      ]
    },
    {
      "cell_type": "code",
      "execution_count": 41,
      "id": "f1870343",
      "metadata": {
        "id": "f1870343"
      },
      "outputs": [],
      "source": [
        "train_df = pd.read_csv('/content/drive/MyDrive/266/MLMA_Toxicity_Detection_Deep_Learning/Data/combined_train.csv')\n",
        "val_df = pd.read_csv('/content/drive/MyDrive/266/MLMA_Toxicity_Detection_Deep_Learning/Data/combined_val.csv')\n",
        "test_df = pd.read_csv('/content/drive/MyDrive/266/MLMA_Toxicity_Detection_Deep_Learning/Data/combined_test.csv')\n",
        "\n",
        "train_dataset = Dataset.from_pandas(train_df)\n",
        "val_dataset = Dataset.from_pandas(val_df)\n",
        "test_dataset = Dataset.from_pandas(test_df)"
      ]
    },
    {
      "cell_type": "markdown",
      "id": "4b477aeb",
      "metadata": {
        "id": "4b477aeb"
      },
      "source": [
        "## Multi-Label Prediction"
      ]
    },
    {
      "cell_type": "code",
      "execution_count": 42,
      "id": "92eL8T6DAYiu",
      "metadata": {
        "id": "92eL8T6DAYiu",
        "colab": {
          "base_uri": "https://localhost:8080/",
          "height": 0
        },
        "outputId": "c7201d0e-8e73-4b63-b6e7-e643757e909c"
      },
      "outputs": [
        {
          "output_type": "execute_result",
          "data": {
            "text/plain": [
              "{'text_cleaned': 'يلعن شرفك يا حكم!!!',\n",
              " 'language': 'arabic',\n",
              " 'directness_label': 2,\n",
              " 'target_label': 2,\n",
              " 'group_label': 12,\n",
              " 'hatespeech': 0,\n",
              " 'hatespeech.1': 0,\n",
              " 'directness_label.1': 2,\n",
              " 'target_label.1': 2,\n",
              " 'group_label.1': 12,\n",
              " 'sentiment_anger': 0,\n",
              " 'sentiment_confusion': 0,\n",
              " 'sentiment_disgust': 0,\n",
              " 'sentiment_fear': 0,\n",
              " 'sentiment_indifference': 0,\n",
              " 'sentiment_normal': 1,\n",
              " 'sentiment_sadness': 0,\n",
              " 'sentiment_shock': 0,\n",
              " 'language_encoded': 2}"
            ]
          },
          "metadata": {},
          "execution_count": 42
        }
      ],
      "source": [
        "example = train_dataset[0]\n",
        "example"
      ]
    },
    {
      "cell_type": "code",
      "execution_count": 43,
      "id": "4358b5f9",
      "metadata": {
        "id": "4358b5f9",
        "colab": {
          "base_uri": "https://localhost:8080/",
          "height": 0
        },
        "outputId": "dc59dc92-902a-4f25-db3b-700fbc52f3c4"
      },
      "outputs": [
        {
          "output_type": "stream",
          "name": "stdout",
          "text": [
            "DatasetDict({\n",
            "    train: Dataset({\n",
            "        features: ['text_cleaned', 'language', 'directness_label', 'target_label', 'group_label', 'hatespeech', 'hatespeech.1', 'directness_label.1', 'target_label.1', 'group_label.1', 'sentiment_anger', 'sentiment_confusion', 'sentiment_disgust', 'sentiment_fear', 'sentiment_indifference', 'sentiment_normal', 'sentiment_sadness', 'sentiment_shock', 'language_encoded'],\n",
            "        num_rows: 30702\n",
            "    })\n",
            "    validation: Dataset({\n",
            "        features: ['text_cleaned', 'language', 'directness_label', 'target_label', 'group_label', 'hatespeech', 'hatespeech.1', 'directness_label.1', 'target_label.1', 'group_label.1', 'sentiment_anger', 'sentiment_confusion', 'sentiment_disgust', 'sentiment_fear', 'sentiment_indifference', 'sentiment_normal', 'sentiment_sadness', 'sentiment_shock', 'language_encoded'],\n",
            "        num_rows: 3901\n",
            "    })\n",
            "    test: Dataset({\n",
            "        features: ['text_cleaned', 'language', 'directness_label', 'target_label', 'group_label', 'hatespeech', 'hatespeech.1', 'directness_label.1', 'target_label.1', 'group_label.1', 'sentiment_anger', 'sentiment_confusion', 'sentiment_disgust', 'sentiment_fear', 'sentiment_indifference', 'sentiment_normal', 'sentiment_sadness', 'sentiment_shock', 'language_encoded'],\n",
            "        num_rows: 3901\n",
            "    })\n",
            "})\n"
          ]
        }
      ],
      "source": [
        "from datasets import DatasetDict\n",
        "\n",
        "dataset = DatasetDict({\n",
        "    'train': train_dataset,\n",
        "    'validation': val_dataset,\n",
        "    'test': test_dataset\n",
        "})\n",
        "\n",
        "print(dataset)"
      ]
    },
    {
      "cell_type": "code",
      "execution_count": 44,
      "id": "yyHWaVa5D7VT",
      "metadata": {
        "id": "yyHWaVa5D7VT",
        "colab": {
          "base_uri": "https://localhost:8080/",
          "height": 0
        },
        "outputId": "11a1f2c2-b2fd-4eb4-fa21-569de6489a73"
      },
      "outputs": [
        {
          "output_type": "execute_result",
          "data": {
            "text/plain": [
              "{'text_cleaned': \"c'est un gros mongol quand même\",\n",
              " 'language': 'french',\n",
              " 'directness_label': 0,\n",
              " 'target_label': 3,\n",
              " 'group_label': 8,\n",
              " 'hatespeech': 1,\n",
              " 'hatespeech.1': 1,\n",
              " 'directness_label.1': 0,\n",
              " 'target_label.1': 3,\n",
              " 'group_label.1': 8,\n",
              " 'sentiment_anger': 0,\n",
              " 'sentiment_confusion': 0,\n",
              " 'sentiment_disgust': 0,\n",
              " 'sentiment_fear': 0,\n",
              " 'sentiment_indifference': 0,\n",
              " 'sentiment_normal': 0,\n",
              " 'sentiment_sadness': 0,\n",
              " 'sentiment_shock': 1,\n",
              " 'language_encoded': 1}"
            ]
          },
          "metadata": {},
          "execution_count": 44
        }
      ],
      "source": [
        "example = dataset['train'][13000]\n",
        "example"
      ]
    },
    {
      "cell_type": "code",
      "execution_count": 45,
      "id": "e692717d",
      "metadata": {
        "id": "e692717d",
        "colab": {
          "base_uri": "https://localhost:8080/",
          "height": 0
        },
        "outputId": "ca9cdb25-1525-48aa-b3ea-1c23c2d7f42d"
      },
      "outputs": [
        {
          "output_type": "stream",
          "name": "stdout",
          "text": [
            "Total number of binary labels: 36\n",
            "All binary labels: ['hatespeech', 'sentiment_indifference', 'sentiment_disgust', 'sentiment_sadness', 'sentiment_anger', 'sentiment_shock', 'sentiment_normal', 'sentiment_confusion', 'sentiment_fear', 'directness_label_0', 'directness_label_1', 'directness_label_2', 'target_label_0', 'target_label_1', 'target_label_2', 'target_label_3', 'target_label_4', 'target_label_5', 'target_label_6', 'group_label_0', 'group_label_1', 'group_label_2', 'group_label_3', 'group_label_4', 'group_label_5', 'group_label_6', 'group_label_7', 'group_label_8', 'group_label_9', 'group_label_10', 'group_label_11', 'group_label_12', 'group_label_13', 'group_label_14', 'group_label_15', 'group_label_16']\n"
          ]
        }
      ],
      "source": [
        "# Original binary labels\n",
        "binary_label_columns = [\n",
        "    'hatespeech',\n",
        "    'sentiment_indifference',\n",
        "    'sentiment_disgust',\n",
        "    'sentiment_sadness',\n",
        "    'sentiment_anger',\n",
        "    'sentiment_shock',\n",
        "    'sentiment_normal',\n",
        "    'sentiment_confusion',\n",
        "    'sentiment_fear'\n",
        "]\n",
        "\n",
        "# Get unique values for multiclass labels to determine the range for one-hot encoding\n",
        "directness_values = sorted(train_df['directness_label'].unique().tolist())\n",
        "target_values = sorted(train_df['target_label'].unique().tolist())\n",
        "group_values = sorted(train_df['group_label'].unique().tolist())\n",
        "\n",
        "# Create names for one-hot encoded binary labels\n",
        "directness_binary_labels = [f'directness_label_{val}' for val in directness_values]\n",
        "target_binary_labels = [f'target_label_{val}' for val in target_values]\n",
        "group_binary_labels = [f'group_label_{val}' for val in group_values]\n",
        "\n",
        "# Combine all binary label names\n",
        "all_binary_labels = binary_label_columns + directness_binary_labels + target_binary_labels + group_binary_labels\n",
        "\n",
        "# Update id2label and label2id\n",
        "id2label = {idx:label for idx, label in enumerate(all_binary_labels)}\n",
        "label2id = {label:idx for idx, label in enumerate(all_binary_labels)}\n",
        "\n",
        "# The total number of binary labels\n",
        "num_binary_labels = len(all_binary_labels)\n",
        "\n",
        "print(f\"Total number of binary labels: {num_binary_labels}\")\n",
        "print(f\"All binary labels: {all_binary_labels}\")"
      ]
    },
    {
      "cell_type": "code",
      "source": [
        "!rm -r \"google/rembert\" # if the next cell gives error \"not a string\", run this cell"
      ],
      "metadata": {
        "id": "VyExHwN1kfeh"
      },
      "id": "VyExHwN1kfeh",
      "execution_count": 46,
      "outputs": []
    },
    {
      "cell_type": "code",
      "execution_count": 47,
      "id": "GfuEZFkluScv",
      "metadata": {
        "id": "GfuEZFkluScv",
        "colab": {
          "base_uri": "https://localhost:8080/",
          "height": 0
        },
        "outputId": "05dd0931-15c0-4bf3-df2b-76b5f10fd63f"
      },
      "outputs": [
        {
          "output_type": "stream",
          "name": "stderr",
          "text": [
            "Some weights of RemBertForSequenceClassification were not initialized from the model checkpoint at google/rembert and are newly initialized: ['classifier.bias', 'classifier.weight']\n",
            "You should probably TRAIN this model on a down-stream task to be able to use it for predictions and inference.\n"
          ]
        }
      ],
      "source": [
        "from transformers import AutoTokenizer, AutoModelForSequenceClassification\n",
        "\n",
        "tokenizer = AutoTokenizer.from_pretrained('google/rembert')\n",
        "model = AutoModelForSequenceClassification.from_pretrained('google/rembert',\n",
        "                                                           problem_type=\"multi_label_classification\",\n",
        "                                                           num_labels=len(all_binary_labels),\n",
        "                                                           id2label=id2label,\n",
        "                                                           label2id=label2id)"
      ]
    },
    {
      "cell_type": "code",
      "execution_count": 48,
      "id": "LLuk7TLNyE6r",
      "metadata": {
        "id": "LLuk7TLNyE6r"
      },
      "outputs": [],
      "source": [
        "import torch\n",
        "import numpy as np\n",
        "\n",
        "# Get unique values for multiclass labels to determine the range for one-hot encoding\n",
        "directness_values = sorted(train_df['directness_label'].unique().tolist())\n",
        "target_values = sorted(train_df['target_label'].unique().tolist())\n",
        "group_values = sorted(train_df['group_label'].unique().tolist())\n",
        "\n",
        "def preprocess_multioutput_data(examples):\n",
        "  # take a batch of texts\n",
        "  text = [str(x) for x in examples[\"text_cleaned\"]]\n",
        "  # encode them, returning PyTorch tensors directly\n",
        "  encoding = tokenizer(text, padding=\"max_length\", truncation=True, max_length=150, return_tensors=\"pt\")\n",
        "\n",
        "  # Create list of binary label tensors\n",
        "  binary_labels_list = [\n",
        "      torch.tensor(examples[\"hatespeech\"]),\n",
        "      torch.tensor(examples[\"sentiment_anger\"]),\n",
        "      torch.tensor(examples[\"sentiment_confusion\"]),\n",
        "      torch.tensor(examples[\"sentiment_disgust\"]),\n",
        "      torch.tensor(examples[\"sentiment_fear\"]),\n",
        "      torch.tensor(examples[\"sentiment_indifference\"]),\n",
        "      torch.tensor(examples[\"sentiment_normal\"]),\n",
        "      torch.tensor(examples[\"sentiment_sadness\"]),\n",
        "      torch.tensor(examples[\"sentiment_shock\"])\n",
        "  ]\n",
        "\n",
        "  # Perform one-hot encoding for multiclass labels and add to the list\n",
        "  for i, val in enumerate(directness_values):\n",
        "      binary_labels_list.append(torch.tensor([1.0 if label == val else 0.0 for label in examples[\"directness_label\"]]))\n",
        "\n",
        "  for i, val in enumerate(target_values):\n",
        "      binary_labels_list.append(torch.tensor([1.0 if label == val else 0.0 for label in examples[\"target_label\"]]))\n",
        "\n",
        "  for i, val in enumerate(group_values):\n",
        "      binary_labels_list.append(torch.tensor([1.0 if label == val else 0.0 for label in examples[\"group_label\"]]))\n",
        "\n",
        "\n",
        "  # Stack all binary label tensors along dimension 1\n",
        "  labels_tensor = torch.stack(binary_labels_list, dim=1).float()\n",
        "\n",
        "  # Add the stacked labels tensor to the encoding dictionary\n",
        "  encoding['labels'] = labels_tensor\n",
        "\n",
        "  return encoding"
      ]
    },
    {
      "cell_type": "code",
      "execution_count": 49,
      "id": "X-j-plQeyI4z",
      "metadata": {
        "id": "X-j-plQeyI4z",
        "colab": {
          "base_uri": "https://localhost:8080/",
          "height": 113,
          "referenced_widgets": [
            "18801cf0f5034804b5dff7aa8bddbc02",
            "62e1cc033d3d4bcab6769d7a0e132ee9",
            "01c9e6d21ca14fa9aef68a6f6e988568",
            "6669fdeabf794dda8dc0c8226688e957",
            "a305797313644615bf955ad62d2e6632",
            "91b93e4059a94cfe936dc315e976dfdb",
            "a1f730b8d7264d4a9b43afd045b77ae7",
            "4d27e4775e3b43c09bfabe2bb7597d77",
            "68e53f61a4de4aca8fa5709d4ee6602a",
            "507edc2c207e477891e4536ac5cc725d",
            "67197a00e2494c56b31d049191e1c7c0",
            "cf4773c7c668480889e2e7cee574699d",
            "43bfb15235b24093974764610365b1ae",
            "ba53ed9cc1454bfc92286cdb110e0268",
            "dd4a6ba96306420fbefd66417e7d245c",
            "78105e4cef2047229da3031971fdd91b",
            "14eed112b97e4d399d5320d15437b400",
            "f5704fb8e7624eb2a728a90775230cbb",
            "07e4a37950d945219280d514386aa5fd",
            "2e15575ccefd46c6b20dbe8be99479a4",
            "2aeaf1a855be4d9182bb0a1500c7f832",
            "003b5011584a466c8c951286248d543b",
            "62489da97faf4d97aff90e585c5cfe79",
            "145420c122de4d798391d9853daf4fe9",
            "4bbc12f71e7e47d8b89249a379bfbbe4",
            "b8411932ddf34d1cbe5d73e6144f817e",
            "5b3f90e8adc645e299684acc22aa57a6",
            "09dfc14f999e486bac3a71d1061483f2",
            "62dd13d990534bb689aae873112cbdca",
            "2f3cadda90ba437b88cb08933b3262a8",
            "171052bc70964e1b9f64f9601f59af4b",
            "2b4589d6feb745cdb6a754e812c1dc7d",
            "fae79ad9371740d68744e6355dc99a37"
          ]
        },
        "outputId": "6513ee0a-b103-44f9-b40f-9684a6b9a549"
      },
      "outputs": [
        {
          "output_type": "display_data",
          "data": {
            "text/plain": [
              "Map:   0%|          | 0/30702 [00:00<?, ? examples/s]"
            ],
            "application/vnd.jupyter.widget-view+json": {
              "version_major": 2,
              "version_minor": 0,
              "model_id": "18801cf0f5034804b5dff7aa8bddbc02"
            }
          },
          "metadata": {}
        },
        {
          "output_type": "display_data",
          "data": {
            "text/plain": [
              "Map:   0%|          | 0/3901 [00:00<?, ? examples/s]"
            ],
            "application/vnd.jupyter.widget-view+json": {
              "version_major": 2,
              "version_minor": 0,
              "model_id": "cf4773c7c668480889e2e7cee574699d"
            }
          },
          "metadata": {}
        },
        {
          "output_type": "display_data",
          "data": {
            "text/plain": [
              "Map:   0%|          | 0/3901 [00:00<?, ? examples/s]"
            ],
            "application/vnd.jupyter.widget-view+json": {
              "version_major": 2,
              "version_minor": 0,
              "model_id": "62489da97faf4d97aff90e585c5cfe79"
            }
          },
          "metadata": {}
        }
      ],
      "source": [
        "\n",
        "\n",
        "# Apply the preprocessing function with batching\n",
        "encoded_dataset = dataset.map(preprocess_multioutput_data, batched=True, remove_columns=dataset['train'].column_names)\n"
      ]
    },
    {
      "cell_type": "code",
      "execution_count": 50,
      "id": "rkdRwF_eyQP7",
      "metadata": {
        "id": "rkdRwF_eyQP7",
        "colab": {
          "base_uri": "https://localhost:8080/",
          "height": 0
        },
        "outputId": "6b3de134-a9df-41e3-9f11-aa58f6ee4d36"
      },
      "outputs": [
        {
          "output_type": "stream",
          "name": "stdout",
          "text": [
            "dict_keys(['input_ids', 'token_type_ids', 'attention_mask', 'labels'])\n",
            "[CLS] c'est un gros mongol quand même[SEP][PAD][PAD][PAD][PAD][PAD][PAD][PAD][PAD][PAD][PAD][PAD][PAD][PAD][PAD][PAD][PAD][PAD][PAD][PAD][PAD][PAD][PAD][PAD][PAD][PAD][PAD][PAD][PAD][PAD][PAD][PAD][PAD][PAD][PAD][PAD][PAD][PAD][PAD][PAD][PAD][PAD][PAD][PAD][PAD][PAD][PAD][PAD][PAD][PAD][PAD][PAD][PAD][PAD][PAD][PAD][PAD][PAD][PAD][PAD][PAD][PAD][PAD][PAD][PAD][PAD][PAD][PAD][PAD][PAD][PAD][PAD][PAD][PAD][PAD][PAD][PAD][PAD][PAD][PAD][PAD][PAD][PAD][PAD][PAD][PAD][PAD][PAD][PAD][PAD][PAD][PAD][PAD][PAD][PAD][PAD][PAD][PAD][PAD][PAD][PAD][PAD][PAD][PAD][PAD][PAD][PAD][PAD][PAD][PAD][PAD][PAD][PAD][PAD][PAD][PAD][PAD][PAD][PAD][PAD][PAD][PAD][PAD][PAD][PAD][PAD][PAD][PAD][PAD][PAD][PAD][PAD][PAD][PAD][PAD][PAD][PAD][PAD][PAD][PAD][PAD]\n",
            "{'input_ids': [312, 897, 584, 1121, 621, 33105, 65473, 14488, 4573, 313, 0, 0, 0, 0, 0, 0, 0, 0, 0, 0, 0, 0, 0, 0, 0, 0, 0, 0, 0, 0, 0, 0, 0, 0, 0, 0, 0, 0, 0, 0, 0, 0, 0, 0, 0, 0, 0, 0, 0, 0, 0, 0, 0, 0, 0, 0, 0, 0, 0, 0, 0, 0, 0, 0, 0, 0, 0, 0, 0, 0, 0, 0, 0, 0, 0, 0, 0, 0, 0, 0, 0, 0, 0, 0, 0, 0, 0, 0, 0, 0, 0, 0, 0, 0, 0, 0, 0, 0, 0, 0, 0, 0, 0, 0, 0, 0, 0, 0, 0, 0, 0, 0, 0, 0, 0, 0, 0, 0, 0, 0, 0, 0, 0, 0, 0, 0, 0, 0, 0, 0, 0, 0, 0, 0, 0, 0, 0, 0, 0, 0, 0, 0, 0, 0, 0, 0, 0, 0, 0, 0], 'token_type_ids': [0, 0, 0, 0, 0, 0, 0, 0, 0, 0, 0, 0, 0, 0, 0, 0, 0, 0, 0, 0, 0, 0, 0, 0, 0, 0, 0, 0, 0, 0, 0, 0, 0, 0, 0, 0, 0, 0, 0, 0, 0, 0, 0, 0, 0, 0, 0, 0, 0, 0, 0, 0, 0, 0, 0, 0, 0, 0, 0, 0, 0, 0, 0, 0, 0, 0, 0, 0, 0, 0, 0, 0, 0, 0, 0, 0, 0, 0, 0, 0, 0, 0, 0, 0, 0, 0, 0, 0, 0, 0, 0, 0, 0, 0, 0, 0, 0, 0, 0, 0, 0, 0, 0, 0, 0, 0, 0, 0, 0, 0, 0, 0, 0, 0, 0, 0, 0, 0, 0, 0, 0, 0, 0, 0, 0, 0, 0, 0, 0, 0, 0, 0, 0, 0, 0, 0, 0, 0, 0, 0, 0, 0, 0, 0, 0, 0, 0, 0, 0, 0], 'attention_mask': [1, 1, 1, 1, 1, 1, 1, 1, 1, 1, 0, 0, 0, 0, 0, 0, 0, 0, 0, 0, 0, 0, 0, 0, 0, 0, 0, 0, 0, 0, 0, 0, 0, 0, 0, 0, 0, 0, 0, 0, 0, 0, 0, 0, 0, 0, 0, 0, 0, 0, 0, 0, 0, 0, 0, 0, 0, 0, 0, 0, 0, 0, 0, 0, 0, 0, 0, 0, 0, 0, 0, 0, 0, 0, 0, 0, 0, 0, 0, 0, 0, 0, 0, 0, 0, 0, 0, 0, 0, 0, 0, 0, 0, 0, 0, 0, 0, 0, 0, 0, 0, 0, 0, 0, 0, 0, 0, 0, 0, 0, 0, 0, 0, 0, 0, 0, 0, 0, 0, 0, 0, 0, 0, 0, 0, 0, 0, 0, 0, 0, 0, 0, 0, 0, 0, 0, 0, 0, 0, 0, 0, 0, 0, 0, 0, 0, 0, 0, 0, 0], 'labels': [1.0, 0.0, 0.0, 0.0, 0.0, 0.0, 0.0, 0.0, 1.0, 1.0, 0.0, 0.0, 0.0, 0.0, 0.0, 1.0, 0.0, 0.0, 0.0, 0.0, 0.0, 0.0, 0.0, 0.0, 0.0, 0.0, 0.0, 1.0, 0.0, 0.0, 0.0, 0.0, 0.0, 0.0, 0.0, 0.0]}\n"
          ]
        }
      ],
      "source": [
        "example = encoded_dataset['train'][13000]\n",
        "print(example.keys())\n",
        "\n",
        "print(tokenizer.decode(example['input_ids']))\n",
        "\n",
        "print(example)"
      ]
    },
    {
      "cell_type": "code",
      "execution_count": 51,
      "id": "0aYo5T7Uuz4Z",
      "metadata": {
        "id": "0aYo5T7Uuz4Z",
        "colab": {
          "base_uri": "https://localhost:8080/",
          "height": 0
        },
        "outputId": "2d91d2f6-5aae-4e0c-e784-9128edf67b80"
      },
      "outputs": [
        {
          "output_type": "stream",
          "name": "stdout",
          "text": [
            "rembert.embeddings.word_embeddings.weight\n",
            "rembert.embeddings.position_embeddings.weight\n",
            "rembert.embeddings.token_type_embeddings.weight\n",
            "rembert.embeddings.LayerNorm.weight\n",
            "rembert.embeddings.LayerNorm.bias\n",
            "rembert.encoder.embedding_hidden_mapping_in.weight\n",
            "rembert.encoder.embedding_hidden_mapping_in.bias\n",
            "rembert.encoder.layer.0.attention.self.query.weight\n",
            "rembert.encoder.layer.0.attention.self.query.bias\n",
            "rembert.encoder.layer.0.attention.self.key.weight\n",
            "rembert.encoder.layer.0.attention.self.key.bias\n",
            "rembert.encoder.layer.0.attention.self.value.weight\n",
            "rembert.encoder.layer.0.attention.self.value.bias\n",
            "rembert.encoder.layer.0.attention.output.dense.weight\n",
            "rembert.encoder.layer.0.attention.output.dense.bias\n",
            "rembert.encoder.layer.0.attention.output.LayerNorm.weight\n",
            "rembert.encoder.layer.0.attention.output.LayerNorm.bias\n",
            "rembert.encoder.layer.0.intermediate.dense.weight\n",
            "rembert.encoder.layer.0.intermediate.dense.bias\n",
            "rembert.encoder.layer.0.output.dense.weight\n",
            "rembert.encoder.layer.0.output.dense.bias\n",
            "rembert.encoder.layer.0.output.LayerNorm.weight\n",
            "rembert.encoder.layer.0.output.LayerNorm.bias\n",
            "rembert.encoder.layer.1.attention.self.query.weight\n",
            "rembert.encoder.layer.1.attention.self.query.bias\n",
            "rembert.encoder.layer.1.attention.self.key.weight\n",
            "rembert.encoder.layer.1.attention.self.key.bias\n",
            "rembert.encoder.layer.1.attention.self.value.weight\n",
            "rembert.encoder.layer.1.attention.self.value.bias\n",
            "rembert.encoder.layer.1.attention.output.dense.weight\n",
            "rembert.encoder.layer.1.attention.output.dense.bias\n",
            "rembert.encoder.layer.1.attention.output.LayerNorm.weight\n",
            "rembert.encoder.layer.1.attention.output.LayerNorm.bias\n",
            "rembert.encoder.layer.1.intermediate.dense.weight\n",
            "rembert.encoder.layer.1.intermediate.dense.bias\n",
            "rembert.encoder.layer.1.output.dense.weight\n",
            "rembert.encoder.layer.1.output.dense.bias\n",
            "rembert.encoder.layer.1.output.LayerNorm.weight\n",
            "rembert.encoder.layer.1.output.LayerNorm.bias\n",
            "rembert.encoder.layer.2.attention.self.query.weight\n",
            "rembert.encoder.layer.2.attention.self.query.bias\n",
            "rembert.encoder.layer.2.attention.self.key.weight\n",
            "rembert.encoder.layer.2.attention.self.key.bias\n",
            "rembert.encoder.layer.2.attention.self.value.weight\n",
            "rembert.encoder.layer.2.attention.self.value.bias\n",
            "rembert.encoder.layer.2.attention.output.dense.weight\n",
            "rembert.encoder.layer.2.attention.output.dense.bias\n",
            "rembert.encoder.layer.2.attention.output.LayerNorm.weight\n",
            "rembert.encoder.layer.2.attention.output.LayerNorm.bias\n",
            "rembert.encoder.layer.2.intermediate.dense.weight\n",
            "rembert.encoder.layer.2.intermediate.dense.bias\n",
            "rembert.encoder.layer.2.output.dense.weight\n",
            "rembert.encoder.layer.2.output.dense.bias\n",
            "rembert.encoder.layer.2.output.LayerNorm.weight\n",
            "rembert.encoder.layer.2.output.LayerNorm.bias\n",
            "rembert.encoder.layer.3.attention.self.query.weight\n",
            "rembert.encoder.layer.3.attention.self.query.bias\n",
            "rembert.encoder.layer.3.attention.self.key.weight\n",
            "rembert.encoder.layer.3.attention.self.key.bias\n",
            "rembert.encoder.layer.3.attention.self.value.weight\n",
            "rembert.encoder.layer.3.attention.self.value.bias\n",
            "rembert.encoder.layer.3.attention.output.dense.weight\n",
            "rembert.encoder.layer.3.attention.output.dense.bias\n",
            "rembert.encoder.layer.3.attention.output.LayerNorm.weight\n",
            "rembert.encoder.layer.3.attention.output.LayerNorm.bias\n",
            "rembert.encoder.layer.3.intermediate.dense.weight\n",
            "rembert.encoder.layer.3.intermediate.dense.bias\n",
            "rembert.encoder.layer.3.output.dense.weight\n",
            "rembert.encoder.layer.3.output.dense.bias\n",
            "rembert.encoder.layer.3.output.LayerNorm.weight\n",
            "rembert.encoder.layer.3.output.LayerNorm.bias\n",
            "rembert.encoder.layer.4.attention.self.query.weight\n",
            "rembert.encoder.layer.4.attention.self.query.bias\n",
            "rembert.encoder.layer.4.attention.self.key.weight\n",
            "rembert.encoder.layer.4.attention.self.key.bias\n",
            "rembert.encoder.layer.4.attention.self.value.weight\n",
            "rembert.encoder.layer.4.attention.self.value.bias\n",
            "rembert.encoder.layer.4.attention.output.dense.weight\n",
            "rembert.encoder.layer.4.attention.output.dense.bias\n",
            "rembert.encoder.layer.4.attention.output.LayerNorm.weight\n",
            "rembert.encoder.layer.4.attention.output.LayerNorm.bias\n",
            "rembert.encoder.layer.4.intermediate.dense.weight\n",
            "rembert.encoder.layer.4.intermediate.dense.bias\n",
            "rembert.encoder.layer.4.output.dense.weight\n",
            "rembert.encoder.layer.4.output.dense.bias\n",
            "rembert.encoder.layer.4.output.LayerNorm.weight\n",
            "rembert.encoder.layer.4.output.LayerNorm.bias\n",
            "rembert.encoder.layer.5.attention.self.query.weight\n",
            "rembert.encoder.layer.5.attention.self.query.bias\n",
            "rembert.encoder.layer.5.attention.self.key.weight\n",
            "rembert.encoder.layer.5.attention.self.key.bias\n",
            "rembert.encoder.layer.5.attention.self.value.weight\n",
            "rembert.encoder.layer.5.attention.self.value.bias\n",
            "rembert.encoder.layer.5.attention.output.dense.weight\n",
            "rembert.encoder.layer.5.attention.output.dense.bias\n",
            "rembert.encoder.layer.5.attention.output.LayerNorm.weight\n",
            "rembert.encoder.layer.5.attention.output.LayerNorm.bias\n",
            "rembert.encoder.layer.5.intermediate.dense.weight\n",
            "rembert.encoder.layer.5.intermediate.dense.bias\n",
            "rembert.encoder.layer.5.output.dense.weight\n",
            "rembert.encoder.layer.5.output.dense.bias\n",
            "rembert.encoder.layer.5.output.LayerNorm.weight\n",
            "rembert.encoder.layer.5.output.LayerNorm.bias\n",
            "rembert.encoder.layer.6.attention.self.query.weight\n",
            "rembert.encoder.layer.6.attention.self.query.bias\n",
            "rembert.encoder.layer.6.attention.self.key.weight\n",
            "rembert.encoder.layer.6.attention.self.key.bias\n",
            "rembert.encoder.layer.6.attention.self.value.weight\n",
            "rembert.encoder.layer.6.attention.self.value.bias\n",
            "rembert.encoder.layer.6.attention.output.dense.weight\n",
            "rembert.encoder.layer.6.attention.output.dense.bias\n",
            "rembert.encoder.layer.6.attention.output.LayerNorm.weight\n",
            "rembert.encoder.layer.6.attention.output.LayerNorm.bias\n",
            "rembert.encoder.layer.6.intermediate.dense.weight\n",
            "rembert.encoder.layer.6.intermediate.dense.bias\n",
            "rembert.encoder.layer.6.output.dense.weight\n",
            "rembert.encoder.layer.6.output.dense.bias\n",
            "rembert.encoder.layer.6.output.LayerNorm.weight\n",
            "rembert.encoder.layer.6.output.LayerNorm.bias\n",
            "rembert.encoder.layer.7.attention.self.query.weight\n",
            "rembert.encoder.layer.7.attention.self.query.bias\n",
            "rembert.encoder.layer.7.attention.self.key.weight\n",
            "rembert.encoder.layer.7.attention.self.key.bias\n",
            "rembert.encoder.layer.7.attention.self.value.weight\n",
            "rembert.encoder.layer.7.attention.self.value.bias\n",
            "rembert.encoder.layer.7.attention.output.dense.weight\n",
            "rembert.encoder.layer.7.attention.output.dense.bias\n",
            "rembert.encoder.layer.7.attention.output.LayerNorm.weight\n",
            "rembert.encoder.layer.7.attention.output.LayerNorm.bias\n",
            "rembert.encoder.layer.7.intermediate.dense.weight\n",
            "rembert.encoder.layer.7.intermediate.dense.bias\n",
            "rembert.encoder.layer.7.output.dense.weight\n",
            "rembert.encoder.layer.7.output.dense.bias\n",
            "rembert.encoder.layer.7.output.LayerNorm.weight\n",
            "rembert.encoder.layer.7.output.LayerNorm.bias\n",
            "rembert.encoder.layer.8.attention.self.query.weight\n",
            "rembert.encoder.layer.8.attention.self.query.bias\n",
            "rembert.encoder.layer.8.attention.self.key.weight\n",
            "rembert.encoder.layer.8.attention.self.key.bias\n",
            "rembert.encoder.layer.8.attention.self.value.weight\n",
            "rembert.encoder.layer.8.attention.self.value.bias\n",
            "rembert.encoder.layer.8.attention.output.dense.weight\n",
            "rembert.encoder.layer.8.attention.output.dense.bias\n",
            "rembert.encoder.layer.8.attention.output.LayerNorm.weight\n",
            "rembert.encoder.layer.8.attention.output.LayerNorm.bias\n",
            "rembert.encoder.layer.8.intermediate.dense.weight\n",
            "rembert.encoder.layer.8.intermediate.dense.bias\n",
            "rembert.encoder.layer.8.output.dense.weight\n",
            "rembert.encoder.layer.8.output.dense.bias\n",
            "rembert.encoder.layer.8.output.LayerNorm.weight\n",
            "rembert.encoder.layer.8.output.LayerNorm.bias\n",
            "rembert.encoder.layer.9.attention.self.query.weight\n",
            "rembert.encoder.layer.9.attention.self.query.bias\n",
            "rembert.encoder.layer.9.attention.self.key.weight\n",
            "rembert.encoder.layer.9.attention.self.key.bias\n",
            "rembert.encoder.layer.9.attention.self.value.weight\n",
            "rembert.encoder.layer.9.attention.self.value.bias\n",
            "rembert.encoder.layer.9.attention.output.dense.weight\n",
            "rembert.encoder.layer.9.attention.output.dense.bias\n",
            "rembert.encoder.layer.9.attention.output.LayerNorm.weight\n",
            "rembert.encoder.layer.9.attention.output.LayerNorm.bias\n",
            "rembert.encoder.layer.9.intermediate.dense.weight\n",
            "rembert.encoder.layer.9.intermediate.dense.bias\n",
            "rembert.encoder.layer.9.output.dense.weight\n",
            "rembert.encoder.layer.9.output.dense.bias\n",
            "rembert.encoder.layer.9.output.LayerNorm.weight\n",
            "rembert.encoder.layer.9.output.LayerNorm.bias\n",
            "rembert.encoder.layer.10.attention.self.query.weight\n",
            "rembert.encoder.layer.10.attention.self.query.bias\n",
            "rembert.encoder.layer.10.attention.self.key.weight\n",
            "rembert.encoder.layer.10.attention.self.key.bias\n",
            "rembert.encoder.layer.10.attention.self.value.weight\n",
            "rembert.encoder.layer.10.attention.self.value.bias\n",
            "rembert.encoder.layer.10.attention.output.dense.weight\n",
            "rembert.encoder.layer.10.attention.output.dense.bias\n",
            "rembert.encoder.layer.10.attention.output.LayerNorm.weight\n",
            "rembert.encoder.layer.10.attention.output.LayerNorm.bias\n",
            "rembert.encoder.layer.10.intermediate.dense.weight\n",
            "rembert.encoder.layer.10.intermediate.dense.bias\n",
            "rembert.encoder.layer.10.output.dense.weight\n",
            "rembert.encoder.layer.10.output.dense.bias\n",
            "rembert.encoder.layer.10.output.LayerNorm.weight\n",
            "rembert.encoder.layer.10.output.LayerNorm.bias\n",
            "rembert.encoder.layer.11.attention.self.query.weight\n",
            "rembert.encoder.layer.11.attention.self.query.bias\n",
            "rembert.encoder.layer.11.attention.self.key.weight\n",
            "rembert.encoder.layer.11.attention.self.key.bias\n",
            "rembert.encoder.layer.11.attention.self.value.weight\n",
            "rembert.encoder.layer.11.attention.self.value.bias\n",
            "rembert.encoder.layer.11.attention.output.dense.weight\n",
            "rembert.encoder.layer.11.attention.output.dense.bias\n",
            "rembert.encoder.layer.11.attention.output.LayerNorm.weight\n",
            "rembert.encoder.layer.11.attention.output.LayerNorm.bias\n",
            "rembert.encoder.layer.11.intermediate.dense.weight\n",
            "rembert.encoder.layer.11.intermediate.dense.bias\n",
            "rembert.encoder.layer.11.output.dense.weight\n",
            "rembert.encoder.layer.11.output.dense.bias\n",
            "rembert.encoder.layer.11.output.LayerNorm.weight\n",
            "rembert.encoder.layer.11.output.LayerNorm.bias\n",
            "rembert.encoder.layer.12.attention.self.query.weight\n",
            "rembert.encoder.layer.12.attention.self.query.bias\n",
            "rembert.encoder.layer.12.attention.self.key.weight\n",
            "rembert.encoder.layer.12.attention.self.key.bias\n",
            "rembert.encoder.layer.12.attention.self.value.weight\n",
            "rembert.encoder.layer.12.attention.self.value.bias\n",
            "rembert.encoder.layer.12.attention.output.dense.weight\n",
            "rembert.encoder.layer.12.attention.output.dense.bias\n",
            "rembert.encoder.layer.12.attention.output.LayerNorm.weight\n",
            "rembert.encoder.layer.12.attention.output.LayerNorm.bias\n",
            "rembert.encoder.layer.12.intermediate.dense.weight\n",
            "rembert.encoder.layer.12.intermediate.dense.bias\n",
            "rembert.encoder.layer.12.output.dense.weight\n",
            "rembert.encoder.layer.12.output.dense.bias\n",
            "rembert.encoder.layer.12.output.LayerNorm.weight\n",
            "rembert.encoder.layer.12.output.LayerNorm.bias\n",
            "rembert.encoder.layer.13.attention.self.query.weight\n",
            "rembert.encoder.layer.13.attention.self.query.bias\n",
            "rembert.encoder.layer.13.attention.self.key.weight\n",
            "rembert.encoder.layer.13.attention.self.key.bias\n",
            "rembert.encoder.layer.13.attention.self.value.weight\n",
            "rembert.encoder.layer.13.attention.self.value.bias\n",
            "rembert.encoder.layer.13.attention.output.dense.weight\n",
            "rembert.encoder.layer.13.attention.output.dense.bias\n",
            "rembert.encoder.layer.13.attention.output.LayerNorm.weight\n",
            "rembert.encoder.layer.13.attention.output.LayerNorm.bias\n",
            "rembert.encoder.layer.13.intermediate.dense.weight\n",
            "rembert.encoder.layer.13.intermediate.dense.bias\n",
            "rembert.encoder.layer.13.output.dense.weight\n",
            "rembert.encoder.layer.13.output.dense.bias\n",
            "rembert.encoder.layer.13.output.LayerNorm.weight\n",
            "rembert.encoder.layer.13.output.LayerNorm.bias\n",
            "rembert.encoder.layer.14.attention.self.query.weight\n",
            "rembert.encoder.layer.14.attention.self.query.bias\n",
            "rembert.encoder.layer.14.attention.self.key.weight\n",
            "rembert.encoder.layer.14.attention.self.key.bias\n",
            "rembert.encoder.layer.14.attention.self.value.weight\n",
            "rembert.encoder.layer.14.attention.self.value.bias\n",
            "rembert.encoder.layer.14.attention.output.dense.weight\n",
            "rembert.encoder.layer.14.attention.output.dense.bias\n",
            "rembert.encoder.layer.14.attention.output.LayerNorm.weight\n",
            "rembert.encoder.layer.14.attention.output.LayerNorm.bias\n",
            "rembert.encoder.layer.14.intermediate.dense.weight\n",
            "rembert.encoder.layer.14.intermediate.dense.bias\n",
            "rembert.encoder.layer.14.output.dense.weight\n",
            "rembert.encoder.layer.14.output.dense.bias\n",
            "rembert.encoder.layer.14.output.LayerNorm.weight\n",
            "rembert.encoder.layer.14.output.LayerNorm.bias\n",
            "rembert.encoder.layer.15.attention.self.query.weight\n",
            "rembert.encoder.layer.15.attention.self.query.bias\n",
            "rembert.encoder.layer.15.attention.self.key.weight\n",
            "rembert.encoder.layer.15.attention.self.key.bias\n",
            "rembert.encoder.layer.15.attention.self.value.weight\n",
            "rembert.encoder.layer.15.attention.self.value.bias\n",
            "rembert.encoder.layer.15.attention.output.dense.weight\n",
            "rembert.encoder.layer.15.attention.output.dense.bias\n",
            "rembert.encoder.layer.15.attention.output.LayerNorm.weight\n",
            "rembert.encoder.layer.15.attention.output.LayerNorm.bias\n",
            "rembert.encoder.layer.15.intermediate.dense.weight\n",
            "rembert.encoder.layer.15.intermediate.dense.bias\n",
            "rembert.encoder.layer.15.output.dense.weight\n",
            "rembert.encoder.layer.15.output.dense.bias\n",
            "rembert.encoder.layer.15.output.LayerNorm.weight\n",
            "rembert.encoder.layer.15.output.LayerNorm.bias\n",
            "rembert.encoder.layer.16.attention.self.query.weight\n",
            "rembert.encoder.layer.16.attention.self.query.bias\n",
            "rembert.encoder.layer.16.attention.self.key.weight\n",
            "rembert.encoder.layer.16.attention.self.key.bias\n",
            "rembert.encoder.layer.16.attention.self.value.weight\n",
            "rembert.encoder.layer.16.attention.self.value.bias\n",
            "rembert.encoder.layer.16.attention.output.dense.weight\n",
            "rembert.encoder.layer.16.attention.output.dense.bias\n",
            "rembert.encoder.layer.16.attention.output.LayerNorm.weight\n",
            "rembert.encoder.layer.16.attention.output.LayerNorm.bias\n",
            "rembert.encoder.layer.16.intermediate.dense.weight\n",
            "rembert.encoder.layer.16.intermediate.dense.bias\n",
            "rembert.encoder.layer.16.output.dense.weight\n",
            "rembert.encoder.layer.16.output.dense.bias\n",
            "rembert.encoder.layer.16.output.LayerNorm.weight\n",
            "rembert.encoder.layer.16.output.LayerNorm.bias\n",
            "rembert.encoder.layer.17.attention.self.query.weight\n",
            "rembert.encoder.layer.17.attention.self.query.bias\n",
            "rembert.encoder.layer.17.attention.self.key.weight\n",
            "rembert.encoder.layer.17.attention.self.key.bias\n",
            "rembert.encoder.layer.17.attention.self.value.weight\n",
            "rembert.encoder.layer.17.attention.self.value.bias\n",
            "rembert.encoder.layer.17.attention.output.dense.weight\n",
            "rembert.encoder.layer.17.attention.output.dense.bias\n",
            "rembert.encoder.layer.17.attention.output.LayerNorm.weight\n",
            "rembert.encoder.layer.17.attention.output.LayerNorm.bias\n",
            "rembert.encoder.layer.17.intermediate.dense.weight\n",
            "rembert.encoder.layer.17.intermediate.dense.bias\n",
            "rembert.encoder.layer.17.output.dense.weight\n",
            "rembert.encoder.layer.17.output.dense.bias\n",
            "rembert.encoder.layer.17.output.LayerNorm.weight\n",
            "rembert.encoder.layer.17.output.LayerNorm.bias\n",
            "rembert.encoder.layer.18.attention.self.query.weight\n",
            "rembert.encoder.layer.18.attention.self.query.bias\n",
            "rembert.encoder.layer.18.attention.self.key.weight\n",
            "rembert.encoder.layer.18.attention.self.key.bias\n",
            "rembert.encoder.layer.18.attention.self.value.weight\n",
            "rembert.encoder.layer.18.attention.self.value.bias\n",
            "rembert.encoder.layer.18.attention.output.dense.weight\n",
            "rembert.encoder.layer.18.attention.output.dense.bias\n",
            "rembert.encoder.layer.18.attention.output.LayerNorm.weight\n",
            "rembert.encoder.layer.18.attention.output.LayerNorm.bias\n",
            "rembert.encoder.layer.18.intermediate.dense.weight\n",
            "rembert.encoder.layer.18.intermediate.dense.bias\n",
            "rembert.encoder.layer.18.output.dense.weight\n",
            "rembert.encoder.layer.18.output.dense.bias\n",
            "rembert.encoder.layer.18.output.LayerNorm.weight\n",
            "rembert.encoder.layer.18.output.LayerNorm.bias\n",
            "rembert.encoder.layer.19.attention.self.query.weight\n",
            "rembert.encoder.layer.19.attention.self.query.bias\n",
            "rembert.encoder.layer.19.attention.self.key.weight\n",
            "rembert.encoder.layer.19.attention.self.key.bias\n",
            "rembert.encoder.layer.19.attention.self.value.weight\n",
            "rembert.encoder.layer.19.attention.self.value.bias\n",
            "rembert.encoder.layer.19.attention.output.dense.weight\n",
            "rembert.encoder.layer.19.attention.output.dense.bias\n",
            "rembert.encoder.layer.19.attention.output.LayerNorm.weight\n",
            "rembert.encoder.layer.19.attention.output.LayerNorm.bias\n",
            "rembert.encoder.layer.19.intermediate.dense.weight\n",
            "rembert.encoder.layer.19.intermediate.dense.bias\n",
            "rembert.encoder.layer.19.output.dense.weight\n",
            "rembert.encoder.layer.19.output.dense.bias\n",
            "rembert.encoder.layer.19.output.LayerNorm.weight\n",
            "rembert.encoder.layer.19.output.LayerNorm.bias\n",
            "rembert.encoder.layer.20.attention.self.query.weight\n",
            "rembert.encoder.layer.20.attention.self.query.bias\n",
            "rembert.encoder.layer.20.attention.self.key.weight\n",
            "rembert.encoder.layer.20.attention.self.key.bias\n",
            "rembert.encoder.layer.20.attention.self.value.weight\n",
            "rembert.encoder.layer.20.attention.self.value.bias\n",
            "rembert.encoder.layer.20.attention.output.dense.weight\n",
            "rembert.encoder.layer.20.attention.output.dense.bias\n",
            "rembert.encoder.layer.20.attention.output.LayerNorm.weight\n",
            "rembert.encoder.layer.20.attention.output.LayerNorm.bias\n",
            "rembert.encoder.layer.20.intermediate.dense.weight\n",
            "rembert.encoder.layer.20.intermediate.dense.bias\n",
            "rembert.encoder.layer.20.output.dense.weight\n",
            "rembert.encoder.layer.20.output.dense.bias\n",
            "rembert.encoder.layer.20.output.LayerNorm.weight\n",
            "rembert.encoder.layer.20.output.LayerNorm.bias\n",
            "rembert.encoder.layer.21.attention.self.query.weight\n",
            "rembert.encoder.layer.21.attention.self.query.bias\n",
            "rembert.encoder.layer.21.attention.self.key.weight\n",
            "rembert.encoder.layer.21.attention.self.key.bias\n",
            "rembert.encoder.layer.21.attention.self.value.weight\n",
            "rembert.encoder.layer.21.attention.self.value.bias\n",
            "rembert.encoder.layer.21.attention.output.dense.weight\n",
            "rembert.encoder.layer.21.attention.output.dense.bias\n",
            "rembert.encoder.layer.21.attention.output.LayerNorm.weight\n",
            "rembert.encoder.layer.21.attention.output.LayerNorm.bias\n",
            "rembert.encoder.layer.21.intermediate.dense.weight\n",
            "rembert.encoder.layer.21.intermediate.dense.bias\n",
            "rembert.encoder.layer.21.output.dense.weight\n",
            "rembert.encoder.layer.21.output.dense.bias\n",
            "rembert.encoder.layer.21.output.LayerNorm.weight\n",
            "rembert.encoder.layer.21.output.LayerNorm.bias\n",
            "rembert.encoder.layer.22.attention.self.query.weight\n",
            "rembert.encoder.layer.22.attention.self.query.bias\n",
            "rembert.encoder.layer.22.attention.self.key.weight\n",
            "rembert.encoder.layer.22.attention.self.key.bias\n",
            "rembert.encoder.layer.22.attention.self.value.weight\n",
            "rembert.encoder.layer.22.attention.self.value.bias\n",
            "rembert.encoder.layer.22.attention.output.dense.weight\n",
            "rembert.encoder.layer.22.attention.output.dense.bias\n",
            "rembert.encoder.layer.22.attention.output.LayerNorm.weight\n",
            "rembert.encoder.layer.22.attention.output.LayerNorm.bias\n",
            "rembert.encoder.layer.22.intermediate.dense.weight\n",
            "rembert.encoder.layer.22.intermediate.dense.bias\n",
            "rembert.encoder.layer.22.output.dense.weight\n",
            "rembert.encoder.layer.22.output.dense.bias\n",
            "rembert.encoder.layer.22.output.LayerNorm.weight\n",
            "rembert.encoder.layer.22.output.LayerNorm.bias\n",
            "rembert.encoder.layer.23.attention.self.query.weight\n",
            "rembert.encoder.layer.23.attention.self.query.bias\n",
            "rembert.encoder.layer.23.attention.self.key.weight\n",
            "rembert.encoder.layer.23.attention.self.key.bias\n",
            "rembert.encoder.layer.23.attention.self.value.weight\n",
            "rembert.encoder.layer.23.attention.self.value.bias\n",
            "rembert.encoder.layer.23.attention.output.dense.weight\n",
            "rembert.encoder.layer.23.attention.output.dense.bias\n",
            "rembert.encoder.layer.23.attention.output.LayerNorm.weight\n",
            "rembert.encoder.layer.23.attention.output.LayerNorm.bias\n",
            "rembert.encoder.layer.23.intermediate.dense.weight\n",
            "rembert.encoder.layer.23.intermediate.dense.bias\n",
            "rembert.encoder.layer.23.output.dense.weight\n",
            "rembert.encoder.layer.23.output.dense.bias\n",
            "rembert.encoder.layer.23.output.LayerNorm.weight\n",
            "rembert.encoder.layer.23.output.LayerNorm.bias\n",
            "rembert.encoder.layer.24.attention.self.query.weight\n",
            "rembert.encoder.layer.24.attention.self.query.bias\n",
            "rembert.encoder.layer.24.attention.self.key.weight\n",
            "rembert.encoder.layer.24.attention.self.key.bias\n",
            "rembert.encoder.layer.24.attention.self.value.weight\n",
            "rembert.encoder.layer.24.attention.self.value.bias\n",
            "rembert.encoder.layer.24.attention.output.dense.weight\n",
            "rembert.encoder.layer.24.attention.output.dense.bias\n",
            "rembert.encoder.layer.24.attention.output.LayerNorm.weight\n",
            "rembert.encoder.layer.24.attention.output.LayerNorm.bias\n",
            "rembert.encoder.layer.24.intermediate.dense.weight\n",
            "rembert.encoder.layer.24.intermediate.dense.bias\n",
            "rembert.encoder.layer.24.output.dense.weight\n",
            "rembert.encoder.layer.24.output.dense.bias\n",
            "rembert.encoder.layer.24.output.LayerNorm.weight\n",
            "rembert.encoder.layer.24.output.LayerNorm.bias\n",
            "rembert.encoder.layer.25.attention.self.query.weight\n",
            "rembert.encoder.layer.25.attention.self.query.bias\n",
            "rembert.encoder.layer.25.attention.self.key.weight\n",
            "rembert.encoder.layer.25.attention.self.key.bias\n",
            "rembert.encoder.layer.25.attention.self.value.weight\n",
            "rembert.encoder.layer.25.attention.self.value.bias\n",
            "rembert.encoder.layer.25.attention.output.dense.weight\n",
            "rembert.encoder.layer.25.attention.output.dense.bias\n",
            "rembert.encoder.layer.25.attention.output.LayerNorm.weight\n",
            "rembert.encoder.layer.25.attention.output.LayerNorm.bias\n",
            "rembert.encoder.layer.25.intermediate.dense.weight\n",
            "rembert.encoder.layer.25.intermediate.dense.bias\n",
            "rembert.encoder.layer.25.output.dense.weight\n",
            "rembert.encoder.layer.25.output.dense.bias\n",
            "rembert.encoder.layer.25.output.LayerNorm.weight\n",
            "rembert.encoder.layer.25.output.LayerNorm.bias\n",
            "rembert.encoder.layer.26.attention.self.query.weight\n",
            "rembert.encoder.layer.26.attention.self.query.bias\n",
            "rembert.encoder.layer.26.attention.self.key.weight\n",
            "rembert.encoder.layer.26.attention.self.key.bias\n",
            "rembert.encoder.layer.26.attention.self.value.weight\n",
            "rembert.encoder.layer.26.attention.self.value.bias\n",
            "rembert.encoder.layer.26.attention.output.dense.weight\n",
            "rembert.encoder.layer.26.attention.output.dense.bias\n",
            "rembert.encoder.layer.26.attention.output.LayerNorm.weight\n",
            "rembert.encoder.layer.26.attention.output.LayerNorm.bias\n",
            "rembert.encoder.layer.26.intermediate.dense.weight\n",
            "rembert.encoder.layer.26.intermediate.dense.bias\n",
            "rembert.encoder.layer.26.output.dense.weight\n",
            "rembert.encoder.layer.26.output.dense.bias\n",
            "rembert.encoder.layer.26.output.LayerNorm.weight\n",
            "rembert.encoder.layer.26.output.LayerNorm.bias\n",
            "rembert.encoder.layer.27.attention.self.query.weight\n",
            "rembert.encoder.layer.27.attention.self.query.bias\n",
            "rembert.encoder.layer.27.attention.self.key.weight\n",
            "rembert.encoder.layer.27.attention.self.key.bias\n",
            "rembert.encoder.layer.27.attention.self.value.weight\n",
            "rembert.encoder.layer.27.attention.self.value.bias\n",
            "rembert.encoder.layer.27.attention.output.dense.weight\n",
            "rembert.encoder.layer.27.attention.output.dense.bias\n",
            "rembert.encoder.layer.27.attention.output.LayerNorm.weight\n",
            "rembert.encoder.layer.27.attention.output.LayerNorm.bias\n",
            "rembert.encoder.layer.27.intermediate.dense.weight\n",
            "rembert.encoder.layer.27.intermediate.dense.bias\n",
            "rembert.encoder.layer.27.output.dense.weight\n",
            "rembert.encoder.layer.27.output.dense.bias\n",
            "rembert.encoder.layer.27.output.LayerNorm.weight\n",
            "rembert.encoder.layer.27.output.LayerNorm.bias\n",
            "rembert.encoder.layer.28.attention.self.query.weight\n",
            "rembert.encoder.layer.28.attention.self.query.bias\n",
            "rembert.encoder.layer.28.attention.self.key.weight\n",
            "rembert.encoder.layer.28.attention.self.key.bias\n",
            "rembert.encoder.layer.28.attention.self.value.weight\n",
            "rembert.encoder.layer.28.attention.self.value.bias\n",
            "rembert.encoder.layer.28.attention.output.dense.weight\n",
            "rembert.encoder.layer.28.attention.output.dense.bias\n",
            "rembert.encoder.layer.28.attention.output.LayerNorm.weight\n",
            "rembert.encoder.layer.28.attention.output.LayerNorm.bias\n",
            "rembert.encoder.layer.28.intermediate.dense.weight\n",
            "rembert.encoder.layer.28.intermediate.dense.bias\n",
            "rembert.encoder.layer.28.output.dense.weight\n",
            "rembert.encoder.layer.28.output.dense.bias\n",
            "rembert.encoder.layer.28.output.LayerNorm.weight\n",
            "rembert.encoder.layer.28.output.LayerNorm.bias\n",
            "rembert.encoder.layer.29.attention.self.query.weight\n",
            "rembert.encoder.layer.29.attention.self.query.bias\n",
            "rembert.encoder.layer.29.attention.self.key.weight\n",
            "rembert.encoder.layer.29.attention.self.key.bias\n",
            "rembert.encoder.layer.29.attention.self.value.weight\n",
            "rembert.encoder.layer.29.attention.self.value.bias\n",
            "rembert.encoder.layer.29.attention.output.dense.weight\n",
            "rembert.encoder.layer.29.attention.output.dense.bias\n",
            "rembert.encoder.layer.29.attention.output.LayerNorm.weight\n",
            "rembert.encoder.layer.29.attention.output.LayerNorm.bias\n",
            "rembert.encoder.layer.29.intermediate.dense.weight\n",
            "rembert.encoder.layer.29.intermediate.dense.bias\n",
            "rembert.encoder.layer.29.output.dense.weight\n",
            "rembert.encoder.layer.29.output.dense.bias\n",
            "rembert.encoder.layer.29.output.LayerNorm.weight\n",
            "rembert.encoder.layer.29.output.LayerNorm.bias\n",
            "rembert.encoder.layer.30.attention.self.query.weight\n",
            "rembert.encoder.layer.30.attention.self.query.bias\n",
            "rembert.encoder.layer.30.attention.self.key.weight\n",
            "rembert.encoder.layer.30.attention.self.key.bias\n",
            "rembert.encoder.layer.30.attention.self.value.weight\n",
            "rembert.encoder.layer.30.attention.self.value.bias\n",
            "rembert.encoder.layer.30.attention.output.dense.weight\n",
            "rembert.encoder.layer.30.attention.output.dense.bias\n",
            "rembert.encoder.layer.30.attention.output.LayerNorm.weight\n",
            "rembert.encoder.layer.30.attention.output.LayerNorm.bias\n",
            "rembert.encoder.layer.30.intermediate.dense.weight\n",
            "rembert.encoder.layer.30.intermediate.dense.bias\n",
            "rembert.encoder.layer.30.output.dense.weight\n",
            "rembert.encoder.layer.30.output.dense.bias\n",
            "rembert.encoder.layer.30.output.LayerNorm.weight\n",
            "rembert.encoder.layer.30.output.LayerNorm.bias\n",
            "rembert.encoder.layer.31.attention.self.query.weight\n",
            "rembert.encoder.layer.31.attention.self.query.bias\n",
            "rembert.encoder.layer.31.attention.self.key.weight\n",
            "rembert.encoder.layer.31.attention.self.key.bias\n",
            "rembert.encoder.layer.31.attention.self.value.weight\n",
            "rembert.encoder.layer.31.attention.self.value.bias\n",
            "rembert.encoder.layer.31.attention.output.dense.weight\n",
            "rembert.encoder.layer.31.attention.output.dense.bias\n",
            "rembert.encoder.layer.31.attention.output.LayerNorm.weight\n",
            "rembert.encoder.layer.31.attention.output.LayerNorm.bias\n",
            "rembert.encoder.layer.31.intermediate.dense.weight\n",
            "rembert.encoder.layer.31.intermediate.dense.bias\n",
            "rembert.encoder.layer.31.output.dense.weight\n",
            "rembert.encoder.layer.31.output.dense.bias\n",
            "rembert.encoder.layer.31.output.LayerNorm.weight\n",
            "rembert.encoder.layer.31.output.LayerNorm.bias\n",
            "rembert.pooler.dense.weight\n",
            "rembert.pooler.dense.bias\n",
            "classifier.weight\n",
            "classifier.bias\n"
          ]
        }
      ],
      "source": [
        "for name, param in model.named_parameters():\n",
        "    print(name)"
      ]
    },
    {
      "cell_type": "code",
      "execution_count": 52,
      "id": "vYNoPAf-uvYG",
      "metadata": {
        "id": "vYNoPAf-uvYG"
      },
      "outputs": [],
      "source": [
        "# Freeze all of the pre-trained BERT layers to make the fine tuning go much faster.\n",
        "# Then later we'll try unfreezing some or all layers and see what works better.\n",
        "# We need to keep the final classification layer unfrozen no matter what,\n",
        "# because that's a new layer that hasn't been trained at all yet, and needs to be trained for our task.\n",
        "\n",
        "\n",
        "for name, param in model.named_parameters():\n",
        "    param.requires_grad = False"
      ]
    },
    {
      "cell_type": "code",
      "execution_count": 53,
      "id": "wthrZy4Au1AE",
      "metadata": {
        "id": "wthrZy4Au1AE",
        "colab": {
          "base_uri": "https://localhost:8080/",
          "height": 0
        },
        "outputId": "c94a6571-0a26-4655-d311-ef69f233521d"
      },
      "outputs": [
        {
          "output_type": "execute_result",
          "data": {
            "text/plain": [
              "=====================================================================================\n",
              "Layer (type:depth-idx)                                       Param #\n",
              "=====================================================================================\n",
              "RemBertForSequenceClassification                             --\n",
              "├─RemBertModel: 1-1                                          --\n",
              "│    └─RemBertEmbeddings: 2-1                                --\n",
              "│    │    └─Embedding: 3-1                                   (64,076,800)\n",
              "│    │    └─Embedding: 3-2                                   (131,072)\n",
              "│    │    └─Embedding: 3-3                                   (512)\n",
              "│    │    └─LayerNorm: 3-4                                   (512)\n",
              "│    │    └─Dropout: 3-5                                     --\n",
              "│    └─RemBertEncoder: 2-2                                   --\n",
              "│    │    └─Linear: 3-6                                      (296,064)\n",
              "│    │    └─ModuleList: 3-7                                  (510,087,168)\n",
              "│    └─RemBertPooler: 2-3                                    --\n",
              "│    │    └─Linear: 3-8                                      (1,328,256)\n",
              "│    │    └─Tanh: 3-9                                        --\n",
              "├─Dropout: 1-2                                               --\n",
              "├─Linear: 1-3                                                (41,508)\n",
              "=====================================================================================\n",
              "Total params: 575,961,892\n",
              "Trainable params: 0\n",
              "Non-trainable params: 575,961,892\n",
              "====================================================================================="
            ]
          },
          "metadata": {},
          "execution_count": 53
        }
      ],
      "source": [
        "summary(model)"
      ]
    },
    {
      "cell_type": "code",
      "execution_count": 54,
      "id": "Rjk99d1E4ua0",
      "metadata": {
        "id": "Rjk99d1E4ua0"
      },
      "outputs": [],
      "source": [
        "from sklearn.metrics import f1_score, roc_auc_score, accuracy_score, precision_score, recall_score, balanced_accuracy_score\n",
        "from transformers import EvalPrediction\n",
        "import torch\n",
        "import numpy as np # Import numpy\n",
        "\n",
        "def multi_label_metrics(predictions, labels, threshold=0.5):\n",
        "    # first, apply sigmoid on predictions which are of shape (batch_size, num_labels)\n",
        "    sigmoid = torch.nn.Sigmoid()\n",
        "    probs = sigmoid(torch.Tensor(predictions))\n",
        "    # next, use threshold to turn them into integer predictions\n",
        "    y_pred = np.zeros(probs.shape)\n",
        "    y_pred[np.where(probs >= threshold)] = 1\n",
        "    # finally, compute metrics\n",
        "    y_true = labels.astype(int) # Ensure labels are integers\n",
        "    f1_micro_average = f1_score(y_true=y_true, y_pred=y_pred, average='micro')\n",
        "    roc_auc = roc_auc_score(y_true, y_pred, average = 'micro')\n",
        "    accuracy = accuracy_score(y_true, y_pred)\n",
        "    balanced_accuracy = balanced_accuracy_score(y_true.flatten(), y_pred.flatten())\n",
        "    precision = precision_score(y_true=y_true, y_pred=y_pred, average='micro', zero_division=0)\n",
        "    recall = recall_score(y_true=y_true, y_pred=y_pred, average='micro', zero_division=0)\n",
        "    # return as dictionary\n",
        "    metrics = {'f1': f1_micro_average,\n",
        "               'roc_auc': roc_auc,\n",
        "               'accuracy': accuracy,\n",
        "               'balanced_accuracy': balanced_accuracy,\n",
        "               'precision': precision,\n",
        "               'recall': recall}\n",
        "    return metrics\n",
        "\n",
        "def compute_metrics(p: EvalPrediction):\n",
        "    preds = p.predictions[0] if isinstance(p.predictions,\n",
        "            tuple) else p.predictions\n",
        "\n",
        "    # Ensure labels are a 2D numpy array of integers\n",
        "    labels_np = np.array(p.label_ids)\n",
        "    if labels_np.ndim == 1:\n",
        "        # This might happen if the batch size is 1, reshape to (1, num_labels)\n",
        "        labels_np = labels_np.reshape(1, -1)\n",
        "    elif labels_np.ndim > 2:\n",
        "        # Handle cases where labels might have extra dimensions unexpectedly\n",
        "        # This might require more specific reshaping based on the actual structure\n",
        "        # For now, let's assume the expected shape is (batch_size, num_labels)\n",
        "        # and try to flatten and reshape if necessary.\n",
        "        # A safer approach might be to raise an error or log a warning here.\n",
        "        print(f\"Warning: Unexpected label dimension: {labels_np.ndim}\")\n",
        "        # Attempt to flatten and reshape - adjust if your data structure is different\n",
        "        labels_np = labels_np.reshape(labels_np.shape[0], -1)\n",
        "\n",
        "\n",
        "    result = multi_label_metrics(\n",
        "        predictions=preds,\n",
        "        labels=labels_np)\n",
        "    return result"
      ]
    },
    {
      "cell_type": "code",
      "execution_count": 55,
      "id": "9elP4nZpvMjf",
      "metadata": {
        "id": "9elP4nZpvMjf",
        "colab": {
          "base_uri": "https://localhost:8080/",
          "height": 0
        },
        "outputId": "e1d13b51-0618-48e0-bc1c-c6d615279ddf"
      },
      "outputs": [
        {
          "output_type": "stream",
          "name": "stdout",
          "text": [
            "Sample example after setting format:\n",
            "{'input_ids': [312, 573, 8671, 114741, 573, 81901, 2262, 14900, 573, 43540, 3902, 313, 0, 0, 0, 0, 0, 0, 0, 0, 0, 0, 0, 0, 0, 0, 0, 0, 0, 0, 0, 0, 0, 0, 0, 0, 0, 0, 0, 0, 0, 0, 0, 0, 0, 0, 0, 0, 0, 0, 0, 0, 0, 0, 0, 0, 0, 0, 0, 0, 0, 0, 0, 0, 0, 0, 0, 0, 0, 0, 0, 0, 0, 0, 0, 0, 0, 0, 0, 0, 0, 0, 0, 0, 0, 0, 0, 0, 0, 0, 0, 0, 0, 0, 0, 0, 0, 0, 0, 0, 0, 0, 0, 0, 0, 0, 0, 0, 0, 0, 0, 0, 0, 0, 0, 0, 0, 0, 0, 0, 0, 0, 0, 0, 0, 0, 0, 0, 0, 0, 0, 0, 0, 0, 0, 0, 0, 0, 0, 0, 0, 0, 0, 0, 0, 0, 0, 0, 0, 0], 'token_type_ids': [0, 0, 0, 0, 0, 0, 0, 0, 0, 0, 0, 0, 0, 0, 0, 0, 0, 0, 0, 0, 0, 0, 0, 0, 0, 0, 0, 0, 0, 0, 0, 0, 0, 0, 0, 0, 0, 0, 0, 0, 0, 0, 0, 0, 0, 0, 0, 0, 0, 0, 0, 0, 0, 0, 0, 0, 0, 0, 0, 0, 0, 0, 0, 0, 0, 0, 0, 0, 0, 0, 0, 0, 0, 0, 0, 0, 0, 0, 0, 0, 0, 0, 0, 0, 0, 0, 0, 0, 0, 0, 0, 0, 0, 0, 0, 0, 0, 0, 0, 0, 0, 0, 0, 0, 0, 0, 0, 0, 0, 0, 0, 0, 0, 0, 0, 0, 0, 0, 0, 0, 0, 0, 0, 0, 0, 0, 0, 0, 0, 0, 0, 0, 0, 0, 0, 0, 0, 0, 0, 0, 0, 0, 0, 0, 0, 0, 0, 0, 0, 0], 'attention_mask': [1, 1, 1, 1, 1, 1, 1, 1, 1, 1, 1, 1, 0, 0, 0, 0, 0, 0, 0, 0, 0, 0, 0, 0, 0, 0, 0, 0, 0, 0, 0, 0, 0, 0, 0, 0, 0, 0, 0, 0, 0, 0, 0, 0, 0, 0, 0, 0, 0, 0, 0, 0, 0, 0, 0, 0, 0, 0, 0, 0, 0, 0, 0, 0, 0, 0, 0, 0, 0, 0, 0, 0, 0, 0, 0, 0, 0, 0, 0, 0, 0, 0, 0, 0, 0, 0, 0, 0, 0, 0, 0, 0, 0, 0, 0, 0, 0, 0, 0, 0, 0, 0, 0, 0, 0, 0, 0, 0, 0, 0, 0, 0, 0, 0, 0, 0, 0, 0, 0, 0, 0, 0, 0, 0, 0, 0, 0, 0, 0, 0, 0, 0, 0, 0, 0, 0, 0, 0, 0, 0, 0, 0, 0, 0, 0, 0, 0, 0, 0, 0], 'labels': [0.0, 0.0, 0.0, 0.0, 0.0, 0.0, 1.0, 0.0, 0.0, 0.0, 0.0, 1.0, 0.0, 0.0, 1.0, 0.0, 0.0, 0.0, 0.0, 0.0, 0.0, 0.0, 0.0, 0.0, 0.0, 0.0, 0.0, 0.0, 0.0, 0.0, 0.0, 1.0, 0.0, 0.0, 0.0, 0.0]}\n"
          ]
        },
        {
          "output_type": "stream",
          "name": "stderr",
          "text": [
            "/usr/local/lib/python3.11/dist-packages/torch/nn/modules/module.py:1750: FutureWarning: `encoder_attention_mask` is deprecated and will be removed in version 4.55.0 for `RemBertSelfAttention.forward`.\n",
            "  return forward_call(*args, **kwargs)\n"
          ]
        },
        {
          "output_type": "execute_result",
          "data": {
            "text/plain": [
              "SequenceClassifierOutput(loss=tensor(0.7535), logits=tensor([[-0.2799, -0.3151,  0.8649,  0.3950,  0.2614, -0.4922, -0.3236, -0.2243,\n",
              "         -0.2121,  0.2648, -0.3675, -0.0303, -0.4708, -0.2490, -0.4608, -0.3320,\n",
              "          0.4749, -0.1872,  0.3276,  0.2692,  0.3096,  0.0181,  0.3458,  0.0630,\n",
              "          0.3048, -0.2772, -0.0727,  0.2668,  0.3362,  0.2457,  0.1611, -0.1097,\n",
              "          0.6262, -0.3119, -0.0015,  0.5973]]), hidden_states=None, attentions=None)"
            ]
          },
          "metadata": {},
          "execution_count": 55
        }
      ],
      "source": [
        "#forward pass\n",
        "# # Check the type of the data after setting the format\n",
        "# print(f\"Type of input_ids[0]: {encoded_dataset['train']['input_ids'][0].type()}\")\n",
        "# print(f\"Type of labels[0]: {encoded_dataset['train'][0]['hatespeech_labels'].type()}\")\n",
        "\n",
        "# Also print a sample example to see the structure\n",
        "print(\"Sample example after setting format:\")\n",
        "print(encoded_dataset['train'][0])\n",
        "\n",
        "# Manually get a sample and prepare input for the model\n",
        "sample = encoded_dataset['train'][0]\n",
        "\n",
        "# Convert lists to PyTorch tensors before unsqueezing\n",
        "input_ids_tensor = torch.tensor(sample['input_ids']).unsqueeze(0)\n",
        "attention_mask_tensor = torch.tensor(sample['attention_mask']).unsqueeze(0)\n",
        "labels_tensor = torch.tensor(sample['labels']).unsqueeze(0)\n",
        "\n",
        "# Move tensors to the same device as the model\n",
        "device = model.device\n",
        "input_ids_tensor = input_ids_tensor.to(device)\n",
        "attention_mask_tensor = attention_mask_tensor.to(device)\n",
        "labels_tensor = labels_tensor.to(device)\n",
        "\n",
        "\n",
        "outputs = model(input_ids=input_ids_tensor, attention_mask=attention_mask_tensor, labels=labels_tensor)\n",
        "outputs"
      ]
    },
    {
      "cell_type": "markdown",
      "id": "QS8szdjs59gl",
      "metadata": {
        "id": "QS8szdjs59gl"
      },
      "source": [
        "# 1. Increase batch size and unfreeze layer 31"
      ]
    },
    {
      "cell_type": "code",
      "execution_count": 56,
      "id": "SRCZgZAa4QmL",
      "metadata": {
        "id": "SRCZgZAa4QmL"
      },
      "outputs": [],
      "source": [
        "from transformers import TrainingArguments, Trainer\n",
        "from transformers import EarlyStoppingCallback\n",
        "\n",
        "batch_size = 8 # 128 # nadaa said to lower batch size\n",
        "metric_name = \"eval_f1\"\n",
        "\n",
        "args = TrainingArguments(\n",
        "    f\"google/rembert\",\n",
        "    eval_strategy = \"epoch\",\n",
        "    save_strategy = \"epoch\",\n",
        "    learning_rate=4e-5,\n",
        "    per_device_train_batch_size=batch_size,\n",
        "    per_device_eval_batch_size=batch_size,\n",
        "    num_train_epochs=5,\n",
        "    weight_decay=0.01,\n",
        "    load_best_model_at_end=True,\n",
        "    metric_for_best_model=metric_name,\n",
        "    logging_steps=100, # Set logging steps to a smaller value\n",
        "    greater_is_better=True, # F1 score is better when higher\n",
        "    report_to='none' # Disable reporting to wandb for this example\n",
        ")\n",
        "\n",
        "# Add EarlyStoppingCallback\n",
        "early_stopping_callback = EarlyStoppingCallback(\n",
        "    early_stopping_patience=3, # Number of evaluation epochs to wait before stopping\n",
        "    early_stopping_threshold=0.0 # Minimum improvement to consider as progress\n",
        ")"
      ]
    },
    {
      "cell_type": "code",
      "execution_count": 57,
      "id": "zJCgqW7sgsiJ",
      "metadata": {
        "id": "zJCgqW7sgsiJ",
        "colab": {
          "base_uri": "https://localhost:8080/",
          "height": 0
        },
        "outputId": "dede511b-c6dc-4657-e21b-facf2e2901ea"
      },
      "outputs": [
        {
          "output_type": "execute_result",
          "data": {
            "text/plain": [
              "=====================================================================================\n",
              "Layer (type:depth-idx)                                       Param #\n",
              "=====================================================================================\n",
              "RemBertForSequenceClassification                             --\n",
              "├─RemBertModel: 1-1                                          --\n",
              "│    └─RemBertEmbeddings: 2-1                                --\n",
              "│    │    └─Embedding: 3-1                                   (64,076,800)\n",
              "│    │    └─Embedding: 3-2                                   (131,072)\n",
              "│    │    └─Embedding: 3-3                                   (512)\n",
              "│    │    └─LayerNorm: 3-4                                   (512)\n",
              "│    │    └─Dropout: 3-5                                     --\n",
              "│    └─RemBertEncoder: 2-2                                   --\n",
              "│    │    └─Linear: 3-6                                      (296,064)\n",
              "│    │    └─ModuleList: 3-7                                  510,087,168\n",
              "│    └─RemBertPooler: 2-3                                    --\n",
              "│    │    └─Linear: 3-8                                      (1,328,256)\n",
              "│    │    └─Tanh: 3-9                                        --\n",
              "├─Dropout: 1-2                                               --\n",
              "├─Linear: 1-3                                                41,508\n",
              "=====================================================================================\n",
              "Total params: 575,961,892\n",
              "Trainable params: 15,981,732\n",
              "Non-trainable params: 559,980,160\n",
              "====================================================================================="
            ]
          },
          "metadata": {},
          "execution_count": 57
        }
      ],
      "source": [
        "# Unfreeze classifier, pooler, and layer 31\n",
        "\n",
        "for name, param in model.named_parameters():\n",
        "    if name.split(\".\")[0] == \"rembert\" and \"encoder.layer.31\" in name:\n",
        "        param.requires_grad = True\n",
        "    elif name in [\"pre_classifier.weight\", \"pre_classifier.bias\", \"classifier.weight\", \"classifier.bias\"]:\n",
        "        param.requires_grad = True\n",
        "    else:\n",
        "        param.requires_grad = False\n",
        "\n",
        "summary(model)"
      ]
    },
    {
      "cell_type": "code",
      "execution_count": 58,
      "id": "CucouWT25Sdd",
      "metadata": {
        "id": "CucouWT25Sdd",
        "colab": {
          "base_uri": "https://localhost:8080/",
          "height": 0
        },
        "outputId": "38451559-6162-4fd6-fa8a-e6dd0fc3c0e1"
      },
      "outputs": [
        {
          "output_type": "stream",
          "name": "stderr",
          "text": [
            "/tmp/ipython-input-3132099784.py:1: FutureWarning: `tokenizer` is deprecated and will be removed in version 5.0.0 for `Trainer.__init__`. Use `processing_class` instead.\n",
            "  trainer = Trainer(\n"
          ]
        }
      ],
      "source": [
        "trainer = Trainer(\n",
        "    model,\n",
        "    args,\n",
        "    train_dataset=encoded_dataset[\"train\"],\n",
        "    eval_dataset=encoded_dataset[\"validation\"],\n",
        "    tokenizer=tokenizer,\n",
        "    compute_metrics=compute_metrics\n",
        ")"
      ]
    },
    {
      "cell_type": "code",
      "execution_count": 59,
      "id": "io-bvKASvUm6",
      "metadata": {
        "id": "io-bvKASvUm6",
        "colab": {
          "base_uri": "https://localhost:8080/",
          "height": 0
        },
        "outputId": "f42e2da7-2655-4777-960f-5dfee3cf3dff"
      },
      "outputs": [
        {
          "output_type": "stream",
          "name": "stdout",
          "text": [
            "[1.0, 0.0, 0.0, 0.0, 0.0, 0.0, 0.0, 0.0, 1.0, 1.0, 0.0, 0.0, 0.0, 0.0, 0.0, 1.0, 0.0, 0.0, 0.0, 0.0, 0.0, 0.0, 0.0, 0.0, 0.0, 0.0, 0.0, 1.0, 0.0, 0.0, 0.0, 0.0, 0.0, 0.0, 0.0, 0.0]\n"
          ]
        }
      ],
      "source": [
        "print(encoded_dataset['train']['labels'][13000])"
      ]
    },
    {
      "cell_type": "code",
      "execution_count": 60,
      "id": "D9iCETiVvZVV",
      "metadata": {
        "id": "D9iCETiVvZVV",
        "colab": {
          "base_uri": "https://localhost:8080/",
          "height": 108
        },
        "outputId": "1600febf-74ee-46cc-b8d1-7e55618133d3"
      },
      "outputs": [
        {
          "output_type": "error",
          "ename": "SyntaxError",
          "evalue": "invalid syntax (ipython-input-1036639294.py, line 1)",
          "traceback": [
            "\u001b[0;36m  File \u001b[0;32m\"/tmp/ipython-input-1036639294.py\"\u001b[0;36m, line \u001b[0;32m1\u001b[0m\n\u001b[0;31m    trainer.train()wd\u001b[0m\n\u001b[0m                   ^\u001b[0m\n\u001b[0;31mSyntaxError\u001b[0m\u001b[0;31m:\u001b[0m invalid syntax\n"
          ]
        }
      ],
      "source": [
        "trainer.train()wd"
      ]
    },
    {
      "cell_type": "code",
      "execution_count": null,
      "id": "YROJw66Svbe6",
      "metadata": {
        "id": "YROJw66Svbe6"
      },
      "outputs": [],
      "source": [
        "trainer.evaluate()"
      ]
    },
    {
      "cell_type": "markdown",
      "id": "oIFODyjp6ClD",
      "metadata": {
        "id": "oIFODyjp6ClD"
      },
      "source": [
        "# 2. Unfreeze layer 30"
      ]
    },
    {
      "cell_type": "code",
      "execution_count": null,
      "id": "knANuawwoKVs",
      "metadata": {
        "id": "knANuawwoKVs"
      },
      "outputs": [],
      "source": [
        "# Unfreeze classifier, pooler, and layer 4 and 5\n",
        "\n",
        "for name, param in model.named_parameters():\n",
        "    if name.split(\".\")[0] == \"rembert\" and \"encoder.layer.31\" in name:\n",
        "        param.requires_grad = True\n",
        "    elif name.split(\".\")[0] == \"rembert\" and \"encoder.layer.30\" in name:\n",
        "        param.requires_grad = True\n",
        "    elif name in [\"pre_classifier.weight\", \"pre_classifier.bias\", \"classifier.weight\", \"classifier.bias\"]:\n",
        "        param.requires_grad = True\n",
        "    else:\n",
        "        param.requires_grad = False\n",
        "\n",
        "summary(model)"
      ]
    },
    {
      "cell_type": "code",
      "execution_count": null,
      "id": "N93cZXzsopHt",
      "metadata": {
        "id": "N93cZXzsopHt"
      },
      "outputs": [],
      "source": [
        "args = TrainingArguments(\n",
        "    f'google/rembert',\n",
        "    eval_strategy = \"epoch\",\n",
        "    save_strategy = \"epoch\",\n",
        "    learning_rate=4e-5,\n",
        "    per_device_train_batch_size=batch_size,\n",
        "    per_device_eval_batch_size=batch_size,\n",
        "    num_train_epochs=5,\n",
        "    weight_decay=0.01,\n",
        "    load_best_model_at_end=True,\n",
        "    metric_for_best_model=metric_name,\n",
        "    logging_steps=100, # Set logging steps to a smaller value\n",
        "    greater_is_better=True, # F1 score is better when higher\n",
        "    report_to='none' # Disable reporting to wandb for this example\n",
        ")\n",
        "\n",
        "trainer = Trainer(\n",
        "    model,\n",
        "    args,\n",
        "    train_dataset=encoded_dataset[\"train\"],\n",
        "    eval_dataset=encoded_dataset[\"validation\"],\n",
        "    tokenizer=tokenizer,\n",
        "    compute_metrics=compute_metrics\n",
        ")\n",
        "\n",
        "trainer.train()"
      ]
    },
    {
      "cell_type": "code",
      "execution_count": null,
      "id": "0Ci4VtEAoYJY",
      "metadata": {
        "id": "0Ci4VtEAoYJY"
      },
      "outputs": [],
      "source": [
        "trainer.evaluate()"
      ]
    },
    {
      "cell_type": "markdown",
      "id": "L0pMKhqM6G-T",
      "metadata": {
        "id": "L0pMKhqM6G-T"
      },
      "source": [
        "# 3. Increase Learning Rate"
      ]
    },
    {
      "cell_type": "code",
      "execution_count": null,
      "id": "UiUXz4pAxnR5",
      "metadata": {
        "id": "UiUXz4pAxnR5"
      },
      "outputs": [],
      "source": [
        "args = TrainingArguments(\n",
        "    f'google/rembert',\n",
        "    eval_strategy = \"epoch\",\n",
        "    save_strategy = \"epoch\",\n",
        "    learning_rate=6e-5,\n",
        "    per_device_train_batch_size=batch_size,\n",
        "    per_device_eval_batch_size=batch_size,\n",
        "    num_train_epochs=5,\n",
        "    weight_decay=0.01,\n",
        "    load_best_model_at_end=True,\n",
        "    metric_for_best_model=metric_name,\n",
        "    logging_steps=100, # Set logging steps to a smaller value\n",
        "    greater_is_better=True, # F1 score is better when higher\n",
        "    report_to='none' # Disable reporting to wandb for this example\n",
        ")\n",
        "\n",
        "trainer = Trainer(\n",
        "    model,\n",
        "    args,\n",
        "    train_dataset=encoded_dataset[\"train\"],\n",
        "    eval_dataset=encoded_dataset[\"validation\"],\n",
        "    tokenizer=tokenizer,\n",
        "    compute_metrics=compute_metrics\n",
        ")\n",
        "\n",
        "trainer.train()"
      ]
    },
    {
      "cell_type": "code",
      "execution_count": null,
      "id": "6VvskYKqxrAU",
      "metadata": {
        "id": "6VvskYKqxrAU"
      },
      "outputs": [],
      "source": [
        "trainer.evaluate()"
      ]
    },
    {
      "cell_type": "markdown",
      "id": "kEhmJJua6Kky",
      "metadata": {
        "id": "kEhmJJua6Kky"
      },
      "source": [
        "# 4. Unfreeze layer 29"
      ]
    },
    {
      "cell_type": "code",
      "execution_count": 61,
      "id": "KqWK9VbEzx0E",
      "metadata": {
        "id": "KqWK9VbEzx0E",
        "colab": {
          "base_uri": "https://localhost:8080/",
          "height": 0
        },
        "outputId": "12ab7642-0931-4e85-d767-6accea3c053c"
      },
      "outputs": [
        {
          "output_type": "execute_result",
          "data": {
            "text/plain": [
              "=====================================================================================\n",
              "Layer (type:depth-idx)                                       Param #\n",
              "=====================================================================================\n",
              "RemBertForSequenceClassification                             --\n",
              "├─RemBertModel: 1-1                                          --\n",
              "│    └─RemBertEmbeddings: 2-1                                --\n",
              "│    │    └─Embedding: 3-1                                   (64,076,800)\n",
              "│    │    └─Embedding: 3-2                                   (131,072)\n",
              "│    │    └─Embedding: 3-3                                   (512)\n",
              "│    │    └─LayerNorm: 3-4                                   (512)\n",
              "│    │    └─Dropout: 3-5                                     --\n",
              "│    └─RemBertEncoder: 2-2                                   --\n",
              "│    │    └─Linear: 3-6                                      (296,064)\n",
              "│    │    └─ModuleList: 3-7                                  510,087,168\n",
              "│    └─RemBertPooler: 2-3                                    --\n",
              "│    │    └─Linear: 3-8                                      (1,328,256)\n",
              "│    │    └─Tanh: 3-9                                        --\n",
              "├─Dropout: 1-2                                               --\n",
              "├─Linear: 1-3                                                41,508\n",
              "=====================================================================================\n",
              "Total params: 575,961,892\n",
              "Trainable params: 47,862,180\n",
              "Non-trainable params: 528,099,712\n",
              "====================================================================================="
            ]
          },
          "metadata": {},
          "execution_count": 61
        }
      ],
      "source": [
        "# Unfreeze classifier, pooler, and layer 3, 4, and 5\n",
        "\n",
        "for name, param in model.named_parameters():\n",
        "    if name.split(\".\")[0] == \"rembert\" and \"encoder.layer.31\" in name:\n",
        "        param.requires_grad = True\n",
        "    elif name.split(\".\")[0] == \"rembert\" and \"encoder.layer.30\" in name:\n",
        "        param.requires_grad = True\n",
        "    elif name.split(\".\")[0] == \"rembert\" and \"encoder.layer.29\" in name:\n",
        "        param.requires_grad = True\n",
        "    elif name in [\"pre_classifier.weight\", \"pre_classifier.bias\", \"classifier.weight\", \"classifier.bias\"]:\n",
        "        param.requires_grad = True\n",
        "    else:\n",
        "        param.requires_grad = False\n",
        "\n",
        "summary(model)"
      ]
    },
    {
      "cell_type": "code",
      "execution_count": 62,
      "id": "Fdn34OsSz1PO",
      "metadata": {
        "id": "Fdn34OsSz1PO",
        "colab": {
          "base_uri": "https://localhost:8080/",
          "height": 502
        },
        "outputId": "cbe9834f-9ade-4e73-8c83-552fa0c92ad1"
      },
      "outputs": [
        {
          "output_type": "stream",
          "name": "stderr",
          "text": [
            "/tmp/ipython-input-3525685056.py:1: FutureWarning: `tokenizer` is deprecated and will be removed in version 5.0.0 for `Trainer.__init__`. Use `processing_class` instead.\n",
            "  trainer = Trainer(\n",
            "/usr/local/lib/python3.11/dist-packages/torch/nn/modules/module.py:1750: FutureWarning: `encoder_attention_mask` is deprecated and will be removed in version 4.55.0 for `RemBertSelfAttention.forward`.\n",
            "  return forward_call(*args, **kwargs)\n"
          ]
        },
        {
          "output_type": "display_data",
          "data": {
            "text/plain": [
              "<IPython.core.display.HTML object>"
            ],
            "text/html": [
              "\n",
              "    <div>\n",
              "      \n",
              "      <progress value='19190' max='19190' style='width:300px; height:20px; vertical-align: middle;'></progress>\n",
              "      [19190/19190 1:21:28, Epoch 5/5]\n",
              "    </div>\n",
              "    <table border=\"1\" class=\"dataframe\">\n",
              "  <thead>\n",
              " <tr style=\"text-align: left;\">\n",
              "      <th>Epoch</th>\n",
              "      <th>Training Loss</th>\n",
              "      <th>Validation Loss</th>\n",
              "      <th>F1</th>\n",
              "      <th>Roc Auc</th>\n",
              "      <th>Accuracy</th>\n",
              "      <th>Balanced Accuracy</th>\n",
              "      <th>Precision</th>\n",
              "      <th>Recall</th>\n",
              "    </tr>\n",
              "  </thead>\n",
              "  <tbody>\n",
              "    <tr>\n",
              "      <td>1</td>\n",
              "      <td>0.150300</td>\n",
              "      <td>0.154108</td>\n",
              "      <td>0.725676</td>\n",
              "      <td>0.808555</td>\n",
              "      <td>0.477314</td>\n",
              "      <td>0.808555</td>\n",
              "      <td>0.843020</td>\n",
              "      <td>0.637008</td>\n",
              "    </tr>\n",
              "    <tr>\n",
              "      <td>2</td>\n",
              "      <td>0.144000</td>\n",
              "      <td>0.147891</td>\n",
              "      <td>0.744881</td>\n",
              "      <td>0.826735</td>\n",
              "      <td>0.477057</td>\n",
              "      <td>0.826735</td>\n",
              "      <td>0.827728</td>\n",
              "      <td>0.677109</td>\n",
              "    </tr>\n",
              "    <tr>\n",
              "      <td>3</td>\n",
              "      <td>0.128000</td>\n",
              "      <td>0.153667</td>\n",
              "      <td>0.749579</td>\n",
              "      <td>0.834205</td>\n",
              "      <td>0.485517</td>\n",
              "      <td>0.834205</td>\n",
              "      <td>0.813185</td>\n",
              "      <td>0.695202</td>\n",
              "    </tr>\n",
              "    <tr>\n",
              "      <td>4</td>\n",
              "      <td>0.115100</td>\n",
              "      <td>0.149626</td>\n",
              "      <td>0.755280</td>\n",
              "      <td>0.836527</td>\n",
              "      <td>0.481671</td>\n",
              "      <td>0.836527</td>\n",
              "      <td>0.822283</td>\n",
              "      <td>0.698374</td>\n",
              "    </tr>\n",
              "    <tr>\n",
              "      <td>5</td>\n",
              "      <td>0.111700</td>\n",
              "      <td>0.154679</td>\n",
              "      <td>0.754244</td>\n",
              "      <td>0.837407</td>\n",
              "      <td>0.482184</td>\n",
              "      <td>0.837407</td>\n",
              "      <td>0.815703</td>\n",
              "      <td>0.701398</td>\n",
              "    </tr>\n",
              "  </tbody>\n",
              "</table><p>"
            ]
          },
          "metadata": {}
        },
        {
          "output_type": "stream",
          "name": "stderr",
          "text": [
            "/usr/local/lib/python3.11/dist-packages/torch/nn/modules/module.py:1750: FutureWarning: `encoder_attention_mask` is deprecated and will be removed in version 4.55.0 for `RemBertSelfAttention.forward`.\n",
            "  return forward_call(*args, **kwargs)\n",
            "/usr/local/lib/python3.11/dist-packages/torch/nn/modules/module.py:1750: FutureWarning: `encoder_attention_mask` is deprecated and will be removed in version 4.55.0 for `RemBertSelfAttention.forward`.\n",
            "  return forward_call(*args, **kwargs)\n",
            "/usr/local/lib/python3.11/dist-packages/torch/nn/modules/module.py:1750: FutureWarning: `encoder_attention_mask` is deprecated and will be removed in version 4.55.0 for `RemBertSelfAttention.forward`.\n",
            "  return forward_call(*args, **kwargs)\n",
            "/usr/local/lib/python3.11/dist-packages/torch/nn/modules/module.py:1750: FutureWarning: `encoder_attention_mask` is deprecated and will be removed in version 4.55.0 for `RemBertSelfAttention.forward`.\n",
            "  return forward_call(*args, **kwargs)\n"
          ]
        },
        {
          "output_type": "execute_result",
          "data": {
            "text/plain": [
              "TrainOutput(global_step=19190, training_loss=0.13565390831856383, metrics={'train_runtime': 4888.5067, 'train_samples_per_second': 31.402, 'train_steps_per_second': 3.926, 'total_flos': 7.0703352911772e+16, 'train_loss': 0.13565390831856383, 'epoch': 5.0})"
            ]
          },
          "metadata": {},
          "execution_count": 62
        }
      ],
      "source": [
        "trainer = Trainer(\n",
        "    model,\n",
        "    args,\n",
        "    train_dataset=encoded_dataset[\"train\"],\n",
        "    eval_dataset=encoded_dataset[\"validation\"],\n",
        "    tokenizer=tokenizer,\n",
        "    compute_metrics=compute_metrics\n",
        ")\n",
        "\n",
        "trainer.train()"
      ]
    },
    {
      "cell_type": "code",
      "execution_count": 63,
      "id": "nVN6RhCKz14W",
      "metadata": {
        "id": "nVN6RhCKz14W",
        "colab": {
          "base_uri": "https://localhost:8080/",
          "height": 289
        },
        "outputId": "7ef5fff7-b3a4-4ca9-922e-2448f0d6bdc9"
      },
      "outputs": [
        {
          "output_type": "stream",
          "name": "stderr",
          "text": [
            "/usr/local/lib/python3.11/dist-packages/torch/nn/modules/module.py:1750: FutureWarning: `encoder_attention_mask` is deprecated and will be removed in version 4.55.0 for `RemBertSelfAttention.forward`.\n",
            "  return forward_call(*args, **kwargs)\n"
          ]
        },
        {
          "output_type": "display_data",
          "data": {
            "text/plain": [
              "<IPython.core.display.HTML object>"
            ],
            "text/html": [
              "\n",
              "    <div>\n",
              "      \n",
              "      <progress value='488' max='488' style='width:300px; height:20px; vertical-align: middle;'></progress>\n",
              "      [488/488 01:30]\n",
              "    </div>\n",
              "    "
            ]
          },
          "metadata": {}
        },
        {
          "output_type": "execute_result",
          "data": {
            "text/plain": [
              "{'eval_loss': 0.14962564408779144,\n",
              " 'eval_f1': 0.7552803688217005,\n",
              " 'eval_roc_auc': 0.8365272131623359,\n",
              " 'eval_accuracy': 0.4816713663163291,\n",
              " 'eval_balanced_accuracy': 0.8365272131623358,\n",
              " 'eval_precision': 0.8222831796428155,\n",
              " 'eval_recall': 0.6983741449390304,\n",
              " 'eval_runtime': 90.9751,\n",
              " 'eval_samples_per_second': 42.88,\n",
              " 'eval_steps_per_second': 5.364,\n",
              " 'epoch': 5.0}"
            ]
          },
          "metadata": {},
          "execution_count": 63
        }
      ],
      "source": [
        "trainer.evaluate()"
      ]
    },
    {
      "cell_type": "code",
      "execution_count": 64,
      "id": "H8MkDEhvBMxR",
      "metadata": {
        "id": "H8MkDEhvBMxR",
        "colab": {
          "base_uri": "https://localhost:8080/",
          "height": 502
        },
        "outputId": "8dcc85bf-6016-4016-a10d-d9244b25a492"
      },
      "outputs": [
        {
          "output_type": "stream",
          "name": "stderr",
          "text": [
            "/tmp/ipython-input-2120202975.py:17: FutureWarning: `tokenizer` is deprecated and will be removed in version 5.0.0 for `Trainer.__init__`. Use `processing_class` instead.\n",
            "  trainer = Trainer(\n",
            "/usr/local/lib/python3.11/dist-packages/torch/nn/modules/module.py:1750: FutureWarning: `encoder_attention_mask` is deprecated and will be removed in version 4.55.0 for `RemBertSelfAttention.forward`.\n",
            "  return forward_call(*args, **kwargs)\n"
          ]
        },
        {
          "output_type": "display_data",
          "data": {
            "text/plain": [
              "<IPython.core.display.HTML object>"
            ],
            "text/html": [
              "\n",
              "    <div>\n",
              "      \n",
              "      <progress value='19190' max='19190' style='width:300px; height:20px; vertical-align: middle;'></progress>\n",
              "      [19190/19190 1:21:50, Epoch 5/5]\n",
              "    </div>\n",
              "    <table border=\"1\" class=\"dataframe\">\n",
              "  <thead>\n",
              " <tr style=\"text-align: left;\">\n",
              "      <th>Epoch</th>\n",
              "      <th>Training Loss</th>\n",
              "      <th>Validation Loss</th>\n",
              "      <th>F1</th>\n",
              "      <th>Roc Auc</th>\n",
              "      <th>Accuracy</th>\n",
              "      <th>Balanced Accuracy</th>\n",
              "      <th>Precision</th>\n",
              "      <th>Recall</th>\n",
              "    </tr>\n",
              "  </thead>\n",
              "  <tbody>\n",
              "    <tr>\n",
              "      <td>1</td>\n",
              "      <td>0.115900</td>\n",
              "      <td>0.156950</td>\n",
              "      <td>0.734963</td>\n",
              "      <td>0.819424</td>\n",
              "      <td>0.469880</td>\n",
              "      <td>0.819424</td>\n",
              "      <td>0.825477</td>\n",
              "      <td>0.662338</td>\n",
              "    </tr>\n",
              "    <tr>\n",
              "      <td>2</td>\n",
              "      <td>0.106800</td>\n",
              "      <td>0.160608</td>\n",
              "      <td>0.751184</td>\n",
              "      <td>0.841901</td>\n",
              "      <td>0.478852</td>\n",
              "      <td>0.841901</td>\n",
              "      <td>0.790462</td>\n",
              "      <td>0.715624</td>\n",
              "    </tr>\n",
              "    <tr>\n",
              "      <td>3</td>\n",
              "      <td>0.082000</td>\n",
              "      <td>0.170409</td>\n",
              "      <td>0.746760</td>\n",
              "      <td>0.838835</td>\n",
              "      <td>0.478595</td>\n",
              "      <td>0.838835</td>\n",
              "      <td>0.787872</td>\n",
              "      <td>0.709725</td>\n",
              "    </tr>\n",
              "    <tr>\n",
              "      <td>4</td>\n",
              "      <td>0.062600</td>\n",
              "      <td>0.183556</td>\n",
              "      <td>0.748213</td>\n",
              "      <td>0.841355</td>\n",
              "      <td>0.482184</td>\n",
              "      <td>0.841355</td>\n",
              "      <td>0.783614</td>\n",
              "      <td>0.715872</td>\n",
              "    </tr>\n",
              "    <tr>\n",
              "      <td>5</td>\n",
              "      <td>0.048100</td>\n",
              "      <td>0.197298</td>\n",
              "      <td>0.744331</td>\n",
              "      <td>0.839968</td>\n",
              "      <td>0.484491</td>\n",
              "      <td>0.839968</td>\n",
              "      <td>0.776957</td>\n",
              "      <td>0.714335</td>\n",
              "    </tr>\n",
              "  </tbody>\n",
              "</table><p>"
            ]
          },
          "metadata": {}
        },
        {
          "output_type": "stream",
          "name": "stderr",
          "text": [
            "/usr/local/lib/python3.11/dist-packages/torch/nn/modules/module.py:1750: FutureWarning: `encoder_attention_mask` is deprecated and will be removed in version 4.55.0 for `RemBertSelfAttention.forward`.\n",
            "  return forward_call(*args, **kwargs)\n",
            "/usr/local/lib/python3.11/dist-packages/torch/nn/modules/module.py:1750: FutureWarning: `encoder_attention_mask` is deprecated and will be removed in version 4.55.0 for `RemBertSelfAttention.forward`.\n",
            "  return forward_call(*args, **kwargs)\n",
            "/usr/local/lib/python3.11/dist-packages/torch/nn/modules/module.py:1750: FutureWarning: `encoder_attention_mask` is deprecated and will be removed in version 4.55.0 for `RemBertSelfAttention.forward`.\n",
            "  return forward_call(*args, **kwargs)\n",
            "/usr/local/lib/python3.11/dist-packages/torch/nn/modules/module.py:1750: FutureWarning: `encoder_attention_mask` is deprecated and will be removed in version 4.55.0 for `RemBertSelfAttention.forward`.\n",
            "  return forward_call(*args, **kwargs)\n"
          ]
        },
        {
          "output_type": "execute_result",
          "data": {
            "text/plain": [
              "TrainOutput(global_step=19190, training_loss=0.08571712924764453, metrics={'train_runtime': 4911.0051, 'train_samples_per_second': 31.258, 'train_steps_per_second': 3.908, 'total_flos': 7.0703352911772e+16, 'train_loss': 0.08571712924764453, 'epoch': 5.0})"
            ]
          },
          "metadata": {},
          "execution_count": 64
        }
      ],
      "source": [
        "# learning rate back down\n",
        "args = TrainingArguments(\n",
        "    f'rembert-multilabel_best',\n",
        "    eval_strategy = \"epoch\",\n",
        "    save_strategy = \"epoch\",\n",
        "    learning_rate=4e-5,\n",
        "    per_device_train_batch_size=batch_size,\n",
        "    per_device_eval_batch_size=batch_size,\n",
        "    num_train_epochs=5,\n",
        "    weight_decay=0.01,\n",
        "    load_best_model_at_end=True,\n",
        "    metric_for_best_model=metric_name,\n",
        "    logging_steps=100, # Set logging steps to a smaller value\n",
        "    greater_is_better=True, # F1 score is better when higher\n",
        "    report_to='none' # Disable reporting to wandb for this example\n",
        ")\n",
        "trainer = Trainer(\n",
        "    model,\n",
        "    args,\n",
        "    train_dataset=encoded_dataset[\"train\"],\n",
        "    eval_dataset=encoded_dataset[\"validation\"],\n",
        "    tokenizer=tokenizer,\n",
        "    compute_metrics=compute_metrics\n",
        ")\n",
        "\n",
        "trainer.train()"
      ]
    },
    {
      "cell_type": "code",
      "source": [
        "trainer.save_model(\"rembert-multilabel_best\")\n",
        "tokenizer.save_pretrained(\"rembert-multilabel_best\")"
      ],
      "metadata": {
        "id": "ZUZTlNjCV8Or",
        "colab": {
          "base_uri": "https://localhost:8080/",
          "height": 0
        },
        "outputId": "98678671-b324-46be-82cf-c80f8315aa18"
      },
      "id": "ZUZTlNjCV8Or",
      "execution_count": 65,
      "outputs": [
        {
          "output_type": "execute_result",
          "data": {
            "text/plain": [
              "('rembert-multilabel_best/tokenizer_config.json',\n",
              " 'rembert-multilabel_best/special_tokens_map.json',\n",
              " 'rembert-multilabel_best/sentencepiece.model',\n",
              " 'rembert-multilabel_best/added_tokens.json',\n",
              " 'rembert-multilabel_best/tokenizer.json')"
            ]
          },
          "metadata": {},
          "execution_count": 65
        }
      ]
    },
    {
      "cell_type": "code",
      "execution_count": 66,
      "id": "oNcqgFgtBR1G",
      "metadata": {
        "id": "oNcqgFgtBR1G",
        "colab": {
          "base_uri": "https://localhost:8080/",
          "height": 289
        },
        "outputId": "d5e7db39-f969-47cc-e5ff-50760dec0001"
      },
      "outputs": [
        {
          "output_type": "stream",
          "name": "stderr",
          "text": [
            "/usr/local/lib/python3.11/dist-packages/torch/nn/modules/module.py:1750: FutureWarning: `encoder_attention_mask` is deprecated and will be removed in version 4.55.0 for `RemBertSelfAttention.forward`.\n",
            "  return forward_call(*args, **kwargs)\n"
          ]
        },
        {
          "output_type": "display_data",
          "data": {
            "text/plain": [
              "<IPython.core.display.HTML object>"
            ],
            "text/html": [
              "\n",
              "    <div>\n",
              "      \n",
              "      <progress value='488' max='488' style='width:300px; height:20px; vertical-align: middle;'></progress>\n",
              "      [488/488 01:31]\n",
              "    </div>\n",
              "    "
            ]
          },
          "metadata": {}
        },
        {
          "output_type": "execute_result",
          "data": {
            "text/plain": [
              "{'eval_loss': 0.16060832142829895,\n",
              " 'eval_f1': 0.7511837244393569,\n",
              " 'eval_roc_auc': 0.8419009411817607,\n",
              " 'eval_accuracy': 0.4788515765188413,\n",
              " 'eval_balanced_accuracy': 0.8419009411817607,\n",
              " 'eval_precision': 0.7904621112571178,\n",
              " 'eval_recall': 0.7156240705859026,\n",
              " 'eval_runtime': 91.8852,\n",
              " 'eval_samples_per_second': 42.455,\n",
              " 'eval_steps_per_second': 5.311,\n",
              " 'epoch': 5.0}"
            ]
          },
          "metadata": {},
          "execution_count": 66
        }
      ],
      "source": [
        "trainer.evaluate()"
      ]
    },
    {
      "cell_type": "code",
      "metadata": {
        "id": "55427a00",
        "colab": {
          "base_uri": "https://localhost:8080/",
          "height": 564
        },
        "outputId": "348c2074-9e4f-41f2-a878-8d735ec55e49"
      },
      "source": [
        "import matplotlib.pyplot as plt\n",
        "import pandas as pd\n",
        "\n",
        "# Extract the log history from the trainer state\n",
        "log_history = trainer.state.log_history\n",
        "\n",
        "# Filter for evaluation logs that contain 'eval_f1' and 'epoch'\n",
        "eval_logs = [log for log in log_history if 'eval_f1' in log and 'epoch' in log]\n",
        "\n",
        "# Create a pandas DataFrame from the filtered logs\n",
        "eval_df = pd.DataFrame(eval_logs)\n",
        "\n",
        "# Plot the F1 score vs epoch\n",
        "plt.figure(figsize=(10, 6))\n",
        "plt.plot(eval_df['epoch'], eval_df['eval_f1'], marker='o')\n",
        "plt.xlabel('Epoch')\n",
        "plt.ylabel('Evaluation F1 Score')\n",
        "plt.title('Evaluation F1 Score vs. Epoch')\n",
        "plt.grid(True)\n",
        "plt.show()"
      ],
      "id": "55427a00",
      "execution_count": 67,
      "outputs": [
        {
          "output_type": "display_data",
          "data": {
            "text/plain": [
              "<Figure size 1000x600 with 1 Axes>"
            ],
            "image/png": "[encoded data removed]"
          },
          "metadata": {}
        }
      ]
    }
  ],
  "metadata": {
    "accelerator": "GPU",
    "colab": {
      "gpuType": "L4",
      "provenance": [],
      "machine_shape": "hm"
    },
    "kernelspec": {
      "display_name": "Python 3",
      "name": "python3"
    },
    "language_info": {
      "codemirror_mode": {
        "name": "ipython",
        "version": 3
      },
      "file_extension": ".py",
      "mimetype": "text/x-python",
      "name": "python",
      "nbconvert_exporter": "python",
      "pygments_lexer": "ipython3",
      "version": "3.10.6"
    },
    "widgets": {
      "application/vnd.jupyter.widget-state+json": {
        "18801cf0f5034804b5dff7aa8bddbc02": {
          "model_module": "@jupyter-widgets/controls",
          "model_name": "HBoxModel",
          "model_module_version": "1.5.0",
          "state": {
            "_dom_classes": [],
            "_model_module": "@jupyter-widgets/controls",
            "_model_module_version": "1.5.0",
            "_model_name": "HBoxModel",
            "_view_count": null,
            "_view_module": "@jupyter-widgets/controls",
            "_view_module_version": "1.5.0",
            "_view_name": "HBoxView",
            "box_style": "",
            "children": [
              "IPY_MODEL_62e1cc033d3d4bcab6769d7a0e132ee9",
              "IPY_MODEL_01c9e6d21ca14fa9aef68a6f6e988568",
              "IPY_MODEL_6669fdeabf794dda8dc0c8226688e957"
            ],
            "layout": "IPY_MODEL_a305797313644615bf955ad62d2e6632"
          }
        },
        "62e1cc033d3d4bcab6769d7a0e132ee9": {
          "model_module": "@jupyter-widgets/controls",
          "model_name": "HTMLModel",
          "model_module_version": "1.5.0",
          "state": {
            "_dom_classes": [],
            "_model_module": "@jupyter-widgets/controls",
            "_model_module_version": "1.5.0",
            "_model_name": "HTMLModel",
            "_view_count": null,
            "_view_module": "@jupyter-widgets/controls",
            "_view_module_version": "1.5.0",
            "_view_name": "HTMLView",
            "description": "",
            "description_tooltip": null,
            "layout": "IPY_MODEL_91b93e4059a94cfe936dc315e976dfdb",
            "placeholder": "​",
            "style": "IPY_MODEL_a1f730b8d7264d4a9b43afd045b77ae7",
            "value": "Map: 100%"
          }
        },
        "01c9e6d21ca14fa9aef68a6f6e988568": {
          "model_module": "@jupyter-widgets/controls",
          "model_name": "FloatProgressModel",
          "model_module_version": "1.5.0",
          "state": {
            "_dom_classes": [],
            "_model_module": "@jupyter-widgets/controls",
            "_model_module_version": "1.5.0",
            "_model_name": "FloatProgressModel",
            "_view_count": null,
            "_view_module": "@jupyter-widgets/controls",
            "_view_module_version": "1.5.0",
            "_view_name": "ProgressView",
            "bar_style": "success",
            "description": "",
            "description_tooltip": null,
            "layout": "IPY_MODEL_4d27e4775e3b43c09bfabe2bb7597d77",
            "max": 30702,
            "min": 0,
            "orientation": "horizontal",
            "style": "IPY_MODEL_68e53f61a4de4aca8fa5709d4ee6602a",
            "value": 30702
          }
        },
        "6669fdeabf794dda8dc0c8226688e957": {
          "model_module": "@jupyter-widgets/controls",
          "model_name": "HTMLModel",
          "model_module_version": "1.5.0",
          "state": {
            "_dom_classes": [],
            "_model_module": "@jupyter-widgets/controls",
            "_model_module_version": "1.5.0",
            "_model_name": "HTMLModel",
            "_view_count": null,
            "_view_module": "@jupyter-widgets/controls",
            "_view_module_version": "1.5.0",
            "_view_name": "HTMLView",
            "description": "",
            "description_tooltip": null,
            "layout": "IPY_MODEL_507edc2c207e477891e4536ac5cc725d",
            "placeholder": "​",
            "style": "IPY_MODEL_67197a00e2494c56b31d049191e1c7c0",
            "value": " 30702/30702 [00:05&lt;00:00, 6209.17 examples/s]"
          }
        },
        "a305797313644615bf955ad62d2e6632": {
          "model_module": "@jupyter-widgets/base",
          "model_name": "LayoutModel",
          "model_module_version": "1.2.0",
          "state": {
            "_model_module": "@jupyter-widgets/base",
            "_model_module_version": "1.2.0",
            "_model_name": "LayoutModel",
            "_view_count": null,
            "_view_module": "@jupyter-widgets/base",
            "_view_module_version": "1.2.0",
            "_view_name": "LayoutView",
            "align_content": null,
            "align_items": null,
            "align_self": null,
            "border": null,
            "bottom": null,
            "display": null,
            "flex": null,
            "flex_flow": null,
            "grid_area": null,
            "grid_auto_columns": null,
            "grid_auto_flow": null,
            "grid_auto_rows": null,
            "grid_column": null,
            "grid_gap": null,
            "grid_row": null,
            "grid_template_areas": null,
            "grid_template_columns": null,
            "grid_template_rows": null,
            "height": null,
            "justify_content": null,
            "justify_items": null,
            "left": null,
            "margin": null,
            "max_height": null,
            "max_width": null,
            "min_height": null,
            "min_width": null,
            "object_fit": null,
            "object_position": null,
            "order": null,
            "overflow": null,
            "overflow_x": null,
            "overflow_y": null,
            "padding": null,
            "right": null,
            "top": null,
            "visibility": null,
            "width": null
          }
        },
        "91b93e4059a94cfe936dc315e976dfdb": {
          "model_module": "@jupyter-widgets/base",
          "model_name": "LayoutModel",
          "model_module_version": "1.2.0",
          "state": {
            "_model_module": "@jupyter-widgets/base",
            "_model_module_version": "1.2.0",
            "_model_name": "LayoutModel",
            "_view_count": null,
            "_view_module": "@jupyter-widgets/base",
            "_view_module_version": "1.2.0",
            "_view_name": "LayoutView",
            "align_content": null,
            "align_items": null,
            "align_self": null,
            "border": null,
            "bottom": null,
            "display": null,
            "flex": null,
            "flex_flow": null,
            "grid_area": null,
            "grid_auto_columns": null,
            "grid_auto_flow": null,
            "grid_auto_rows": null,
            "grid_column": null,
            "grid_gap": null,
            "grid_row": null,
            "grid_template_areas": null,
            "grid_template_columns": null,
            "grid_template_rows": null,
            "height": null,
            "justify_content": null,
            "justify_items": null,
            "left": null,
            "margin": null,
            "max_height": null,
            "max_width": null,
            "min_height": null,
            "min_width": null,
            "object_fit": null,
            "object_position": null,
            "order": null,
            "overflow": null,
            "overflow_x": null,
            "overflow_y": null,
            "padding": null,
            "right": null,
            "top": null,
            "visibility": null,
            "width": null
          }
        },
        "a1f730b8d7264d4a9b43afd045b77ae7": {
          "model_module": "@jupyter-widgets/controls",
          "model_name": "DescriptionStyleModel",
          "model_module_version": "1.5.0",
          "state": {
            "_model_module": "@jupyter-widgets/controls",
            "_model_module_version": "1.5.0",
            "_model_name": "DescriptionStyleModel",
            "_view_count": null,
            "_view_module": "@jupyter-widgets/base",
            "_view_module_version": "1.2.0",
            "_view_name": "StyleView",
            "description_width": ""
          }
        },
        "4d27e4775e3b43c09bfabe2bb7597d77": {
          "model_module": "@jupyter-widgets/base",
          "model_name": "LayoutModel",
          "model_module_version": "1.2.0",
          "state": {
            "_model_module": "@jupyter-widgets/base",
            "_model_module_version": "1.2.0",
            "_model_name": "LayoutModel",
            "_view_count": null,
            "_view_module": "@jupyter-widgets/base",
            "_view_module_version": "1.2.0",
            "_view_name": "LayoutView",
            "align_content": null,
            "align_items": null,
            "align_self": null,
            "border": null,
            "bottom": null,
            "display": null,
            "flex": null,
            "flex_flow": null,
            "grid_area": null,
            "grid_auto_columns": null,
            "grid_auto_flow": null,
            "grid_auto_rows": null,
            "grid_column": null,
            "grid_gap": null,
            "grid_row": null,
            "grid_template_areas": null,
            "grid_template_columns": null,
            "grid_template_rows": null,
            "height": null,
            "justify_content": null,
            "justify_items": null,
            "left": null,
            "margin": null,
            "max_height": null,
            "max_width": null,
            "min_height": null,
            "min_width": null,
            "object_fit": null,
            "object_position": null,
            "order": null,
            "overflow": null,
            "overflow_x": null,
            "overflow_y": null,
            "padding": null,
            "right": null,
            "top": null,
            "visibility": null,
            "width": null
          }
        },
        "68e53f61a4de4aca8fa5709d4ee6602a": {
          "model_module": "@jupyter-widgets/controls",
          "model_name": "ProgressStyleModel",
          "model_module_version": "1.5.0",
          "state": {
            "_model_module": "@jupyter-widgets/controls",
            "_model_module_version": "1.5.0",
            "_model_name": "ProgressStyleModel",
            "_view_count": null,
            "_view_module": "@jupyter-widgets/base",
            "_view_module_version": "1.2.0",
            "_view_name": "StyleView",
            "bar_color": null,
            "description_width": ""
          }
        },
        "507edc2c207e477891e4536ac5cc725d": {
          "model_module": "@jupyter-widgets/base",
          "model_name": "LayoutModel",
          "model_module_version": "1.2.0",
          "state": {
            "_model_module": "@jupyter-widgets/base",
            "_model_module_version": "1.2.0",
            "_model_name": "LayoutModel",
            "_view_count": null,
            "_view_module": "@jupyter-widgets/base",
            "_view_module_version": "1.2.0",
            "_view_name": "LayoutView",
            "align_content": null,
            "align_items": null,
            "align_self": null,
            "border": null,
            "bottom": null,
            "display": null,
            "flex": null,
            "flex_flow": null,
            "grid_area": null,
            "grid_auto_columns": null,
            "grid_auto_flow": null,
            "grid_auto_rows": null,
            "grid_column": null,
            "grid_gap": null,
            "grid_row": null,
            "grid_template_areas": null,
            "grid_template_columns": null,
            "grid_template_rows": null,
            "height": null,
            "justify_content": null,
            "justify_items": null,
            "left": null,
            "margin": null,
            "max_height": null,
            "max_width": null,
            "min_height": null,
            "min_width": null,
            "object_fit": null,
            "object_position": null,
            "order": null,
            "overflow": null,
            "overflow_x": null,
            "overflow_y": null,
            "padding": null,
            "right": null,
            "top": null,
            "visibility": null,
            "width": null
          }
        },
        "67197a00e2494c56b31d049191e1c7c0": {
          "model_module": "@jupyter-widgets/controls",
          "model_name": "DescriptionStyleModel",
          "model_module_version": "1.5.0",
          "state": {
            "_model_module": "@jupyter-widgets/controls",
            "_model_module_version": "1.5.0",
            "_model_name": "DescriptionStyleModel",
            "_view_count": null,
            "_view_module": "@jupyter-widgets/base",
            "_view_module_version": "1.2.0",
            "_view_name": "StyleView",
            "description_width": ""
          }
        },
        "cf4773c7c668480889e2e7cee574699d": {
          "model_module": "@jupyter-widgets/controls",
          "model_name": "HBoxModel",
          "model_module_version": "1.5.0",
          "state": {
            "_dom_classes": [],
            "_model_module": "@jupyter-widgets/controls",
            "_model_module_version": "1.5.0",
            "_model_name": "HBoxModel",
            "_view_count": null,
            "_view_module": "@jupyter-widgets/controls",
            "_view_module_version": "1.5.0",
            "_view_name": "HBoxView",
            "box_style": "",
            "children": [
              "IPY_MODEL_43bfb15235b24093974764610365b1ae",
              "IPY_MODEL_ba53ed9cc1454bfc92286cdb110e0268",
              "IPY_MODEL_dd4a6ba96306420fbefd66417e7d245c"
            ],
            "layout": "IPY_MODEL_78105e4cef2047229da3031971fdd91b"
          }
        },
        "43bfb15235b24093974764610365b1ae": {
          "model_module": "@jupyter-widgets/controls",
          "model_name": "HTMLModel",
          "model_module_version": "1.5.0",
          "state": {
            "_dom_classes": [],
            "_model_module": "@jupyter-widgets/controls",
            "_model_module_version": "1.5.0",
            "_model_name": "HTMLModel",
            "_view_count": null,
            "_view_module": "@jupyter-widgets/controls",
            "_view_module_version": "1.5.0",
            "_view_name": "HTMLView",
            "description": "",
            "description_tooltip": null,
            "layout": "IPY_MODEL_14eed112b97e4d399d5320d15437b400",
            "placeholder": "​",
            "style": "IPY_MODEL_f5704fb8e7624eb2a728a90775230cbb",
            "value": "Map: 100%"
          }
        },
        "ba53ed9cc1454bfc92286cdb110e0268": {
          "model_module": "@jupyter-widgets/controls",
          "model_name": "FloatProgressModel",
          "model_module_version": "1.5.0",
          "state": {
            "_dom_classes": [],
            "_model_module": "@jupyter-widgets/controls",
            "_model_module_version": "1.5.0",
            "_model_name": "FloatProgressModel",
            "_view_count": null,
            "_view_module": "@jupyter-widgets/controls",
            "_view_module_version": "1.5.0",
            "_view_name": "ProgressView",
            "bar_style": "success",
            "description": "",
            "description_tooltip": null,
            "layout": "IPY_MODEL_07e4a37950d945219280d514386aa5fd",
            "max": 3901,
            "min": 0,
            "orientation": "horizontal",
            "style": "IPY_MODEL_2e15575ccefd46c6b20dbe8be99479a4",
            "value": 3901
          }
        },
        "dd4a6ba96306420fbefd66417e7d245c": {
          "model_module": "@jupyter-widgets/controls",
          "model_name": "HTMLModel",
          "model_module_version": "1.5.0",
          "state": {
            "_dom_classes": [],
            "_model_module": "@jupyter-widgets/controls",
            "_model_module_version": "1.5.0",
            "_model_name": "HTMLModel",
            "_view_count": null,
            "_view_module": "@jupyter-widgets/controls",
            "_view_module_version": "1.5.0",
            "_view_name": "HTMLView",
            "description": "",
            "description_tooltip": null,
            "layout": "IPY_MODEL_2aeaf1a855be4d9182bb0a1500c7f832",
            "placeholder": "​",
            "style": "IPY_MODEL_003b5011584a466c8c951286248d543b",
            "value": " 3901/3901 [00:00&lt;00:00, 6461.98 examples/s]"
          }
        },
        "78105e4cef2047229da3031971fdd91b": {
          "model_module": "@jupyter-widgets/base",
          "model_name": "LayoutModel",
          "model_module_version": "1.2.0",
          "state": {
            "_model_module": "@jupyter-widgets/base",
            "_model_module_version": "1.2.0",
            "_model_name": "LayoutModel",
            "_view_count": null,
            "_view_module": "@jupyter-widgets/base",
            "_view_module_version": "1.2.0",
            "_view_name": "LayoutView",
            "align_content": null,
            "align_items": null,
            "align_self": null,
            "border": null,
            "bottom": null,
            "display": null,
            "flex": null,
            "flex_flow": null,
            "grid_area": null,
            "grid_auto_columns": null,
            "grid_auto_flow": null,
            "grid_auto_rows": null,
            "grid_column": null,
            "grid_gap": null,
            "grid_row": null,
            "grid_template_areas": null,
            "grid_template_columns": null,
            "grid_template_rows": null,
            "height": null,
            "justify_content": null,
            "justify_items": null,
            "left": null,
            "margin": null,
            "max_height": null,
            "max_width": null,
            "min_height": null,
            "min_width": null,
            "object_fit": null,
            "object_position": null,
            "order": null,
            "overflow": null,
            "overflow_x": null,
            "overflow_y": null,
            "padding": null,
            "right": null,
            "top": null,
            "visibility": null,
            "width": null
          }
        },
        "14eed112b97e4d399d5320d15437b400": {
          "model_module": "@jupyter-widgets/base",
          "model_name": "LayoutModel",
          "model_module_version": "1.2.0",
          "state": {
            "_model_module": "@jupyter-widgets/base",
            "_model_module_version": "1.2.0",
            "_model_name": "LayoutModel",
            "_view_count": null,
            "_view_module": "@jupyter-widgets/base",
            "_view_module_version": "1.2.0",
            "_view_name": "LayoutView",
            "align_content": null,
            "align_items": null,
            "align_self": null,
            "border": null,
            "bottom": null,
            "display": null,
            "flex": null,
            "flex_flow": null,
            "grid_area": null,
            "grid_auto_columns": null,
            "grid_auto_flow": null,
            "grid_auto_rows": null,
            "grid_column": null,
            "grid_gap": null,
            "grid_row": null,
            "grid_template_areas": null,
            "grid_template_columns": null,
            "grid_template_rows": null,
            "height": null,
            "justify_content": null,
            "justify_items": null,
            "left": null,
            "margin": null,
            "max_height": null,
            "max_width": null,
            "min_height": null,
            "min_width": null,
            "object_fit": null,
            "object_position": null,
            "order": null,
            "overflow": null,
            "overflow_x": null,
            "overflow_y": null,
            "padding": null,
            "right": null,
            "top": null,
            "visibility": null,
            "width": null
          }
        },
        "f5704fb8e7624eb2a728a90775230cbb": {
          "model_module": "@jupyter-widgets/controls",
          "model_name": "DescriptionStyleModel",
          "model_module_version": "1.5.0",
          "state": {
            "_model_module": "@jupyter-widgets/controls",
            "_model_module_version": "1.5.0",
            "_model_name": "DescriptionStyleModel",
            "_view_count": null,
            "_view_module": "@jupyter-widgets/base",
            "_view_module_version": "1.2.0",
            "_view_name": "StyleView",
            "description_width": ""
          }
        },
        "07e4a37950d945219280d514386aa5fd": {
          "model_module": "@jupyter-widgets/base",
          "model_name": "LayoutModel",
          "model_module_version": "1.2.0",
          "state": {
            "_model_module": "@jupyter-widgets/base",
            "_model_module_version": "1.2.0",
            "_model_name": "LayoutModel",
            "_view_count": null,
            "_view_module": "@jupyter-widgets/base",
            "_view_module_version": "1.2.0",
            "_view_name": "LayoutView",
            "align_content": null,
            "align_items": null,
            "align_self": null,
            "border": null,
            "bottom": null,
            "display": null,
            "flex": null,
            "flex_flow": null,
            "grid_area": null,
            "grid_auto_columns": null,
            "grid_auto_flow": null,
            "grid_auto_rows": null,
            "grid_column": null,
            "grid_gap": null,
            "grid_row": null,
            "grid_template_areas": null,
            "grid_template_columns": null,
            "grid_template_rows": null,
            "height": null,
            "justify_content": null,
            "justify_items": null,
            "left": null,
            "margin": null,
            "max_height": null,
            "max_width": null,
            "min_height": null,
            "min_width": null,
            "object_fit": null,
            "object_position": null,
            "order": null,
            "overflow": null,
            "overflow_x": null,
            "overflow_y": null,
            "padding": null,
            "right": null,
            "top": null,
            "visibility": null,
            "width": null
          }
        },
        "2e15575ccefd46c6b20dbe8be99479a4": {
          "model_module": "@jupyter-widgets/controls",
          "model_name": "ProgressStyleModel",
          "model_module_version": "1.5.0",
          "state": {
            "_model_module": "@jupyter-widgets/controls",
            "_model_module_version": "1.5.0",
            "_model_name": "ProgressStyleModel",
            "_view_count": null,
            "_view_module": "@jupyter-widgets/base",
            "_view_module_version": "1.2.0",
            "_view_name": "StyleView",
            "bar_color": null,
            "description_width": ""
          }
        },
        "2aeaf1a855be4d9182bb0a1500c7f832": {
          "model_module": "@jupyter-widgets/base",
          "model_name": "LayoutModel",
          "model_module_version": "1.2.0",
          "state": {
            "_model_module": "@jupyter-widgets/base",
            "_model_module_version": "1.2.0",
            "_model_name": "LayoutModel",
            "_view_count": null,
            "_view_module": "@jupyter-widgets/base",
            "_view_module_version": "1.2.0",
            "_view_name": "LayoutView",
            "align_content": null,
            "align_items": null,
            "align_self": null,
            "border": null,
            "bottom": null,
            "display": null,
            "flex": null,
            "flex_flow": null,
            "grid_area": null,
            "grid_auto_columns": null,
            "grid_auto_flow": null,
            "grid_auto_rows": null,
            "grid_column": null,
            "grid_gap": null,
            "grid_row": null,
            "grid_template_areas": null,
            "grid_template_columns": null,
            "grid_template_rows": null,
            "height": null,
            "justify_content": null,
            "justify_items": null,
            "left": null,
            "margin": null,
            "max_height": null,
            "max_width": null,
            "min_height": null,
            "min_width": null,
            "object_fit": null,
            "object_position": null,
            "order": null,
            "overflow": null,
            "overflow_x": null,
            "overflow_y": null,
            "padding": null,
            "right": null,
            "top": null,
            "visibility": null,
            "width": null
          }
        },
        "003b5011584a466c8c951286248d543b": {
          "model_module": "@jupyter-widgets/controls",
          "model_name": "DescriptionStyleModel",
          "model_module_version": "1.5.0",
          "state": {
            "_model_module": "@jupyter-widgets/controls",
            "_model_module_version": "1.5.0",
            "_model_name": "DescriptionStyleModel",
            "_view_count": null,
            "_view_module": "@jupyter-widgets/base",
            "_view_module_version": "1.2.0",
            "_view_name": "StyleView",
            "description_width": ""
          }
        },
        "62489da97faf4d97aff90e585c5cfe79": {
          "model_module": "@jupyter-widgets/controls",
          "model_name": "HBoxModel",
          "model_module_version": "1.5.0",
          "state": {
            "_dom_classes": [],
            "_model_module": "@jupyter-widgets/controls",
            "_model_module_version": "1.5.0",
            "_model_name": "HBoxModel",
            "_view_count": null,
            "_view_module": "@jupyter-widgets/controls",
            "_view_module_version": "1.5.0",
            "_view_name": "HBoxView",
            "box_style": "",
            "children": [
              "IPY_MODEL_145420c122de4d798391d9853daf4fe9",
              "IPY_MODEL_4bbc12f71e7e47d8b89249a379bfbbe4",
              "IPY_MODEL_b8411932ddf34d1cbe5d73e6144f817e"
            ],
            "layout": "IPY_MODEL_5b3f90e8adc645e299684acc22aa57a6"
          }
        },
        "145420c122de4d798391d9853daf4fe9": {
          "model_module": "@jupyter-widgets/controls",
          "model_name": "HTMLModel",
          "model_module_version": "1.5.0",
          "state": {
            "_dom_classes": [],
            "_model_module": "@jupyter-widgets/controls",
            "_model_module_version": "1.5.0",
            "_model_name": "HTMLModel",
            "_view_count": null,
            "_view_module": "@jupyter-widgets/controls",
            "_view_module_version": "1.5.0",
            "_view_name": "HTMLView",
            "description": "",
            "description_tooltip": null,
            "layout": "IPY_MODEL_09dfc14f999e486bac3a71d1061483f2",
            "placeholder": "​",
            "style": "IPY_MODEL_62dd13d990534bb689aae873112cbdca",
            "value": "Map: 100%"
          }
        },
        "4bbc12f71e7e47d8b89249a379bfbbe4": {
          "model_module": "@jupyter-widgets/controls",
          "model_name": "FloatProgressModel",
          "model_module_version": "1.5.0",
          "state": {
            "_dom_classes": [],
            "_model_module": "@jupyter-widgets/controls",
            "_model_module_version": "1.5.0",
            "_model_name": "FloatProgressModel",
            "_view_count": null,
            "_view_module": "@jupyter-widgets/controls",
            "_view_module_version": "1.5.0",
            "_view_name": "ProgressView",
            "bar_style": "success",
            "description": "",
            "description_tooltip": null,
            "layout": "IPY_MODEL_2f3cadda90ba437b88cb08933b3262a8",
            "max": 3901,
            "min": 0,
            "orientation": "horizontal",
            "style": "IPY_MODEL_171052bc70964e1b9f64f9601f59af4b",
            "value": 3901
          }
        },
        "b8411932ddf34d1cbe5d73e6144f817e": {
          "model_module": "@jupyter-widgets/controls",
          "model_name": "HTMLModel",
          "model_module_version": "1.5.0",
          "state": {
            "_dom_classes": [],
            "_model_module": "@jupyter-widgets/controls",
            "_model_module_version": "1.5.0",
            "_model_name": "HTMLModel",
            "_view_count": null,
            "_view_module": "@jupyter-widgets/controls",
            "_view_module_version": "1.5.0",
            "_view_name": "HTMLView",
            "description": "",
            "description_tooltip": null,
            "layout": "IPY_MODEL_2b4589d6feb745cdb6a754e812c1dc7d",
            "placeholder": "​",
            "style": "IPY_MODEL_fae79ad9371740d68744e6355dc99a37",
            "value": " 3901/3901 [00:00&lt;00:00, 6173.06 examples/s]"
          }
        },
        "5b3f90e8adc645e299684acc22aa57a6": {
          "model_module": "@jupyter-widgets/base",
          "model_name": "LayoutModel",
          "model_module_version": "1.2.0",
          "state": {
            "_model_module": "@jupyter-widgets/base",
            "_model_module_version": "1.2.0",
            "_model_name": "LayoutModel",
            "_view_count": null,
            "_view_module": "@jupyter-widgets/base",
            "_view_module_version": "1.2.0",
            "_view_name": "LayoutView",
            "align_content": null,
            "align_items": null,
            "align_self": null,
            "border": null,
            "bottom": null,
            "display": null,
            "flex": null,
            "flex_flow": null,
            "grid_area": null,
            "grid_auto_columns": null,
            "grid_auto_flow": null,
            "grid_auto_rows": null,
            "grid_column": null,
            "grid_gap": null,
            "grid_row": null,
            "grid_template_areas": null,
            "grid_template_columns": null,
            "grid_template_rows": null,
            "height": null,
            "justify_content": null,
            "justify_items": null,
            "left": null,
            "margin": null,
            "max_height": null,
            "max_width": null,
            "min_height": null,
            "min_width": null,
            "object_fit": null,
            "object_position": null,
            "order": null,
            "overflow": null,
            "overflow_x": null,
            "overflow_y": null,
            "padding": null,
            "right": null,
            "top": null,
            "visibility": null,
            "width": null
          }
        },
        "09dfc14f999e486bac3a71d1061483f2": {
          "model_module": "@jupyter-widgets/base",
          "model_name": "LayoutModel",
          "model_module_version": "1.2.0",
          "state": {
            "_model_module": "@jupyter-widgets/base",
            "_model_module_version": "1.2.0",
            "_model_name": "LayoutModel",
            "_view_count": null,
            "_view_module": "@jupyter-widgets/base",
            "_view_module_version": "1.2.0",
            "_view_name": "LayoutView",
            "align_content": null,
            "align_items": null,
            "align_self": null,
            "border": null,
            "bottom": null,
            "display": null,
            "flex": null,
            "flex_flow": null,
            "grid_area": null,
            "grid_auto_columns": null,
            "grid_auto_flow": null,
            "grid_auto_rows": null,
            "grid_column": null,
            "grid_gap": null,
            "grid_row": null,
            "grid_template_areas": null,
            "grid_template_columns": null,
            "grid_template_rows": null,
            "height": null,
            "justify_content": null,
            "justify_items": null,
            "left": null,
            "margin": null,
            "max_height": null,
            "max_width": null,
            "min_height": null,
            "min_width": null,
            "object_fit": null,
            "object_position": null,
            "order": null,
            "overflow": null,
            "overflow_x": null,
            "overflow_y": null,
            "padding": null,
            "right": null,
            "top": null,
            "visibility": null,
            "width": null
          }
        },
        "62dd13d990534bb689aae873112cbdca": {
          "model_module": "@jupyter-widgets/controls",
          "model_name": "DescriptionStyleModel",
          "model_module_version": "1.5.0",
          "state": {
            "_model_module": "@jupyter-widgets/controls",
            "_model_module_version": "1.5.0",
            "_model_name": "DescriptionStyleModel",
            "_view_count": null,
            "_view_module": "@jupyter-widgets/base",
            "_view_module_version": "1.2.0",
            "_view_name": "StyleView",
            "description_width": ""
          }
        },
        "2f3cadda90ba437b88cb08933b3262a8": {
          "model_module": "@jupyter-widgets/base",
          "model_name": "LayoutModel",
          "model_module_version": "1.2.0",
          "state": {
            "_model_module": "@jupyter-widgets/base",
            "_model_module_version": "1.2.0",
            "_model_name": "LayoutModel",
            "_view_count": null,
            "_view_module": "@jupyter-widgets/base",
            "_view_module_version": "1.2.0",
            "_view_name": "LayoutView",
            "align_content": null,
            "align_items": null,
            "align_self": null,
            "border": null,
            "bottom": null,
            "display": null,
            "flex": null,
            "flex_flow": null,
            "grid_area": null,
            "grid_auto_columns": null,
            "grid_auto_flow": null,
            "grid_auto_rows": null,
            "grid_column": null,
            "grid_gap": null,
            "grid_row": null,
            "grid_template_areas": null,
            "grid_template_columns": null,
            "grid_template_rows": null,
            "height": null,
            "justify_content": null,
            "justify_items": null,
            "left": null,
            "margin": null,
            "max_height": null,
            "max_width": null,
            "min_height": null,
            "min_width": null,
            "object_fit": null,
            "object_position": null,
            "order": null,
            "overflow": null,
            "overflow_x": null,
            "overflow_y": null,
            "padding": null,
            "right": null,
            "top": null,
            "visibility": null,
            "width": null
          }
        },
        "171052bc70964e1b9f64f9601f59af4b": {
          "model_module": "@jupyter-widgets/controls",
          "model_name": "ProgressStyleModel",
          "model_module_version": "1.5.0",
          "state": {
            "_model_module": "@jupyter-widgets/controls",
            "_model_module_version": "1.5.0",
            "_model_name": "ProgressStyleModel",
            "_view_count": null,
            "_view_module": "@jupyter-widgets/base",
            "_view_module_version": "1.2.0",
            "_view_name": "StyleView",
            "bar_color": null,
            "description_width": ""
          }
        },
        "2b4589d6feb745cdb6a754e812c1dc7d": {
          "model_module": "@jupyter-widgets/base",
          "model_name": "LayoutModel",
          "model_module_version": "1.2.0",
          "state": {
            "_model_module": "@jupyter-widgets/base",
            "_model_module_version": "1.2.0",
            "_model_name": "LayoutModel",
            "_view_count": null,
            "_view_module": "@jupyter-widgets/base",
            "_view_module_version": "1.2.0",
            "_view_name": "LayoutView",
            "align_content": null,
            "align_items": null,
            "align_self": null,
            "border": null,
            "bottom": null,
            "display": null,
            "flex": null,
            "flex_flow": null,
            "grid_area": null,
            "grid_auto_columns": null,
            "grid_auto_flow": null,
            "grid_auto_rows": null,
            "grid_column": null,
            "grid_gap": null,
            "grid_row": null,
            "grid_template_areas": null,
            "grid_template_columns": null,
            "grid_template_rows": null,
            "height": null,
            "justify_content": null,
            "justify_items": null,
            "left": null,
            "margin": null,
            "max_height": null,
            "max_width": null,
            "min_height": null,
            "min_width": null,
            "object_fit": null,
            "object_position": null,
            "order": null,
            "overflow": null,
            "overflow_x": null,
            "overflow_y": null,
            "padding": null,
            "right": null,
            "top": null,
            "visibility": null,
            "width": null
          }
        },
        "fae79ad9371740d68744e6355dc99a37": {
          "model_module": "@jupyter-widgets/controls",
          "model_name": "DescriptionStyleModel",
          "model_module_version": "1.5.0",
          "state": {
            "_model_module": "@jupyter-widgets/controls",
            "_model_module_version": "1.5.0",
            "_model_name": "DescriptionStyleModel",
            "_view_count": null,
            "_view_module": "@jupyter-widgets/base",
            "_view_module_version": "1.2.0",
            "_view_name": "StyleView",
            "description_width": ""
          }
        }
      }
    }
  },
  "nbformat": 4,
  "nbformat_minor": 5
}