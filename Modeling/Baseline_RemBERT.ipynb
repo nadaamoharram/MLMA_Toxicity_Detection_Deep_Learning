{
  "cells": [
    {
      "cell_type": "markdown",
      "source": [
        "borrowed from bella's version by her suggestion"
      ],
      "metadata": {
        "id": "MEsmk18276Cy"
      },
      "id": "MEsmk18276Cy"
    },
    {
      "cell_type": "code",
      "execution_count": 1,
      "id": "Ytpr43FFf55C",
      "metadata": {
        "id": "Ytpr43FFf55C"
      },
      "outputs": [],
      "source": [
        "!pip install -q evaluate torchinfo bitsandbytes peft"
      ]
    },
    {
      "cell_type": "code",
      "execution_count": 2,
      "id": "5f3c4607",
      "metadata": {
        "id": "5f3c4607"
      },
      "outputs": [],
      "source": [
        "import numpy as np\n",
        "import pandas as pd\n",
        "from datasets import Dataset\n",
        "import evaluate\n",
        "from transformers import BertTokenizer, BertForSequenceClassification\n",
        "from transformers import TrainingArguments, Trainer\n",
        "from torchinfo import summary\n",
        "import torch\n",
        "from transformers import BertTokenizer, BertForSequenceClassification, BitsAndBytesConfig\n",
        "from sklearn.metrics import confusion_matrix\n",
        "import matplotlib.pyplot as plt\n",
        "import seaborn as sns\n",
        "from sklearn.metrics import accuracy_score, precision_score, recall_score, f1_score"
      ]
    },
    {
      "cell_type": "code",
      "source": [
        "from transformers import AutoTokenizer, AutoModelForSequenceClassification"
      ],
      "metadata": {
        "id": "e8g0jfIP8TCN"
      },
      "id": "e8g0jfIP8TCN",
      "execution_count": 3,
      "outputs": []
    },
    {
      "cell_type": "code",
      "execution_count": 4,
      "id": "PAGKhUDbf-6c",
      "metadata": {
        "colab": {
          "base_uri": "https://localhost:8080/"
        },
        "id": "PAGKhUDbf-6c",
        "outputId": "a81c46f1-de27-4df4-d70a-2bb90a216f06"
      },
      "outputs": [
        {
          "output_type": "stream",
          "name": "stdout",
          "text": [
            "Drive already mounted at /content/drive; to attempt to forcibly remount, call drive.mount(\"/content/drive\", force_remount=True).\n"
          ]
        }
      ],
      "source": [
        "from google.colab import drive\n",
        "drive.mount('/content/drive')"
      ]
    },
    {
      "cell_type": "markdown",
      "id": "88ec3af9",
      "metadata": {
        "id": "88ec3af9"
      },
      "source": [
        "## Load Datasets, Tokenizer, and Model"
      ]
    },
    {
      "cell_type": "code",
      "execution_count": 5,
      "id": "f1870343",
      "metadata": {
        "id": "f1870343"
      },
      "outputs": [],
      "source": [
        "train_df = pd.read_csv('/content/drive/MyDrive/266/MLMA_Toxicity_Detection_Deep_Learning/Data/combined_train.csv')\n",
        "val_df = pd.read_csv('/content/drive/MyDrive/266/MLMA_Toxicity_Detection_Deep_Learning/Data/combined_val.csv')\n",
        "test_df = pd.read_csv('/content/drive/MyDrive/266/MLMA_Toxicity_Detection_Deep_Learning/Data/combined_test.csv')\n",
        "\n",
        "train_dataset = Dataset.from_pandas(train_df)\n",
        "val_dataset = Dataset.from_pandas(val_df)\n",
        "test_dataset = Dataset.from_pandas(test_df)"
      ]
    },
    {
      "cell_type": "code",
      "execution_count": 6,
      "id": "0fHEJTkwgwAc",
      "metadata": {
        "colab": {
          "base_uri": "https://localhost:8080/"
        },
        "id": "0fHEJTkwgwAc",
        "outputId": "7a1517b0-7583-42fb-fda4-1b67dc16d080"
      },
      "outputs": [
        {
          "output_type": "stream",
          "name": "stderr",
          "text": [
            "Some weights of RemBertForSequenceClassification were not initialized from the model checkpoint at google/rembert and are newly initialized: ['classifier.bias', 'classifier.weight']\n",
            "You should probably TRAIN this model on a down-stream task to be able to use it for predictions and inference.\n"
          ]
        }
      ],
      "source": [
        "# Load the tokenizer and model\n",
        "tokenizer = AutoTokenizer.from_pretrained('google/rembert')\n",
        "model = AutoModelForSequenceClassification.from_pretrained('google/rembert')\n",
        "model.gradient_checkpointing_enable()"
      ]
    },
    {
      "cell_type": "code",
      "execution_count": 7,
      "id": "9c7ca899",
      "metadata": {
        "colab": {
          "base_uri": "https://localhost:8080/",
          "height": 81,
          "referenced_widgets": [
            "f9c625d67645461b8091bcdcb2163c63",
            "e0e4046d593c4beeb20fc95006b937f4",
            "1862d5d1184840f785764c4f7a495bba",
            "e94de0dda93b4b78a1dda3a23cb88b73",
            "6990060972504539bfffeca0d73ee1ba",
            "ad7a77b4cbe3422ba0462ea6883464e5",
            "1912db96fdfc4d779fb5af692ad0c13d",
            "de5d83aaa0814f3195bc9e89f9b0ab3d",
            "8dff4a2dd3d549f1a01e812baa248aa8",
            "64b2426a1919496185189f618f897abd",
            "9a037da8941d4f7588ee8cd1ec9caa52",
            "7a69b75bb08b4105a6d80001f05a8bef",
            "3333f29358af4ae58e496be16e81675a",
            "2c1f2590d17849bcb44493af51f8fa70",
            "0024d592205c4f908a4d7def0a05d31e",
            "4883242d6af14ad18700551be6112f4b",
            "13d6ea4a1e0c453d81d7ce9d758106ab",
            "de7ceda7db26473a93ddd5300e2aa602",
            "a51c7b39ca50452f8e1da11149fbb6d7",
            "4b729ca6a1ca47629751b00e3a3ead8c",
            "d39b58f10b124979899dcd3b4e34bee8",
            "48d8a25eb8184c60a3b49da2b851287e"
          ]
        },
        "id": "9c7ca899",
        "outputId": "ff4258dd-627f-44fe-e359-56bffe7e4538"
      },
      "outputs": [
        {
          "output_type": "display_data",
          "data": {
            "text/plain": [
              "Map:   0%|          | 0/30702 [00:00<?, ? examples/s]"
            ],
            "application/vnd.jupyter.widget-view+json": {
              "version_major": 2,
              "version_minor": 0,
              "model_id": "f9c625d67645461b8091bcdcb2163c63"
            }
          },
          "metadata": {}
        },
        {
          "output_type": "display_data",
          "data": {
            "text/plain": [
              "Map:   0%|          | 0/3901 [00:00<?, ? examples/s]"
            ],
            "application/vnd.jupyter.widget-view+json": {
              "version_major": 2,
              "version_minor": 0,
              "model_id": "7a69b75bb08b4105a6d80001f05a8bef"
            }
          },
          "metadata": {}
        }
      ],
      "source": [
        "def preprocess(batch):\n",
        "    # Ensure all entries are strings and handle missing values\n",
        "    review_texts = [str(x) for x in batch['text_cleaned']]\n",
        "    encoded = tokenizer(\n",
        "        review_texts,\n",
        "        padding='max_length',\n",
        "        truncation=True,\n",
        "        max_length=64,\n",
        "        return_attention_mask=True,\n",
        "        return_token_type_ids=True,\n",
        "        return_tensors=\"pt\"\n",
        "    )\n",
        "\n",
        "    # Return input features and the label\n",
        "    return {\n",
        "        'input_ids': encoded['input_ids'],\n",
        "        'token_type_ids': encoded['token_type_ids'],\n",
        "        'attention_mask': encoded['attention_mask'],\n",
        "        'labels': batch['hatespeech'] # Keep the 'hatespeech' column as labels\n",
        "    }\n",
        "\n",
        "\n",
        "train_dataset = train_dataset.map(preprocess, batched=True)\n",
        "val_dataset = val_dataset.map(preprocess, batched=True)\n",
        "\n",
        "# Identify columns to remove (all except the new ones)\n",
        "original_columns = train_df.columns.tolist()\n",
        "columns_to_keep = ['input_ids', 'token_type_ids', 'attention_mask', 'labels']\n",
        "columns_to_remove = [col for col in original_columns if col not in columns_to_keep]\n",
        "\n",
        "# Remove original columns from the datasets\n",
        "train_dataset = train_dataset.remove_columns(columns_to_remove)\n",
        "val_dataset = val_dataset.remove_columns(columns_to_remove)"
      ]
    },
    {
      "cell_type": "code",
      "execution_count": 8,
      "id": "a039f2f4",
      "metadata": {
        "colab": {
          "base_uri": "https://localhost:8080/"
        },
        "id": "a039f2f4",
        "outputId": "46bc644c-65c9-48ca-bd27-320780bb743d"
      },
      "outputs": [
        {
          "output_type": "execute_result",
          "data": {
            "text/plain": [
              "Dataset({\n",
              "    features: ['input_ids', 'token_type_ids', 'attention_mask', 'labels'],\n",
              "    num_rows: 30702\n",
              "})"
            ]
          },
          "metadata": {},
          "execution_count": 8
        }
      ],
      "source": [
        "train_dataset"
      ]
    },
    {
      "cell_type": "code",
      "execution_count": 9,
      "id": "285c3375",
      "metadata": {
        "colab": {
          "base_uri": "https://localhost:8080/"
        },
        "id": "285c3375",
        "outputId": "10a9f22a-5a72-4307-a778-eb6c024b16e5"
      },
      "outputs": [
        {
          "output_type": "stream",
          "name": "stdout",
          "text": [
            "هههه وانت لا تنسى ان تمسح بصقة اليهودي الذي إستباح ارضك وعِرضك من....... اما بول البعير ياجاهل فهو فخر ل…\n",
            "{'input_ids': tensor([[   312,  20236,  36763,    717,  36367,   3698,  13916,  85378,   2459,\n",
            "           6971, 112100, 113172,  32804,    573, 181206, 122607,  10624, 134299,\n",
            "          93834,  17442,    573, 220069,   2262,  39649,   1332,  65420,   2262,\n",
            "           1109,  54673,  14963,  69486,    978,  55184,   9292,  14900,  23464,\n",
            "          58995,    573, 202668,   2598,  41749,   1687,    655,    313]]), 'token_type_ids': tensor([[0, 0, 0, 0, 0, 0, 0, 0, 0, 0, 0, 0, 0, 0, 0, 0, 0, 0, 0, 0, 0, 0, 0, 0,\n",
            "         0, 0, 0, 0, 0, 0, 0, 0, 0, 0, 0, 0, 0, 0, 0, 0, 0, 0, 0, 0]]), 'attention_mask': tensor([[1, 1, 1, 1, 1, 1, 1, 1, 1, 1, 1, 1, 1, 1, 1, 1, 1, 1, 1, 1, 1, 1, 1, 1,\n",
            "         1, 1, 1, 1, 1, 1, 1, 1, 1, 1, 1, 1, 1, 1, 1, 1, 1, 1, 1, 1]])}\n",
            "SequenceClassifierOutput(loss=None, logits=tensor([[-0.3358, -0.2998]], grad_fn=<AddmmBackward0>), hidden_states=None, attentions=None)\n"
          ]
        }
      ],
      "source": [
        "# Show a sample input and output\n",
        "\n",
        "text = train_df.iloc[5000]['text_cleaned']\n",
        "encoded_input = tokenizer(text, return_tensors='pt')\n",
        "\n",
        "# Move input tensors to the same device as the model\n",
        "device = model.device\n",
        "encoded_input = {k: v.to(device) for k, v in encoded_input.items()}\n",
        "\n",
        "output = model(**encoded_input)\n",
        "\n",
        "print(text)\n",
        "print(encoded_input)\n",
        "print(output)"
      ]
    },
    {
      "cell_type": "markdown",
      "id": "fd884285",
      "metadata": {
        "id": "fd884285"
      },
      "source": [
        "## Model Structure"
      ]
    },
    {
      "cell_type": "code",
      "execution_count": 10,
      "id": "e2f564f6",
      "metadata": {
        "colab": {
          "base_uri": "https://localhost:8080/"
        },
        "id": "e2f564f6",
        "outputId": "53bdf5c8-a5b0-4bf1-8622-db84e2a9faf0"
      },
      "outputs": [
        {
          "output_type": "stream",
          "name": "stdout",
          "text": [
            "rembert.embeddings.word_embeddings.weight\n",
            "rembert.embeddings.position_embeddings.weight\n",
            "rembert.embeddings.token_type_embeddings.weight\n",
            "rembert.embeddings.LayerNorm.weight\n",
            "rembert.embeddings.LayerNorm.bias\n",
            "rembert.encoder.embedding_hidden_mapping_in.weight\n",
            "rembert.encoder.embedding_hidden_mapping_in.bias\n",
            "rembert.encoder.layer.0.attention.self.query.weight\n",
            "rembert.encoder.layer.0.attention.self.query.bias\n",
            "rembert.encoder.layer.0.attention.self.key.weight\n",
            "rembert.encoder.layer.0.attention.self.key.bias\n",
            "rembert.encoder.layer.0.attention.self.value.weight\n",
            "rembert.encoder.layer.0.attention.self.value.bias\n",
            "rembert.encoder.layer.0.attention.output.dense.weight\n",
            "rembert.encoder.layer.0.attention.output.dense.bias\n",
            "rembert.encoder.layer.0.attention.output.LayerNorm.weight\n",
            "rembert.encoder.layer.0.attention.output.LayerNorm.bias\n",
            "rembert.encoder.layer.0.intermediate.dense.weight\n",
            "rembert.encoder.layer.0.intermediate.dense.bias\n",
            "rembert.encoder.layer.0.output.dense.weight\n",
            "rembert.encoder.layer.0.output.dense.bias\n",
            "rembert.encoder.layer.0.output.LayerNorm.weight\n",
            "rembert.encoder.layer.0.output.LayerNorm.bias\n",
            "rembert.encoder.layer.1.attention.self.query.weight\n",
            "rembert.encoder.layer.1.attention.self.query.bias\n",
            "rembert.encoder.layer.1.attention.self.key.weight\n",
            "rembert.encoder.layer.1.attention.self.key.bias\n",
            "rembert.encoder.layer.1.attention.self.value.weight\n",
            "rembert.encoder.layer.1.attention.self.value.bias\n",
            "rembert.encoder.layer.1.attention.output.dense.weight\n",
            "rembert.encoder.layer.1.attention.output.dense.bias\n",
            "rembert.encoder.layer.1.attention.output.LayerNorm.weight\n",
            "rembert.encoder.layer.1.attention.output.LayerNorm.bias\n",
            "rembert.encoder.layer.1.intermediate.dense.weight\n",
            "rembert.encoder.layer.1.intermediate.dense.bias\n",
            "rembert.encoder.layer.1.output.dense.weight\n",
            "rembert.encoder.layer.1.output.dense.bias\n",
            "rembert.encoder.layer.1.output.LayerNorm.weight\n",
            "rembert.encoder.layer.1.output.LayerNorm.bias\n",
            "rembert.encoder.layer.2.attention.self.query.weight\n",
            "rembert.encoder.layer.2.attention.self.query.bias\n",
            "rembert.encoder.layer.2.attention.self.key.weight\n",
            "rembert.encoder.layer.2.attention.self.key.bias\n",
            "rembert.encoder.layer.2.attention.self.value.weight\n",
            "rembert.encoder.layer.2.attention.self.value.bias\n",
            "rembert.encoder.layer.2.attention.output.dense.weight\n",
            "rembert.encoder.layer.2.attention.output.dense.bias\n",
            "rembert.encoder.layer.2.attention.output.LayerNorm.weight\n",
            "rembert.encoder.layer.2.attention.output.LayerNorm.bias\n",
            "rembert.encoder.layer.2.intermediate.dense.weight\n",
            "rembert.encoder.layer.2.intermediate.dense.bias\n",
            "rembert.encoder.layer.2.output.dense.weight\n",
            "rembert.encoder.layer.2.output.dense.bias\n",
            "rembert.encoder.layer.2.output.LayerNorm.weight\n",
            "rembert.encoder.layer.2.output.LayerNorm.bias\n",
            "rembert.encoder.layer.3.attention.self.query.weight\n",
            "rembert.encoder.layer.3.attention.self.query.bias\n",
            "rembert.encoder.layer.3.attention.self.key.weight\n",
            "rembert.encoder.layer.3.attention.self.key.bias\n",
            "rembert.encoder.layer.3.attention.self.value.weight\n",
            "rembert.encoder.layer.3.attention.self.value.bias\n",
            "rembert.encoder.layer.3.attention.output.dense.weight\n",
            "rembert.encoder.layer.3.attention.output.dense.bias\n",
            "rembert.encoder.layer.3.attention.output.LayerNorm.weight\n",
            "rembert.encoder.layer.3.attention.output.LayerNorm.bias\n",
            "rembert.encoder.layer.3.intermediate.dense.weight\n",
            "rembert.encoder.layer.3.intermediate.dense.bias\n",
            "rembert.encoder.layer.3.output.dense.weight\n",
            "rembert.encoder.layer.3.output.dense.bias\n",
            "rembert.encoder.layer.3.output.LayerNorm.weight\n",
            "rembert.encoder.layer.3.output.LayerNorm.bias\n",
            "rembert.encoder.layer.4.attention.self.query.weight\n",
            "rembert.encoder.layer.4.attention.self.query.bias\n",
            "rembert.encoder.layer.4.attention.self.key.weight\n",
            "rembert.encoder.layer.4.attention.self.key.bias\n",
            "rembert.encoder.layer.4.attention.self.value.weight\n",
            "rembert.encoder.layer.4.attention.self.value.bias\n",
            "rembert.encoder.layer.4.attention.output.dense.weight\n",
            "rembert.encoder.layer.4.attention.output.dense.bias\n",
            "rembert.encoder.layer.4.attention.output.LayerNorm.weight\n",
            "rembert.encoder.layer.4.attention.output.LayerNorm.bias\n",
            "rembert.encoder.layer.4.intermediate.dense.weight\n",
            "rembert.encoder.layer.4.intermediate.dense.bias\n",
            "rembert.encoder.layer.4.output.dense.weight\n",
            "rembert.encoder.layer.4.output.dense.bias\n",
            "rembert.encoder.layer.4.output.LayerNorm.weight\n",
            "rembert.encoder.layer.4.output.LayerNorm.bias\n",
            "rembert.encoder.layer.5.attention.self.query.weight\n",
            "rembert.encoder.layer.5.attention.self.query.bias\n",
            "rembert.encoder.layer.5.attention.self.key.weight\n",
            "rembert.encoder.layer.5.attention.self.key.bias\n",
            "rembert.encoder.layer.5.attention.self.value.weight\n",
            "rembert.encoder.layer.5.attention.self.value.bias\n",
            "rembert.encoder.layer.5.attention.output.dense.weight\n",
            "rembert.encoder.layer.5.attention.output.dense.bias\n",
            "rembert.encoder.layer.5.attention.output.LayerNorm.weight\n",
            "rembert.encoder.layer.5.attention.output.LayerNorm.bias\n",
            "rembert.encoder.layer.5.intermediate.dense.weight\n",
            "rembert.encoder.layer.5.intermediate.dense.bias\n",
            "rembert.encoder.layer.5.output.dense.weight\n",
            "rembert.encoder.layer.5.output.dense.bias\n",
            "rembert.encoder.layer.5.output.LayerNorm.weight\n",
            "rembert.encoder.layer.5.output.LayerNorm.bias\n",
            "rembert.encoder.layer.6.attention.self.query.weight\n",
            "rembert.encoder.layer.6.attention.self.query.bias\n",
            "rembert.encoder.layer.6.attention.self.key.weight\n",
            "rembert.encoder.layer.6.attention.self.key.bias\n",
            "rembert.encoder.layer.6.attention.self.value.weight\n",
            "rembert.encoder.layer.6.attention.self.value.bias\n",
            "rembert.encoder.layer.6.attention.output.dense.weight\n",
            "rembert.encoder.layer.6.attention.output.dense.bias\n",
            "rembert.encoder.layer.6.attention.output.LayerNorm.weight\n",
            "rembert.encoder.layer.6.attention.output.LayerNorm.bias\n",
            "rembert.encoder.layer.6.intermediate.dense.weight\n",
            "rembert.encoder.layer.6.intermediate.dense.bias\n",
            "rembert.encoder.layer.6.output.dense.weight\n",
            "rembert.encoder.layer.6.output.dense.bias\n",
            "rembert.encoder.layer.6.output.LayerNorm.weight\n",
            "rembert.encoder.layer.6.output.LayerNorm.bias\n",
            "rembert.encoder.layer.7.attention.self.query.weight\n",
            "rembert.encoder.layer.7.attention.self.query.bias\n",
            "rembert.encoder.layer.7.attention.self.key.weight\n",
            "rembert.encoder.layer.7.attention.self.key.bias\n",
            "rembert.encoder.layer.7.attention.self.value.weight\n",
            "rembert.encoder.layer.7.attention.self.value.bias\n",
            "rembert.encoder.layer.7.attention.output.dense.weight\n",
            "rembert.encoder.layer.7.attention.output.dense.bias\n",
            "rembert.encoder.layer.7.attention.output.LayerNorm.weight\n",
            "rembert.encoder.layer.7.attention.output.LayerNorm.bias\n",
            "rembert.encoder.layer.7.intermediate.dense.weight\n",
            "rembert.encoder.layer.7.intermediate.dense.bias\n",
            "rembert.encoder.layer.7.output.dense.weight\n",
            "rembert.encoder.layer.7.output.dense.bias\n",
            "rembert.encoder.layer.7.output.LayerNorm.weight\n",
            "rembert.encoder.layer.7.output.LayerNorm.bias\n",
            "rembert.encoder.layer.8.attention.self.query.weight\n",
            "rembert.encoder.layer.8.attention.self.query.bias\n",
            "rembert.encoder.layer.8.attention.self.key.weight\n",
            "rembert.encoder.layer.8.attention.self.key.bias\n",
            "rembert.encoder.layer.8.attention.self.value.weight\n",
            "rembert.encoder.layer.8.attention.self.value.bias\n",
            "rembert.encoder.layer.8.attention.output.dense.weight\n",
            "rembert.encoder.layer.8.attention.output.dense.bias\n",
            "rembert.encoder.layer.8.attention.output.LayerNorm.weight\n",
            "rembert.encoder.layer.8.attention.output.LayerNorm.bias\n",
            "rembert.encoder.layer.8.intermediate.dense.weight\n",
            "rembert.encoder.layer.8.intermediate.dense.bias\n",
            "rembert.encoder.layer.8.output.dense.weight\n",
            "rembert.encoder.layer.8.output.dense.bias\n",
            "rembert.encoder.layer.8.output.LayerNorm.weight\n",
            "rembert.encoder.layer.8.output.LayerNorm.bias\n",
            "rembert.encoder.layer.9.attention.self.query.weight\n",
            "rembert.encoder.layer.9.attention.self.query.bias\n",
            "rembert.encoder.layer.9.attention.self.key.weight\n",
            "rembert.encoder.layer.9.attention.self.key.bias\n",
            "rembert.encoder.layer.9.attention.self.value.weight\n",
            "rembert.encoder.layer.9.attention.self.value.bias\n",
            "rembert.encoder.layer.9.attention.output.dense.weight\n",
            "rembert.encoder.layer.9.attention.output.dense.bias\n",
            "rembert.encoder.layer.9.attention.output.LayerNorm.weight\n",
            "rembert.encoder.layer.9.attention.output.LayerNorm.bias\n",
            "rembert.encoder.layer.9.intermediate.dense.weight\n",
            "rembert.encoder.layer.9.intermediate.dense.bias\n",
            "rembert.encoder.layer.9.output.dense.weight\n",
            "rembert.encoder.layer.9.output.dense.bias\n",
            "rembert.encoder.layer.9.output.LayerNorm.weight\n",
            "rembert.encoder.layer.9.output.LayerNorm.bias\n",
            "rembert.encoder.layer.10.attention.self.query.weight\n",
            "rembert.encoder.layer.10.attention.self.query.bias\n",
            "rembert.encoder.layer.10.attention.self.key.weight\n",
            "rembert.encoder.layer.10.attention.self.key.bias\n",
            "rembert.encoder.layer.10.attention.self.value.weight\n",
            "rembert.encoder.layer.10.attention.self.value.bias\n",
            "rembert.encoder.layer.10.attention.output.dense.weight\n",
            "rembert.encoder.layer.10.attention.output.dense.bias\n",
            "rembert.encoder.layer.10.attention.output.LayerNorm.weight\n",
            "rembert.encoder.layer.10.attention.output.LayerNorm.bias\n",
            "rembert.encoder.layer.10.intermediate.dense.weight\n",
            "rembert.encoder.layer.10.intermediate.dense.bias\n",
            "rembert.encoder.layer.10.output.dense.weight\n",
            "rembert.encoder.layer.10.output.dense.bias\n",
            "rembert.encoder.layer.10.output.LayerNorm.weight\n",
            "rembert.encoder.layer.10.output.LayerNorm.bias\n",
            "rembert.encoder.layer.11.attention.self.query.weight\n",
            "rembert.encoder.layer.11.attention.self.query.bias\n",
            "rembert.encoder.layer.11.attention.self.key.weight\n",
            "rembert.encoder.layer.11.attention.self.key.bias\n",
            "rembert.encoder.layer.11.attention.self.value.weight\n",
            "rembert.encoder.layer.11.attention.self.value.bias\n",
            "rembert.encoder.layer.11.attention.output.dense.weight\n",
            "rembert.encoder.layer.11.attention.output.dense.bias\n",
            "rembert.encoder.layer.11.attention.output.LayerNorm.weight\n",
            "rembert.encoder.layer.11.attention.output.LayerNorm.bias\n",
            "rembert.encoder.layer.11.intermediate.dense.weight\n",
            "rembert.encoder.layer.11.intermediate.dense.bias\n",
            "rembert.encoder.layer.11.output.dense.weight\n",
            "rembert.encoder.layer.11.output.dense.bias\n",
            "rembert.encoder.layer.11.output.LayerNorm.weight\n",
            "rembert.encoder.layer.11.output.LayerNorm.bias\n",
            "rembert.encoder.layer.12.attention.self.query.weight\n",
            "rembert.encoder.layer.12.attention.self.query.bias\n",
            "rembert.encoder.layer.12.attention.self.key.weight\n",
            "rembert.encoder.layer.12.attention.self.key.bias\n",
            "rembert.encoder.layer.12.attention.self.value.weight\n",
            "rembert.encoder.layer.12.attention.self.value.bias\n",
            "rembert.encoder.layer.12.attention.output.dense.weight\n",
            "rembert.encoder.layer.12.attention.output.dense.bias\n",
            "rembert.encoder.layer.12.attention.output.LayerNorm.weight\n",
            "rembert.encoder.layer.12.attention.output.LayerNorm.bias\n",
            "rembert.encoder.layer.12.intermediate.dense.weight\n",
            "rembert.encoder.layer.12.intermediate.dense.bias\n",
            "rembert.encoder.layer.12.output.dense.weight\n",
            "rembert.encoder.layer.12.output.dense.bias\n",
            "rembert.encoder.layer.12.output.LayerNorm.weight\n",
            "rembert.encoder.layer.12.output.LayerNorm.bias\n",
            "rembert.encoder.layer.13.attention.self.query.weight\n",
            "rembert.encoder.layer.13.attention.self.query.bias\n",
            "rembert.encoder.layer.13.attention.self.key.weight\n",
            "rembert.encoder.layer.13.attention.self.key.bias\n",
            "rembert.encoder.layer.13.attention.self.value.weight\n",
            "rembert.encoder.layer.13.attention.self.value.bias\n",
            "rembert.encoder.layer.13.attention.output.dense.weight\n",
            "rembert.encoder.layer.13.attention.output.dense.bias\n",
            "rembert.encoder.layer.13.attention.output.LayerNorm.weight\n",
            "rembert.encoder.layer.13.attention.output.LayerNorm.bias\n",
            "rembert.encoder.layer.13.intermediate.dense.weight\n",
            "rembert.encoder.layer.13.intermediate.dense.bias\n",
            "rembert.encoder.layer.13.output.dense.weight\n",
            "rembert.encoder.layer.13.output.dense.bias\n",
            "rembert.encoder.layer.13.output.LayerNorm.weight\n",
            "rembert.encoder.layer.13.output.LayerNorm.bias\n",
            "rembert.encoder.layer.14.attention.self.query.weight\n",
            "rembert.encoder.layer.14.attention.self.query.bias\n",
            "rembert.encoder.layer.14.attention.self.key.weight\n",
            "rembert.encoder.layer.14.attention.self.key.bias\n",
            "rembert.encoder.layer.14.attention.self.value.weight\n",
            "rembert.encoder.layer.14.attention.self.value.bias\n",
            "rembert.encoder.layer.14.attention.output.dense.weight\n",
            "rembert.encoder.layer.14.attention.output.dense.bias\n",
            "rembert.encoder.layer.14.attention.output.LayerNorm.weight\n",
            "rembert.encoder.layer.14.attention.output.LayerNorm.bias\n",
            "rembert.encoder.layer.14.intermediate.dense.weight\n",
            "rembert.encoder.layer.14.intermediate.dense.bias\n",
            "rembert.encoder.layer.14.output.dense.weight\n",
            "rembert.encoder.layer.14.output.dense.bias\n",
            "rembert.encoder.layer.14.output.LayerNorm.weight\n",
            "rembert.encoder.layer.14.output.LayerNorm.bias\n",
            "rembert.encoder.layer.15.attention.self.query.weight\n",
            "rembert.encoder.layer.15.attention.self.query.bias\n",
            "rembert.encoder.layer.15.attention.self.key.weight\n",
            "rembert.encoder.layer.15.attention.self.key.bias\n",
            "rembert.encoder.layer.15.attention.self.value.weight\n",
            "rembert.encoder.layer.15.attention.self.value.bias\n",
            "rembert.encoder.layer.15.attention.output.dense.weight\n",
            "rembert.encoder.layer.15.attention.output.dense.bias\n",
            "rembert.encoder.layer.15.attention.output.LayerNorm.weight\n",
            "rembert.encoder.layer.15.attention.output.LayerNorm.bias\n",
            "rembert.encoder.layer.15.intermediate.dense.weight\n",
            "rembert.encoder.layer.15.intermediate.dense.bias\n",
            "rembert.encoder.layer.15.output.dense.weight\n",
            "rembert.encoder.layer.15.output.dense.bias\n",
            "rembert.encoder.layer.15.output.LayerNorm.weight\n",
            "rembert.encoder.layer.15.output.LayerNorm.bias\n",
            "rembert.encoder.layer.16.attention.self.query.weight\n",
            "rembert.encoder.layer.16.attention.self.query.bias\n",
            "rembert.encoder.layer.16.attention.self.key.weight\n",
            "rembert.encoder.layer.16.attention.self.key.bias\n",
            "rembert.encoder.layer.16.attention.self.value.weight\n",
            "rembert.encoder.layer.16.attention.self.value.bias\n",
            "rembert.encoder.layer.16.attention.output.dense.weight\n",
            "rembert.encoder.layer.16.attention.output.dense.bias\n",
            "rembert.encoder.layer.16.attention.output.LayerNorm.weight\n",
            "rembert.encoder.layer.16.attention.output.LayerNorm.bias\n",
            "rembert.encoder.layer.16.intermediate.dense.weight\n",
            "rembert.encoder.layer.16.intermediate.dense.bias\n",
            "rembert.encoder.layer.16.output.dense.weight\n",
            "rembert.encoder.layer.16.output.dense.bias\n",
            "rembert.encoder.layer.16.output.LayerNorm.weight\n",
            "rembert.encoder.layer.16.output.LayerNorm.bias\n",
            "rembert.encoder.layer.17.attention.self.query.weight\n",
            "rembert.encoder.layer.17.attention.self.query.bias\n",
            "rembert.encoder.layer.17.attention.self.key.weight\n",
            "rembert.encoder.layer.17.attention.self.key.bias\n",
            "rembert.encoder.layer.17.attention.self.value.weight\n",
            "rembert.encoder.layer.17.attention.self.value.bias\n",
            "rembert.encoder.layer.17.attention.output.dense.weight\n",
            "rembert.encoder.layer.17.attention.output.dense.bias\n",
            "rembert.encoder.layer.17.attention.output.LayerNorm.weight\n",
            "rembert.encoder.layer.17.attention.output.LayerNorm.bias\n",
            "rembert.encoder.layer.17.intermediate.dense.weight\n",
            "rembert.encoder.layer.17.intermediate.dense.bias\n",
            "rembert.encoder.layer.17.output.dense.weight\n",
            "rembert.encoder.layer.17.output.dense.bias\n",
            "rembert.encoder.layer.17.output.LayerNorm.weight\n",
            "rembert.encoder.layer.17.output.LayerNorm.bias\n",
            "rembert.encoder.layer.18.attention.self.query.weight\n",
            "rembert.encoder.layer.18.attention.self.query.bias\n",
            "rembert.encoder.layer.18.attention.self.key.weight\n",
            "rembert.encoder.layer.18.attention.self.key.bias\n",
            "rembert.encoder.layer.18.attention.self.value.weight\n",
            "rembert.encoder.layer.18.attention.self.value.bias\n",
            "rembert.encoder.layer.18.attention.output.dense.weight\n",
            "rembert.encoder.layer.18.attention.output.dense.bias\n",
            "rembert.encoder.layer.18.attention.output.LayerNorm.weight\n",
            "rembert.encoder.layer.18.attention.output.LayerNorm.bias\n",
            "rembert.encoder.layer.18.intermediate.dense.weight\n",
            "rembert.encoder.layer.18.intermediate.dense.bias\n",
            "rembert.encoder.layer.18.output.dense.weight\n",
            "rembert.encoder.layer.18.output.dense.bias\n",
            "rembert.encoder.layer.18.output.LayerNorm.weight\n",
            "rembert.encoder.layer.18.output.LayerNorm.bias\n",
            "rembert.encoder.layer.19.attention.self.query.weight\n",
            "rembert.encoder.layer.19.attention.self.query.bias\n",
            "rembert.encoder.layer.19.attention.self.key.weight\n",
            "rembert.encoder.layer.19.attention.self.key.bias\n",
            "rembert.encoder.layer.19.attention.self.value.weight\n",
            "rembert.encoder.layer.19.attention.self.value.bias\n",
            "rembert.encoder.layer.19.attention.output.dense.weight\n",
            "rembert.encoder.layer.19.attention.output.dense.bias\n",
            "rembert.encoder.layer.19.attention.output.LayerNorm.weight\n",
            "rembert.encoder.layer.19.attention.output.LayerNorm.bias\n",
            "rembert.encoder.layer.19.intermediate.dense.weight\n",
            "rembert.encoder.layer.19.intermediate.dense.bias\n",
            "rembert.encoder.layer.19.output.dense.weight\n",
            "rembert.encoder.layer.19.output.dense.bias\n",
            "rembert.encoder.layer.19.output.LayerNorm.weight\n",
            "rembert.encoder.layer.19.output.LayerNorm.bias\n",
            "rembert.encoder.layer.20.attention.self.query.weight\n",
            "rembert.encoder.layer.20.attention.self.query.bias\n",
            "rembert.encoder.layer.20.attention.self.key.weight\n",
            "rembert.encoder.layer.20.attention.self.key.bias\n",
            "rembert.encoder.layer.20.attention.self.value.weight\n",
            "rembert.encoder.layer.20.attention.self.value.bias\n",
            "rembert.encoder.layer.20.attention.output.dense.weight\n",
            "rembert.encoder.layer.20.attention.output.dense.bias\n",
            "rembert.encoder.layer.20.attention.output.LayerNorm.weight\n",
            "rembert.encoder.layer.20.attention.output.LayerNorm.bias\n",
            "rembert.encoder.layer.20.intermediate.dense.weight\n",
            "rembert.encoder.layer.20.intermediate.dense.bias\n",
            "rembert.encoder.layer.20.output.dense.weight\n",
            "rembert.encoder.layer.20.output.dense.bias\n",
            "rembert.encoder.layer.20.output.LayerNorm.weight\n",
            "rembert.encoder.layer.20.output.LayerNorm.bias\n",
            "rembert.encoder.layer.21.attention.self.query.weight\n",
            "rembert.encoder.layer.21.attention.self.query.bias\n",
            "rembert.encoder.layer.21.attention.self.key.weight\n",
            "rembert.encoder.layer.21.attention.self.key.bias\n",
            "rembert.encoder.layer.21.attention.self.value.weight\n",
            "rembert.encoder.layer.21.attention.self.value.bias\n",
            "rembert.encoder.layer.21.attention.output.dense.weight\n",
            "rembert.encoder.layer.21.attention.output.dense.bias\n",
            "rembert.encoder.layer.21.attention.output.LayerNorm.weight\n",
            "rembert.encoder.layer.21.attention.output.LayerNorm.bias\n",
            "rembert.encoder.layer.21.intermediate.dense.weight\n",
            "rembert.encoder.layer.21.intermediate.dense.bias\n",
            "rembert.encoder.layer.21.output.dense.weight\n",
            "rembert.encoder.layer.21.output.dense.bias\n",
            "rembert.encoder.layer.21.output.LayerNorm.weight\n",
            "rembert.encoder.layer.21.output.LayerNorm.bias\n",
            "rembert.encoder.layer.22.attention.self.query.weight\n",
            "rembert.encoder.layer.22.attention.self.query.bias\n",
            "rembert.encoder.layer.22.attention.self.key.weight\n",
            "rembert.encoder.layer.22.attention.self.key.bias\n",
            "rembert.encoder.layer.22.attention.self.value.weight\n",
            "rembert.encoder.layer.22.attention.self.value.bias\n",
            "rembert.encoder.layer.22.attention.output.dense.weight\n",
            "rembert.encoder.layer.22.attention.output.dense.bias\n",
            "rembert.encoder.layer.22.attention.output.LayerNorm.weight\n",
            "rembert.encoder.layer.22.attention.output.LayerNorm.bias\n",
            "rembert.encoder.layer.22.intermediate.dense.weight\n",
            "rembert.encoder.layer.22.intermediate.dense.bias\n",
            "rembert.encoder.layer.22.output.dense.weight\n",
            "rembert.encoder.layer.22.output.dense.bias\n",
            "rembert.encoder.layer.22.output.LayerNorm.weight\n",
            "rembert.encoder.layer.22.output.LayerNorm.bias\n",
            "rembert.encoder.layer.23.attention.self.query.weight\n",
            "rembert.encoder.layer.23.attention.self.query.bias\n",
            "rembert.encoder.layer.23.attention.self.key.weight\n",
            "rembert.encoder.layer.23.attention.self.key.bias\n",
            "rembert.encoder.layer.23.attention.self.value.weight\n",
            "rembert.encoder.layer.23.attention.self.value.bias\n",
            "rembert.encoder.layer.23.attention.output.dense.weight\n",
            "rembert.encoder.layer.23.attention.output.dense.bias\n",
            "rembert.encoder.layer.23.attention.output.LayerNorm.weight\n",
            "rembert.encoder.layer.23.attention.output.LayerNorm.bias\n",
            "rembert.encoder.layer.23.intermediate.dense.weight\n",
            "rembert.encoder.layer.23.intermediate.dense.bias\n",
            "rembert.encoder.layer.23.output.dense.weight\n",
            "rembert.encoder.layer.23.output.dense.bias\n",
            "rembert.encoder.layer.23.output.LayerNorm.weight\n",
            "rembert.encoder.layer.23.output.LayerNorm.bias\n",
            "rembert.encoder.layer.24.attention.self.query.weight\n",
            "rembert.encoder.layer.24.attention.self.query.bias\n",
            "rembert.encoder.layer.24.attention.self.key.weight\n",
            "rembert.encoder.layer.24.attention.self.key.bias\n",
            "rembert.encoder.layer.24.attention.self.value.weight\n",
            "rembert.encoder.layer.24.attention.self.value.bias\n",
            "rembert.encoder.layer.24.attention.output.dense.weight\n",
            "rembert.encoder.layer.24.attention.output.dense.bias\n",
            "rembert.encoder.layer.24.attention.output.LayerNorm.weight\n",
            "rembert.encoder.layer.24.attention.output.LayerNorm.bias\n",
            "rembert.encoder.layer.24.intermediate.dense.weight\n",
            "rembert.encoder.layer.24.intermediate.dense.bias\n",
            "rembert.encoder.layer.24.output.dense.weight\n",
            "rembert.encoder.layer.24.output.dense.bias\n",
            "rembert.encoder.layer.24.output.LayerNorm.weight\n",
            "rembert.encoder.layer.24.output.LayerNorm.bias\n",
            "rembert.encoder.layer.25.attention.self.query.weight\n",
            "rembert.encoder.layer.25.attention.self.query.bias\n",
            "rembert.encoder.layer.25.attention.self.key.weight\n",
            "rembert.encoder.layer.25.attention.self.key.bias\n",
            "rembert.encoder.layer.25.attention.self.value.weight\n",
            "rembert.encoder.layer.25.attention.self.value.bias\n",
            "rembert.encoder.layer.25.attention.output.dense.weight\n",
            "rembert.encoder.layer.25.attention.output.dense.bias\n",
            "rembert.encoder.layer.25.attention.output.LayerNorm.weight\n",
            "rembert.encoder.layer.25.attention.output.LayerNorm.bias\n",
            "rembert.encoder.layer.25.intermediate.dense.weight\n",
            "rembert.encoder.layer.25.intermediate.dense.bias\n",
            "rembert.encoder.layer.25.output.dense.weight\n",
            "rembert.encoder.layer.25.output.dense.bias\n",
            "rembert.encoder.layer.25.output.LayerNorm.weight\n",
            "rembert.encoder.layer.25.output.LayerNorm.bias\n",
            "rembert.encoder.layer.26.attention.self.query.weight\n",
            "rembert.encoder.layer.26.attention.self.query.bias\n",
            "rembert.encoder.layer.26.attention.self.key.weight\n",
            "rembert.encoder.layer.26.attention.self.key.bias\n",
            "rembert.encoder.layer.26.attention.self.value.weight\n",
            "rembert.encoder.layer.26.attention.self.value.bias\n",
            "rembert.encoder.layer.26.attention.output.dense.weight\n",
            "rembert.encoder.layer.26.attention.output.dense.bias\n",
            "rembert.encoder.layer.26.attention.output.LayerNorm.weight\n",
            "rembert.encoder.layer.26.attention.output.LayerNorm.bias\n",
            "rembert.encoder.layer.26.intermediate.dense.weight\n",
            "rembert.encoder.layer.26.intermediate.dense.bias\n",
            "rembert.encoder.layer.26.output.dense.weight\n",
            "rembert.encoder.layer.26.output.dense.bias\n",
            "rembert.encoder.layer.26.output.LayerNorm.weight\n",
            "rembert.encoder.layer.26.output.LayerNorm.bias\n",
            "rembert.encoder.layer.27.attention.self.query.weight\n",
            "rembert.encoder.layer.27.attention.self.query.bias\n",
            "rembert.encoder.layer.27.attention.self.key.weight\n",
            "rembert.encoder.layer.27.attention.self.key.bias\n",
            "rembert.encoder.layer.27.attention.self.value.weight\n",
            "rembert.encoder.layer.27.attention.self.value.bias\n",
            "rembert.encoder.layer.27.attention.output.dense.weight\n",
            "rembert.encoder.layer.27.attention.output.dense.bias\n",
            "rembert.encoder.layer.27.attention.output.LayerNorm.weight\n",
            "rembert.encoder.layer.27.attention.output.LayerNorm.bias\n",
            "rembert.encoder.layer.27.intermediate.dense.weight\n",
            "rembert.encoder.layer.27.intermediate.dense.bias\n",
            "rembert.encoder.layer.27.output.dense.weight\n",
            "rembert.encoder.layer.27.output.dense.bias\n",
            "rembert.encoder.layer.27.output.LayerNorm.weight\n",
            "rembert.encoder.layer.27.output.LayerNorm.bias\n",
            "rembert.encoder.layer.28.attention.self.query.weight\n",
            "rembert.encoder.layer.28.attention.self.query.bias\n",
            "rembert.encoder.layer.28.attention.self.key.weight\n",
            "rembert.encoder.layer.28.attention.self.key.bias\n",
            "rembert.encoder.layer.28.attention.self.value.weight\n",
            "rembert.encoder.layer.28.attention.self.value.bias\n",
            "rembert.encoder.layer.28.attention.output.dense.weight\n",
            "rembert.encoder.layer.28.attention.output.dense.bias\n",
            "rembert.encoder.layer.28.attention.output.LayerNorm.weight\n",
            "rembert.encoder.layer.28.attention.output.LayerNorm.bias\n",
            "rembert.encoder.layer.28.intermediate.dense.weight\n",
            "rembert.encoder.layer.28.intermediate.dense.bias\n",
            "rembert.encoder.layer.28.output.dense.weight\n",
            "rembert.encoder.layer.28.output.dense.bias\n",
            "rembert.encoder.layer.28.output.LayerNorm.weight\n",
            "rembert.encoder.layer.28.output.LayerNorm.bias\n",
            "rembert.encoder.layer.29.attention.self.query.weight\n",
            "rembert.encoder.layer.29.attention.self.query.bias\n",
            "rembert.encoder.layer.29.attention.self.key.weight\n",
            "rembert.encoder.layer.29.attention.self.key.bias\n",
            "rembert.encoder.layer.29.attention.self.value.weight\n",
            "rembert.encoder.layer.29.attention.self.value.bias\n",
            "rembert.encoder.layer.29.attention.output.dense.weight\n",
            "rembert.encoder.layer.29.attention.output.dense.bias\n",
            "rembert.encoder.layer.29.attention.output.LayerNorm.weight\n",
            "rembert.encoder.layer.29.attention.output.LayerNorm.bias\n",
            "rembert.encoder.layer.29.intermediate.dense.weight\n",
            "rembert.encoder.layer.29.intermediate.dense.bias\n",
            "rembert.encoder.layer.29.output.dense.weight\n",
            "rembert.encoder.layer.29.output.dense.bias\n",
            "rembert.encoder.layer.29.output.LayerNorm.weight\n",
            "rembert.encoder.layer.29.output.LayerNorm.bias\n",
            "rembert.encoder.layer.30.attention.self.query.weight\n",
            "rembert.encoder.layer.30.attention.self.query.bias\n",
            "rembert.encoder.layer.30.attention.self.key.weight\n",
            "rembert.encoder.layer.30.attention.self.key.bias\n",
            "rembert.encoder.layer.30.attention.self.value.weight\n",
            "rembert.encoder.layer.30.attention.self.value.bias\n",
            "rembert.encoder.layer.30.attention.output.dense.weight\n",
            "rembert.encoder.layer.30.attention.output.dense.bias\n",
            "rembert.encoder.layer.30.attention.output.LayerNorm.weight\n",
            "rembert.encoder.layer.30.attention.output.LayerNorm.bias\n",
            "rembert.encoder.layer.30.intermediate.dense.weight\n",
            "rembert.encoder.layer.30.intermediate.dense.bias\n",
            "rembert.encoder.layer.30.output.dense.weight\n",
            "rembert.encoder.layer.30.output.dense.bias\n",
            "rembert.encoder.layer.30.output.LayerNorm.weight\n",
            "rembert.encoder.layer.30.output.LayerNorm.bias\n",
            "rembert.encoder.layer.31.attention.self.query.weight\n",
            "rembert.encoder.layer.31.attention.self.query.bias\n",
            "rembert.encoder.layer.31.attention.self.key.weight\n",
            "rembert.encoder.layer.31.attention.self.key.bias\n",
            "rembert.encoder.layer.31.attention.self.value.weight\n",
            "rembert.encoder.layer.31.attention.self.value.bias\n",
            "rembert.encoder.layer.31.attention.output.dense.weight\n",
            "rembert.encoder.layer.31.attention.output.dense.bias\n",
            "rembert.encoder.layer.31.attention.output.LayerNorm.weight\n",
            "rembert.encoder.layer.31.attention.output.LayerNorm.bias\n",
            "rembert.encoder.layer.31.intermediate.dense.weight\n",
            "rembert.encoder.layer.31.intermediate.dense.bias\n",
            "rembert.encoder.layer.31.output.dense.weight\n",
            "rembert.encoder.layer.31.output.dense.bias\n",
            "rembert.encoder.layer.31.output.LayerNorm.weight\n",
            "rembert.encoder.layer.31.output.LayerNorm.bias\n",
            "rembert.pooler.dense.weight\n",
            "rembert.pooler.dense.bias\n",
            "classifier.weight\n",
            "classifier.bias\n"
          ]
        }
      ],
      "source": [
        "for name, param in model.named_parameters():\n",
        "    print(name)"
      ]
    },
    {
      "cell_type": "code",
      "execution_count": 11,
      "id": "5f75cf7f",
      "metadata": {
        "id": "5f75cf7f"
      },
      "outputs": [],
      "source": [
        "# Freeze all of the pre-trained BERT layers to make the fine tuning go much faster.\n",
        "# Then later we'll try unfreezing some or all layers and see what works better.\n",
        "# We need to keep the final classification layer unfrozen no matter what,\n",
        "# because that's a new layer that hasn't been trained at all yet, and needs to be trained for our task.\n",
        "\n",
        "\n",
        "for name, param in model.named_parameters():\n",
        "    if name.split(\".\")[0] == \"bert\":\n",
        "        param.requires_grad = False"
      ]
    },
    {
      "cell_type": "code",
      "execution_count": 12,
      "id": "6a08b323",
      "metadata": {
        "colab": {
          "base_uri": "https://localhost:8080/"
        },
        "id": "6a08b323",
        "outputId": "823241f9-e32f-4036-d250-8742fc2b0dd4"
      },
      "outputs": [
        {
          "output_type": "execute_result",
          "data": {
            "text/plain": [
              "=====================================================================================\n",
              "Layer (type:depth-idx)                                       Param #\n",
              "=====================================================================================\n",
              "RemBertForSequenceClassification                             --\n",
              "├─RemBertModel: 1-1                                          --\n",
              "│    └─RemBertEmbeddings: 2-1                                --\n",
              "│    │    └─Embedding: 3-1                                   64,076,800\n",
              "│    │    └─Embedding: 3-2                                   131,072\n",
              "│    │    └─Embedding: 3-3                                   512\n",
              "│    │    └─LayerNorm: 3-4                                   512\n",
              "│    │    └─Dropout: 3-5                                     --\n",
              "│    └─RemBertEncoder: 2-2                                   --\n",
              "│    │    └─Linear: 3-6                                      296,064\n",
              "│    │    └─ModuleList: 3-7                                  510,087,168\n",
              "│    └─RemBertPooler: 2-3                                    --\n",
              "│    │    └─Linear: 3-8                                      1,328,256\n",
              "│    │    └─Tanh: 3-9                                        --\n",
              "├─Dropout: 1-2                                               --\n",
              "├─Linear: 1-3                                                2,306\n",
              "=====================================================================================\n",
              "Total params: 575,922,690\n",
              "Trainable params: 575,922,690\n",
              "Non-trainable params: 0\n",
              "====================================================================================="
            ]
          },
          "metadata": {},
          "execution_count": 12
        }
      ],
      "source": [
        "\n",
        "# confirm all pre-trained layers are frozen\n",
        "summary(model)"
      ]
    },
    {
      "cell_type": "markdown",
      "id": "166cb951",
      "metadata": {
        "id": "166cb951"
      },
      "source": [
        "## Model Training"
      ]
    },
    {
      "cell_type": "code",
      "execution_count": 13,
      "id": "8cf24dfe",
      "metadata": {
        "id": "8cf24dfe"
      },
      "outputs": [],
      "source": [
        "batch_size = 2\n",
        "num_epochs = 1\n",
        "\n",
        "training_args = TrainingArguments(\n",
        "    output_dir=\"model_checkpoints\",\n",
        "    per_device_train_batch_size=batch_size,\n",
        "    per_device_eval_batch_size=batch_size,\n",
        "    fp16=True, # to help memory management\n",
        "    num_train_epochs=num_epochs,\n",
        "    eval_strategy=\"epoch\",\n",
        "    save_strategy=\"epoch\",\n",
        "    report_to='none'\n",
        ")"
      ]
    },
    {
      "cell_type": "code",
      "execution_count": 14,
      "id": "40b4ce70",
      "metadata": {
        "id": "40b4ce70"
      },
      "outputs": [],
      "source": [
        "import evaluate\n",
        "from sklearn.metrics import precision_score, recall_score, f1_score, roc_auc_score\n",
        "\n",
        "# Load the accuracy metric\n",
        "accuracy_metric = evaluate.load('accuracy')\n",
        "\n",
        "def compute_metrics(p):\n",
        "    predictions, labels = p\n",
        "    # For single-label classification, use argmax to get predicted labels\n",
        "    predicted_labels = np.argmax(predictions, axis=1)\n",
        "\n",
        "    # Compute metrics\n",
        "    accuracy = accuracy_metric.compute(predictions=predicted_labels, references=labels)\n",
        "    precision = precision_score(labels, predicted_labels, zero_division=0)\n",
        "    recall = recall_score(labels, predicted_labels, zero_division=0)\n",
        "    f1 = f1_score(labels, predicted_labels, zero_division=0)\n",
        "\n",
        "    # For AUC, we need the probabilities of the positive class (assuming binary classification)\n",
        "    # If predictions are logits, apply softmax or sigmoid to get probabilities\n",
        "    if predictions.shape[-1] == 2: # Check if it's a binary classification output\n",
        "        probabilities = torch.softmax(torch.tensor(predictions), dim=1)[:, 1].numpy()\n",
        "        auc = roc_auc_score(labels, probabilities)\n",
        "    else: # Handle cases that are not binary classification\n",
        "        auc = None # Or compute a different type of AUC if applicable\n",
        "\n",
        "    return {\n",
        "        'accuracy': accuracy['accuracy'],\n",
        "        'precision': precision,\n",
        "        'recall': recall,\n",
        "        'f1': f1,\n",
        "        'roc_auc': auc\n",
        "    }"
      ]
    },
    {
      "cell_type": "code",
      "source": [],
      "metadata": {
        "id": "YmnM-jRk-utP"
      },
      "id": "YmnM-jRk-utP",
      "execution_count": 14,
      "outputs": []
    },
    {
      "cell_type": "code",
      "execution_count": 15,
      "id": "ade2ed88",
      "metadata": {
        "id": "ade2ed88"
      },
      "outputs": [],
      "source": [
        "trainer = Trainer(\n",
        "    model=model,\n",
        "    args=training_args,\n",
        "    train_dataset=train_dataset,\n",
        "    eval_dataset=val_dataset,\n",
        "    compute_metrics=compute_metrics\n",
        ")"
      ]
    },
    {
      "cell_type": "code",
      "source": [
        "import torch\n",
        "torch.cuda.empty_cache()"
      ],
      "metadata": {
        "id": "THo9uVat_vmo"
      },
      "id": "THo9uVat_vmo",
      "execution_count": 16,
      "outputs": []
    },
    {
      "cell_type": "code",
      "source": [
        "!nvidia-smi"
      ],
      "metadata": {
        "colab": {
          "base_uri": "https://localhost:8080/"
        },
        "id": "8HbfLySN_8Jx",
        "outputId": "16f2b172-4903-4761-b20e-34def67063f9"
      },
      "id": "8HbfLySN_8Jx",
      "execution_count": 17,
      "outputs": [
        {
          "output_type": "stream",
          "name": "stdout",
          "text": [
            "Wed Jul 16 20:50:57 2025       \n",
            "+-----------------------------------------------------------------------------------------+\n",
            "| NVIDIA-SMI 550.54.15              Driver Version: 550.54.15      CUDA Version: 12.4     |\n",
            "|-----------------------------------------+------------------------+----------------------+\n",
            "| GPU  Name                 Persistence-M | Bus-Id          Disp.A | Volatile Uncorr. ECC |\n",
            "| Fan  Temp   Perf          Pwr:Usage/Cap |           Memory-Usage | GPU-Util  Compute M. |\n",
            "|                                         |                        |               MIG M. |\n",
            "|=========================================+========================+======================|\n",
            "|   0  Tesla T4                       Off |   00000000:00:04.0 Off |                    0 |\n",
            "| N/A   47C    P0             26W /   70W |    2620MiB /  15360MiB |      4%      Default |\n",
            "|                                         |                        |                  N/A |\n",
            "+-----------------------------------------+------------------------+----------------------+\n",
            "                                                                                         \n",
            "+-----------------------------------------------------------------------------------------+\n",
            "| Processes:                                                                              |\n",
            "|  GPU   GI   CI        PID   Type   Process name                              GPU Memory |\n",
            "|        ID   ID                                                               Usage      |\n",
            "|=========================================================================================|\n",
            "+-----------------------------------------------------------------------------------------+\n"
          ]
        }
      ]
    },
    {
      "cell_type": "code",
      "execution_count": 18,
      "id": "1fde0f66",
      "metadata": {
        "colab": {
          "base_uri": "https://localhost:8080/",
          "height": 141
        },
        "id": "1fde0f66",
        "outputId": "825d6186-54ac-4cb0-c183-2fbca2014f21"
      },
      "outputs": [
        {
          "output_type": "display_data",
          "data": {
            "text/plain": [
              "<IPython.core.display.HTML object>"
            ],
            "text/html": [
              "\n",
              "    <div>\n",
              "      \n",
              "      <progress value='15351' max='15351' style='width:300px; height:20px; vertical-align: middle;'></progress>\n",
              "      [15351/15351 1:49:00, Epoch 1/1]\n",
              "    </div>\n",
              "    <table border=\"1\" class=\"dataframe\">\n",
              "  <thead>\n",
              " <tr style=\"text-align: left;\">\n",
              "      <th>Epoch</th>\n",
              "      <th>Training Loss</th>\n",
              "      <th>Validation Loss</th>\n",
              "      <th>Accuracy</th>\n",
              "      <th>Precision</th>\n",
              "      <th>Recall</th>\n",
              "      <th>F1</th>\n",
              "      <th>Roc Auc</th>\n",
              "    </tr>\n",
              "  </thead>\n",
              "  <tbody>\n",
              "    <tr>\n",
              "      <td>1</td>\n",
              "      <td>0.694000</td>\n",
              "      <td>0.692401</td>\n",
              "      <td>0.519098</td>\n",
              "      <td>0.000000</td>\n",
              "      <td>0.000000</td>\n",
              "      <td>0.000000</td>\n",
              "      <td>0.502139</td>\n",
              "    </tr>\n",
              "  </tbody>\n",
              "</table><p>"
            ]
          },
          "metadata": {}
        },
        {
          "output_type": "execute_result",
          "data": {
            "text/plain": [
              "TrainOutput(global_step=15351, training_loss=0.7014112365058669, metrics={'train_runtime': 6542.4959, 'train_samples_per_second': 4.693, 'train_steps_per_second': 2.346, 'total_flos': 6032890607159808.0, 'train_loss': 0.7014112365058669, 'epoch': 1.0})"
            ]
          },
          "metadata": {},
          "execution_count": 18
        }
      ],
      "source": [
        "trainer.train()"
      ]
    },
    {
      "cell_type": "code",
      "execution_count": 19,
      "id": "dM_EJf20n8MT",
      "metadata": {
        "colab": {
          "base_uri": "https://localhost:8080/",
          "height": 211
        },
        "id": "dM_EJf20n8MT",
        "outputId": "b73e91b6-ddb2-44c1-aff1-82c1ade3c8ae"
      },
      "outputs": [
        {
          "output_type": "display_data",
          "data": {
            "text/plain": [
              "<IPython.core.display.HTML object>"
            ],
            "text/html": [
              "\n",
              "    <div>\n",
              "      \n",
              "      <progress value='1951' max='1951' style='width:300px; height:20px; vertical-align: middle;'></progress>\n",
              "      [1951/1951 01:23]\n",
              "    </div>\n",
              "    "
            ]
          },
          "metadata": {}
        },
        {
          "output_type": "execute_result",
          "data": {
            "text/plain": [
              "{'eval_loss': 0.6924005746841431,\n",
              " 'eval_accuracy': 0.5190976672648039,\n",
              " 'eval_precision': 0.0,\n",
              " 'eval_recall': 0.0,\n",
              " 'eval_f1': 0.0,\n",
              " 'eval_roc_auc': 0.5021394350996341,\n",
              " 'eval_runtime': 84.0387,\n",
              " 'eval_samples_per_second': 46.419,\n",
              " 'eval_steps_per_second': 23.215,\n",
              " 'epoch': 1.0}"
            ]
          },
          "metadata": {},
          "execution_count": 19
        }
      ],
      "source": [
        "trainer.evaluate()"
      ]
    },
    {
      "cell_type": "code",
      "execution_count": 20,
      "id": "sKh2wt6SyoGM",
      "metadata": {
        "colab": {
          "base_uri": "https://localhost:8080/"
        },
        "id": "sKh2wt6SyoGM",
        "outputId": "997eb8c6-c56c-467d-f83f-6ae3e9ed31a5"
      },
      "outputs": [
        {
          "output_type": "stream",
          "name": "stdout",
          "text": [
            "Text: [CLS] En marche ou crÃ ̈ve ![SEP][PAD][PAD][PAD][PAD][PAD][PAD][PAD][PAD][PAD][PAD][PAD][PAD][PAD][PAD][PAD][PAD][PAD][PAD][PAD][PAD][PAD][PAD][PAD][PAD][PAD][PAD][PAD][PAD][PAD][PAD][PAD][PAD][PAD][PAD][PAD][PAD][PAD][PAD][PAD][PAD][PAD][PAD][PAD][PAD][PAD][PAD][PAD][PAD][PAD][PAD][PAD][PAD][PAD][PAD]\n",
            "True Hatespeech Label: 0\n",
            "Predicted Hatespeech Label: 0\n",
            "Hatespeech Probabilities: [[0.5157418251037598, 0.48425814509391785]]\n"
          ]
        }
      ],
      "source": [
        "# Get a sample from the validation dataset\n",
        "sample_index = 2500\n",
        "val_sample = val_dataset[sample_index]\n",
        "\n",
        "# Prepare the input for the model\n",
        "inputs = {\n",
        "    'input_ids': torch.tensor([val_sample['input_ids']]),\n",
        "    'attention_mask': torch.tensor([val_sample['attention_mask']]),\n",
        "    'token_type_ids': torch.tensor([val_sample['token_type_ids']]) # Added token_type_ids\n",
        "}\n",
        "\n",
        "# Move input tensors to the same device as the model\n",
        "device = model.device\n",
        "inputs = {k: v.to(device) for k, v in inputs.items()}\n",
        "\n",
        "# Get the model prediction\n",
        "with torch.no_grad():  # Disable gradient calculation for inference\n",
        "    outputs = model(**inputs)\n",
        "\n",
        "# Access the correct logits from the dictionary output and calculate probabilities\n",
        "# hatespeech_logits = outputs['hatespeech_logits'] # Removed incorrect key\n",
        "logits = outputs['logits'] # Accessed logits using the correct key\n",
        "hatespeech_probabilities = torch.softmax(logits, dim=1)\n",
        "predicted_hatespeech_label = torch.argmax(logits, dim=1).item()\n",
        "\n",
        "print(f\"Text: {tokenizer.decode(val_sample['input_ids'])}\")\n",
        "print(f\"True Hatespeech Label: {val_sample['labels']}\") # Corrected label access\n",
        "print(f\"Predicted Hatespeech Label: {predicted_hatespeech_label}\")\n",
        "print(f\"Hatespeech Probabilities: {hatespeech_probabilities.tolist()}\")"
      ]
    },
    {
      "cell_type": "code",
      "execution_count": 21,
      "id": "n0FsVNJLzSQE",
      "metadata": {
        "id": "n0FsVNJLzSQE"
      },
      "outputs": [],
      "source": [
        "true_hatespeech_labels = []\n",
        "predicted_hatespeech_labels = []\n",
        "\n",
        "device = model.device\n",
        "\n",
        "for val_sample in val_dataset:\n",
        "    inputs = {\n",
        "        'input_ids': torch.tensor([val_sample['input_ids']]).to(device),\n",
        "        'attention_mask': torch.tensor([val_sample['attention_mask']]).to(device)\n",
        "    }\n",
        "\n",
        "    with torch.no_grad():\n",
        "        outputs = model(**inputs)\n",
        "\n",
        "    hatespeech_logits = outputs['logits']\n",
        "    predicted_hatespeech_label = torch.argmax(hatespeech_logits, dim=1).item()\n",
        "\n",
        "    true_hatespeech_labels.append(val_sample['labels'])\n",
        "    predicted_hatespeech_labels.append(predicted_hatespeech_label)"
      ]
    },
    {
      "cell_type": "code",
      "execution_count": 22,
      "id": "FlARFhjZzOI3",
      "metadata": {
        "colab": {
          "base_uri": "https://localhost:8080/",
          "height": 564
        },
        "id": "FlARFhjZzOI3",
        "outputId": "3eaa3ab7-c026-48d2-e16d-80f65aee4535"
      },
      "outputs": [
        {
          "output_type": "display_data",
          "data": {
            "text/plain": [
              "<Figure size 800x600 with 2 Axes>"
            ],
            "image/png": "[encoded data removed]"
          },
          "metadata": {}
        }
      ],
      "source": [
        "cm = confusion_matrix(true_hatespeech_labels, predicted_hatespeech_labels)\n",
        "\n",
        "plt.figure(figsize=(8, 6))\n",
        "sns.heatmap(cm, annot=True, fmt='d', cmap='Blues', xticklabels=['Predicted 0', 'Predicted 1'], yticklabels=['True 0', 'True 1'])\n",
        "plt.xlabel('Predicted Label')\n",
        "plt.ylabel('True Label')\n",
        "plt.title('Confusion Matrix for Hatespeech Prediction')\n",
        "plt.show()"
      ]
    },
    {
      "cell_type": "markdown",
      "id": "4b477aeb",
      "metadata": {
        "id": "4b477aeb"
      },
      "source": [
        "## Multi-Label Prediction"
      ]
    },
    {
      "cell_type": "code",
      "source": [
        "stop"
      ],
      "metadata": {
        "colab": {
          "base_uri": "https://localhost:8080/",
          "height": 141
        },
        "id": "wkg61qLz_q0h",
        "outputId": "87506392-4f32-44c4-9f57-a3134de33431"
      },
      "id": "wkg61qLz_q0h",
      "execution_count": 23,
      "outputs": [
        {
          "output_type": "error",
          "ename": "NameError",
          "evalue": "name 'stop' is not defined",
          "traceback": [
            "\u001b[0;31m---------------------------------------------------------------------------\u001b[0m",
            "\u001b[0;31mNameError\u001b[0m                                 Traceback (most recent call last)",
            "\u001b[0;32m/tmp/ipython-input-23-3957423419.py\u001b[0m in \u001b[0;36m<cell line: 0>\u001b[0;34m()\u001b[0m\n\u001b[0;32m----> 1\u001b[0;31m \u001b[0mstop\u001b[0m\u001b[0;34m\u001b[0m\u001b[0;34m\u001b[0m\u001b[0m\n\u001b[0m",
            "\u001b[0;31mNameError\u001b[0m: name 'stop' is not defined"
          ]
        }
      ]
    },
    {
      "cell_type": "code",
      "execution_count": null,
      "id": "92eL8T6DAYiu",
      "metadata": {
        "id": "92eL8T6DAYiu"
      },
      "outputs": [],
      "source": [
        "train_dataset = Dataset.from_pandas(train_df)\n",
        "val_dataset = Dataset.from_pandas(val_df)\n",
        "test_dataset = Dataset.from_pandas(test_df)\n",
        "\n",
        "example = train_dataset[0]\n",
        "example"
      ]
    },
    {
      "cell_type": "code",
      "execution_count": null,
      "id": "4358b5f9",
      "metadata": {
        "id": "4358b5f9"
      },
      "outputs": [],
      "source": [
        "from datasets import DatasetDict\n",
        "\n",
        "dataset = DatasetDict({\n",
        "    'train': train_dataset,\n",
        "    'validation': val_dataset,\n",
        "    'test': test_dataset\n",
        "})\n",
        "\n",
        "print(dataset)"
      ]
    },
    {
      "cell_type": "code",
      "execution_count": null,
      "id": "yyHWaVa5D7VT",
      "metadata": {
        "id": "yyHWaVa5D7VT"
      },
      "outputs": [],
      "source": [
        "example = dataset['train'][13000]\n",
        "example"
      ]
    },
    {
      "cell_type": "code",
      "execution_count": null,
      "id": "e692717d",
      "metadata": {
        "id": "e692717d"
      },
      "outputs": [],
      "source": [
        "# Original binary labels\n",
        "binary_label_columns = [\n",
        "    'hatespeech',\n",
        "    'sentiment_indifference',\n",
        "    'sentiment_disgust',\n",
        "    'sentiment_sadness',\n",
        "    'sentiment_anger',\n",
        "    'sentiment_shock',\n",
        "    'sentiment_normal',\n",
        "    'sentiment_confusion',\n",
        "    'sentiment_fear'\n",
        "]\n",
        "\n",
        "# Get unique values for multiclass labels to determine the range for one-hot encoding\n",
        "directness_values = sorted(train_df['directness_label'].unique().tolist())\n",
        "target_values = sorted(train_df['target_label'].unique().tolist())\n",
        "group_values = sorted(train_df['group_label'].unique().tolist())\n",
        "\n",
        "# Create names for one-hot encoded binary labels\n",
        "directness_binary_labels = [f'directness_label_{val}' for val in directness_values]\n",
        "target_binary_labels = [f'target_label_{val}' for val in target_values]\n",
        "group_binary_labels = [f'group_label_{val}' for val in group_values]\n",
        "\n",
        "# Combine all binary label names\n",
        "all_binary_labels = binary_label_columns + directness_binary_labels + target_binary_labels + group_binary_labels\n",
        "\n",
        "# Update id2label and label2id\n",
        "id2label = {idx:label for idx, label in enumerate(all_binary_labels)}\n",
        "label2id = {label:idx for idx, label in enumerate(all_binary_labels)}\n",
        "\n",
        "# The total number of binary labels\n",
        "num_binary_labels = len(all_binary_labels)\n",
        "\n",
        "print(f\"Total number of binary labels: {num_binary_labels}\")\n",
        "print(f\"All binary labels: {all_binary_labels}\")"
      ]
    },
    {
      "cell_type": "code",
      "execution_count": null,
      "id": "GfuEZFkluScv",
      "metadata": {
        "id": "GfuEZFkluScv"
      },
      "outputs": [],
      "source": [
        "from transformers import AutoTokenizer, AutoModelForSequenceClassification\n",
        "\n",
        "tokenizer = AutoTokenizer.from_pretrained(\"distilbert/distilbert-base-multilingual-cased\")\n",
        "model = AutoModelForSequenceClassification.from_pretrained(\"distilbert/distilbert-base-multilingual-cased\",\n",
        "                                                           problem_type=\"multi_label_classification\",\n",
        "                                                           num_labels=len(all_binary_labels),\n",
        "                                                           id2label=id2label,\n",
        "                                                           label2id=label2id)"
      ]
    },
    {
      "cell_type": "code",
      "execution_count": null,
      "id": "LLuk7TLNyE6r",
      "metadata": {
        "id": "LLuk7TLNyE6r"
      },
      "outputs": [],
      "source": [
        "import torch\n",
        "import numpy as np\n",
        "\n",
        "# Get unique values for multiclass labels to determine the range for one-hot encoding\n",
        "directness_values = sorted(train_df['directness_label'].unique().tolist())\n",
        "target_values = sorted(train_df['target_label'].unique().tolist())\n",
        "group_values = sorted(train_df['group_label'].unique().tolist())\n",
        "\n",
        "def preprocess_multioutput_data(examples):\n",
        "  # take a batch of texts\n",
        "  text = [str(x) for x in examples[\"text_cleaned\"]]\n",
        "  # encode them, returning PyTorch tensors directly\n",
        "  encoding = tokenizer(text, padding=\"max_length\", truncation=True, max_length=150, return_tensors=\"pt\")\n",
        "\n",
        "  # Create list of binary label tensors\n",
        "  binary_labels_list = [\n",
        "      torch.tensor(examples[\"hatespeech\"]),\n",
        "      torch.tensor(examples[\"sentiment_anger\"]),\n",
        "      torch.tensor(examples[\"sentiment_confusion\"]),\n",
        "      torch.tensor(examples[\"sentiment_disgust\"]),\n",
        "      torch.tensor(examples[\"sentiment_fear\"]),\n",
        "      torch.tensor(examples[\"sentiment_indifference\"]),\n",
        "      torch.tensor(examples[\"sentiment_normal\"]),\n",
        "      torch.tensor(examples[\"sentiment_sadness\"]),\n",
        "      torch.tensor(examples[\"sentiment_shock\"])\n",
        "  ]\n",
        "\n",
        "  # Perform one-hot encoding for multiclass labels and add to the list\n",
        "  for i, val in enumerate(directness_values):\n",
        "      binary_labels_list.append(torch.tensor([1.0 if label == val else 0.0 for label in examples[\"directness_label\"]]))\n",
        "\n",
        "  for i, val in enumerate(target_values):\n",
        "      binary_labels_list.append(torch.tensor([1.0 if label == val else 0.0 for label in examples[\"target_label\"]]))\n",
        "\n",
        "  for i, val in enumerate(group_values):\n",
        "      binary_labels_list.append(torch.tensor([1.0 if label == val else 0.0 for label in examples[\"group_label\"]]))\n",
        "\n",
        "\n",
        "  # Stack all binary label tensors along dimension 1\n",
        "  labels_tensor = torch.stack(binary_labels_list, dim=1).float()\n",
        "\n",
        "  # Add the stacked labels tensor to the encoding dictionary\n",
        "  encoding['labels'] = labels_tensor\n",
        "\n",
        "  return encoding"
      ]
    },
    {
      "cell_type": "code",
      "execution_count": null,
      "id": "X-j-plQeyI4z",
      "metadata": {
        "id": "X-j-plQeyI4z"
      },
      "outputs": [],
      "source": [
        "\n",
        "\n",
        "# Apply the preprocessing function with batching\n",
        "encoded_dataset = dataset.map(preprocess_multioutput_data, batched=True, remove_columns=dataset['train'].column_names)\n"
      ]
    },
    {
      "cell_type": "code",
      "execution_count": null,
      "id": "rkdRwF_eyQP7",
      "metadata": {
        "id": "rkdRwF_eyQP7"
      },
      "outputs": [],
      "source": [
        "example = encoded_dataset['train'][13000]\n",
        "print(example.keys())\n",
        "\n",
        "print(tokenizer.decode(example['input_ids']))\n",
        "\n",
        "print(example)"
      ]
    },
    {
      "cell_type": "code",
      "execution_count": null,
      "id": "0aYo5T7Uuz4Z",
      "metadata": {
        "id": "0aYo5T7Uuz4Z"
      },
      "outputs": [],
      "source": [
        "for name, param in model.named_parameters():\n",
        "    print(name)"
      ]
    },
    {
      "cell_type": "code",
      "execution_count": null,
      "id": "vYNoPAf-uvYG",
      "metadata": {
        "id": "vYNoPAf-uvYG"
      },
      "outputs": [],
      "source": [
        "# Freeze all of the pre-trained BERT layers to make the fine tuning go much faster.\n",
        "# Then later we'll try unfreezing some or all layers and see what works better.\n",
        "# We need to keep the final classification layer unfrozen no matter what,\n",
        "# because that's a new layer that hasn't been trained at all yet, and needs to be trained for our task.\n",
        "\n",
        "\n",
        "for name, param in model.distilbert.named_parameters():\n",
        "    param.requires_grad = False"
      ]
    },
    {
      "cell_type": "code",
      "execution_count": null,
      "id": "wthrZy4Au1AE",
      "metadata": {
        "id": "wthrZy4Au1AE"
      },
      "outputs": [],
      "source": [
        "summary(model)"
      ]
    },
    {
      "cell_type": "code",
      "execution_count": null,
      "id": "SRCZgZAa4QmL",
      "metadata": {
        "id": "SRCZgZAa4QmL"
      },
      "outputs": [],
      "source": [
        "from transformers import TrainingArguments, Trainer\n",
        "from transformers import EarlyStoppingCallback\n",
        "\n",
        "batch_size = 64\n",
        "metric_name = \"eval_f1\" # Changed to monitor a specific per-label F1\n",
        "\n",
        "args = TrainingArguments(\n",
        "    f\"distilbert-base-multilingual-cased\",\n",
        "    eval_strategy = \"epoch\",\n",
        "    save_strategy = \"epoch\",\n",
        "    learning_rate=4e-5,\n",
        "    per_device_train_batch_size=batch_size,\n",
        "    per_device_eval_batch_size=batch_size,\n",
        "    fp16=True, # to help memory management\n",
        "    num_train_epochs=5,\n",
        "    weight_decay=0.01,\n",
        "    load_best_model_at_end=True,\n",
        "    # Use the micro-averaged F1 as the metric to monitor\n",
        "    metric_for_best_model=metric_name,\n",
        "    greater_is_better=True, # F1 score is better when higher\n",
        "    report_to='none' # Disable reporting to wandb for this example\n",
        ")\n",
        "\n",
        "# Add EarlyStoppingCallback\n",
        "early_stopping_callback = EarlyStoppingCallback(\n",
        "    early_stopping_patience=3, # Number of evaluation epochs to wait before stopping\n",
        "    early_stopping_threshold=0.0 # Minimum improvement to consider as progress\n",
        ")"
      ]
    },
    {
      "cell_type": "code",
      "execution_count": null,
      "id": "Rjk99d1E4ua0",
      "metadata": {
        "id": "Rjk99d1E4ua0"
      },
      "outputs": [],
      "source": [
        "from sklearn.metrics import f1_score, roc_auc_score, accuracy_score, precision_score, recall_score, balanced_accuracy_score\n",
        "from transformers import EvalPrediction\n",
        "import torch\n",
        "import numpy as np # Import numpy\n",
        "\n",
        "def multi_label_metrics(predictions, labels, threshold=0.5):\n",
        "    # first, apply sigmoid on predictions which are of shape (batch_size, num_labels)\n",
        "    sigmoid = torch.nn.Sigmoid()\n",
        "    probs = sigmoid(torch.Tensor(predictions))\n",
        "    # next, use threshold to turn them into integer predictions\n",
        "    y_pred = np.zeros(probs.shape)\n",
        "    y_pred[np.where(probs >= threshold)] = 1\n",
        "    # finally, compute metrics\n",
        "    y_true = labels.astype(int) # Ensure labels are integers\n",
        "    f1_micro_average = f1_score(y_true=y_true, y_pred=y_pred, average='micro')\n",
        "    roc_auc = roc_auc_score(y_true, y_pred, average = 'micro')\n",
        "    accuracy = accuracy_score(y_true, y_pred)\n",
        "    balanced_accuracy = balanced_accuracy_score(y_true.flatten(), y_pred.flatten())\n",
        "    precision = precision_score(y_true=y_true, y_pred=y_pred, average='micro', zero_division=0)\n",
        "    recall = recall_score(y_true=y_true, y_pred=y_pred, average='micro', zero_division=0)\n",
        "    # return as dictionary\n",
        "    metrics = {'f1': f1_micro_average,\n",
        "               'roc_auc': roc_auc,\n",
        "               'accuracy': accuracy,\n",
        "               'balanced_accuracy': balanced_accuracy,\n",
        "               'precision': precision,\n",
        "               'recall': recall}\n",
        "    return metrics\n",
        "\n",
        "def compute_metrics(p: EvalPrediction):\n",
        "    preds = p.predictions[0] if isinstance(p.predictions,\n",
        "            tuple) else p.predictions\n",
        "\n",
        "    # Ensure labels are a 2D numpy array of integers\n",
        "    labels_np = np.array(p.label_ids)\n",
        "    if labels_np.ndim == 1:\n",
        "        # This might happen if the batch size is 1, reshape to (1, num_labels)\n",
        "        labels_np = labels_np.reshape(1, -1)\n",
        "    elif labels_np.ndim > 2:\n",
        "        # Handle cases where labels might have extra dimensions unexpectedly\n",
        "        # This might require more specific reshaping based on the actual structure\n",
        "        # For now, let's assume the expected shape is (batch_size, num_labels)\n",
        "        # and try to flatten and reshape if necessary.\n",
        "        # A safer approach might be to raise an error or log a warning here.\n",
        "        print(f\"Warning: Unexpected label dimension: {labels_np.ndim}\")\n",
        "        # Attempt to flatten and reshape - adjust if your data structure is different\n",
        "        labels_np = labels_np.reshape(labels_np.shape[0], -1)\n",
        "\n",
        "\n",
        "    result = multi_label_metrics(\n",
        "        predictions=preds,\n",
        "        labels=labels_np)\n",
        "    return result"
      ]
    },
    {
      "cell_type": "code",
      "execution_count": null,
      "id": "9elP4nZpvMjf",
      "metadata": {
        "id": "9elP4nZpvMjf"
      },
      "outputs": [],
      "source": [
        "#forward pass\n",
        "# # Check the type of the data after setting the format\n",
        "# print(f\"Type of input_ids[0]: {encoded_dataset['train']['input_ids'][0].type()}\")\n",
        "# print(f\"Type of labels[0]: {encoded_dataset['train'][0]['hatespeech_labels'].type()}\")\n",
        "\n",
        "# Also print a sample example to see the structure\n",
        "print(\"Sample example after setting format:\")\n",
        "print(encoded_dataset['train'][0])\n",
        "\n",
        "# Manually get a sample and prepare input for the model\n",
        "sample = encoded_dataset['train'][0]\n",
        "\n",
        "# Convert lists to PyTorch tensors before unsqueezing\n",
        "input_ids_tensor = torch.tensor(sample['input_ids']).unsqueeze(0)\n",
        "attention_mask_tensor = torch.tensor(sample['attention_mask']).unsqueeze(0)\n",
        "labels_tensor = torch.tensor(sample['labels']).unsqueeze(0)\n",
        "\n",
        "# Move tensors to the same device as the model\n",
        "device = model.device\n",
        "input_ids_tensor = input_ids_tensor.to(device)\n",
        "attention_mask_tensor = attention_mask_tensor.to(device)\n",
        "labels_tensor = labels_tensor.to(device)\n",
        "\n",
        "\n",
        "outputs = model(input_ids=input_ids_tensor, attention_mask=attention_mask_tensor, labels=labels_tensor)\n",
        "outputs"
      ]
    },
    {
      "cell_type": "code",
      "execution_count": null,
      "id": "CucouWT25Sdd",
      "metadata": {
        "id": "CucouWT25Sdd"
      },
      "outputs": [],
      "source": [
        "trainer = Trainer(\n",
        "    model,\n",
        "    args,\n",
        "    train_dataset=encoded_dataset[\"train\"],\n",
        "    eval_dataset=encoded_dataset[\"validation\"],\n",
        "    tokenizer=tokenizer,\n",
        "    compute_metrics=compute_metrics\n",
        ")"
      ]
    },
    {
      "cell_type": "code",
      "execution_count": null,
      "id": "io-bvKASvUm6",
      "metadata": {
        "id": "io-bvKASvUm6"
      },
      "outputs": [],
      "source": [
        "print(encoded_dataset['train']['labels'][13000])"
      ]
    },
    {
      "cell_type": "code",
      "execution_count": null,
      "id": "D9iCETiVvZVV",
      "metadata": {
        "id": "D9iCETiVvZVV"
      },
      "outputs": [],
      "source": [
        "trainer.train()"
      ]
    },
    {
      "cell_type": "code",
      "execution_count": null,
      "id": "YROJw66Svbe6",
      "metadata": {
        "id": "YROJw66Svbe6"
      },
      "outputs": [],
      "source": [
        "trainer.evaluate()"
      ]
    },
    {
      "cell_type": "code",
      "execution_count": null,
      "id": "mZxlPhNWvlmz",
      "metadata": {
        "id": "mZxlPhNWvlmz"
      },
      "outputs": [],
      "source": [
        "text = \"I'm happy I can finally train a model for multi-label classification\"\n",
        "\n",
        "encoding = tokenizer(text, return_tensors=\"pt\")\n",
        "encoding = {k: v.to(trainer.model.device) for k,v in encoding.items()}\n",
        "\n",
        "outputs = trainer.model(**encoding)"
      ]
    },
    {
      "cell_type": "code",
      "execution_count": null,
      "id": "W7i4y2F_vnKR",
      "metadata": {
        "id": "W7i4y2F_vnKR"
      },
      "outputs": [],
      "source": [
        "logits = outputs.logits\n",
        "logits.shape"
      ]
    },
    {
      "cell_type": "code",
      "execution_count": null,
      "id": "L_RUl6L-voQD",
      "metadata": {
        "id": "L_RUl6L-voQD"
      },
      "outputs": [],
      "source": [
        "# apply sigmoid + threshold\n",
        "sigmoid = torch.nn.Sigmoid()\n",
        "probs = sigmoid(logits.squeeze().cpu())\n",
        "predictions = np.zeros(probs.shape)\n",
        "predictions[np.where(probs >= 0.5)] = 1\n",
        "# turn predicted id's into actual label names\n",
        "predicted_labels = [id2label[idx] for idx, label in enumerate(predictions) if label == 1.0]\n",
        "print(\"Predicted labels (names):\", predicted_labels)\n",
        "print(\"Predicted labels (binary values):\", predictions)"
      ]
    },
    {
      "cell_type": "code",
      "execution_count": null,
      "id": "zqG_BSeFvrma",
      "metadata": {
        "id": "zqG_BSeFvrma"
      },
      "outputs": [],
      "source": [
        "true_labels = []\n",
        "predicted_logits = []\n",
        "\n",
        "device = trainer.model.device\n",
        "\n",
        "for sample in encoded_dataset[\"validation\"]:\n",
        "    inputs = {\n",
        "        'input_ids': torch.tensor([sample['input_ids']]).to(device),\n",
        "        'attention_mask': torch.tensor([sample['attention_mask']]).to(device)\n",
        "    }\n",
        "\n",
        "    with torch.no_grad():\n",
        "        outputs = trainer.model(**inputs)\n",
        "\n",
        "    # Append the true labels and predicted logits\n",
        "    true_labels.append(sample['labels'])\n",
        "    predicted_logits.append(outputs.logits.squeeze().cpu().numpy())\n"
      ]
    },
    {
      "cell_type": "code",
      "execution_count": null,
      "id": "lAosIonevuJf",
      "metadata": {
        "id": "lAosIonevuJf"
      },
      "outputs": [],
      "source": [
        "# Convert lists to numpy arrays\n",
        "true_labels_np = np.array(true_labels)\n",
        "predicted_logits_np = np.array(predicted_logits)\n",
        "\n",
        "# Define indices for each label group based on all_binary_labels\n",
        "hatespeech_idx = all_binary_labels.index('hatespeech')\n",
        "sentiment_indices = [all_binary_labels.index(label) for label in binary_label_columns if 'sentiment' in label]\n",
        "directness_indices = [all_binary_labels.index(label) for label in directness_binary_labels]\n",
        "target_indices = [all_binary_labels.index(label) for label in target_binary_labels]\n",
        "group_indices = [all_binary_labels.index(label) for label in group_binary_labels]\n",
        "\n",
        "\n",
        "# Split true labels and predicted logits\n",
        "true_hatespeech = true_labels_np[:, hatespeech_idx]\n",
        "predicted_hatespeech_logits = predicted_logits_np[:, hatespeech_idx]\n",
        "\n",
        "true_sentiment_labels = true_labels_np[:, sentiment_indices]\n",
        "predicted_sentiment_logits = predicted_logits_np[:, sentiment_indices]\n",
        "\n",
        "true_directness_labels = true_labels_np[:, directness_indices]\n",
        "predicted_directness_logits = predicted_logits_np[:, directness_indices]\n",
        "\n",
        "true_target_labels = true_labels_np[:, target_indices]\n",
        "predicted_target_logits = predicted_logits_np[:, target_indices]\n",
        "\n",
        "true_group_labels = true_labels_np[:, group_indices]\n",
        "predicted_group_logits = predicted_logits_np[:, group_indices]\n",
        "\n",
        "print(\"True Hatespeech Labels shape:\", true_hatespeech.shape)\n",
        "print(\"Predicted Hatespeech Logits shape:\", predicted_hatespeech_logits.shape)\n",
        "print(\"True Sentiment Labels shape:\", true_sentiment_labels.shape)\n",
        "print(\"Predicted Sentiment Logits shape:\", predicted_sentiment_logits.shape)\n",
        "print(\"True Directness Labels shape:\", true_directness_labels.shape)\n",
        "print(\"Predicted Directness Logits shape:\", predicted_directness_logits.shape)\n",
        "print(\"True Target Labels shape:\", true_target_labels.shape)\n",
        "print(\"Predicted Target Logits shape:\", predicted_target_logits.shape)\n",
        "print(\"True Group Labels shape:\", true_group_labels.shape)\n",
        "print(\"Predicted Group Logits shape:\", predicted_group_logits.shape)"
      ]
    },
    {
      "cell_type": "code",
      "execution_count": null,
      "id": "ACn91_XDvvjA",
      "metadata": {
        "id": "ACn91_XDvvjA"
      },
      "outputs": [],
      "source": [
        "from sklearn.metrics import accuracy_score, precision_score, recall_score, f1_score, confusion_matrix\n",
        "import torch\n",
        "import numpy as np\n",
        "import matplotlib.pyplot as plt\n",
        "import seaborn as sns\n",
        "\n",
        "def calculate_metrics_and_confusion_matrix(true_labels, predicted_logits, threshold=0.5, is_multilabel=True):\n",
        "    \"\"\"\n",
        "    Calculates classification metrics and confusion matrix.\n",
        "\n",
        "    Args:\n",
        "        true_labels (np.ndarray): True labels (binary).\n",
        "        predicted_logits (np.ndarray): Predicted logits from the model.\n",
        "        threshold (float): Threshold to convert probabilities to binary predictions.\n",
        "        is_multilabel (bool): Whether the task is multi-label classification.\n",
        "\n",
        "    Returns:\n",
        "        dict: Dictionary containing accuracy, precision, recall, and F1 score.\n",
        "        np.ndarray: Confusion matrix.\n",
        "    \"\"\"\n",
        "    sigmoid = torch.nn.Sigmoid()\n",
        "    probs = sigmoid(torch.Tensor(predicted_logits)).numpy()\n",
        "\n",
        "    if is_multilabel:\n",
        "        # For multi-label, apply threshold to each label independently\n",
        "        predicted_labels = (probs >= threshold).astype(int)\n",
        "    else:\n",
        "        # For binary (hatespeech), apply threshold to the single output\n",
        "        predicted_labels = (probs >= threshold).astype(int)\n",
        "\n",
        "\n",
        "    # Calculate metrics\n",
        "    accuracy = accuracy_score(true_labels.flatten(), predicted_labels.flatten())\n",
        "    balanced_accuracy = balanced_accuracy_score(true_labels.flatten(), predicted_labels.flatten())\n",
        "    precision = precision_score(true_labels.flatten(), predicted_labels.flatten(), average='micro', zero_division=0)\n",
        "    recall = recall_score(true_labels.flatten(), predicted_labels.flatten(), average='micro', zero_division=0)\n",
        "    f1 = f1_score(true_labels.flatten(), predicted_labels.flatten(), average='micro', zero_division=0)\n",
        "\n",
        "    # Calculate confusion matrix - Note: For multi-label, CM is often calculated per label or overall\n",
        "    # A simple overall CM for multilabel can be misleading. We'll calculate it based on flattened arrays\n",
        "    # which treats each label prediction as a separate instance.\n",
        "    cm = confusion_matrix(true_labels.flatten(), predicted_labels.flatten())\n",
        "\n",
        "\n",
        "    metrics = {\n",
        "        'accuracy': accuracy,\n",
        "        'balanced_accuracy': balanced_accuracy,\n",
        "        'precision': precision,\n",
        "        'recall': recall,\n",
        "        'f1': f1\n",
        "    }\n",
        "\n",
        "    return metrics, cm\n",
        "\n",
        "# Calculate metrics and confusion matrices for each group\n",
        "\n",
        "# Hatespeech (Binary Classification)\n",
        "hatespeech_metrics, hatespeech_cm = calculate_metrics_and_confusion_matrix(\n",
        "    true_hatespeech, predicted_hatespeech_logits, is_multilabel=False\n",
        ")\n",
        "print(\"Hatespeech Metrics:\", hatespeech_metrics)\n",
        "print(\"Hatespeech Confusion Matrix:\\n\", hatespeech_cm)\n",
        "\n",
        "\n",
        "# Sentiment (Multi-label Classification)\n",
        "sentiment_metrics, sentiment_cm = calculate_metrics_and_confusion_matrix(\n",
        "    true_sentiment_labels, predicted_sentiment_logits, is_multilabel=True\n",
        ")\n",
        "print(\"\\nSentiment Metrics (Micro Avg):\", sentiment_metrics)\n",
        "print(\"Sentiment Confusion Matrix (Flattened):\\n\", sentiment_cm)\n",
        "\n",
        "\n",
        "# Directness (Multi-label Classification - treated as binary for each category)\n",
        "directness_metrics, directness_cm = calculate_metrics_and_confusion_matrix(\n",
        "    true_directness_labels, predicted_directness_logits, is_multilabel=True\n",
        ")\n",
        "print(\"\\nDirectness Metrics (Micro Avg):\", directness_metrics)\n",
        "print(\"Directness Confusion Matrix (Flattened):\\n\", directness_cm)\n",
        "\n",
        "# Target (Multi-label Classification - treated as binary for each category)\n",
        "target_metrics, target_cm = calculate_metrics_and_confusion_matrix(\n",
        "    true_target_labels, predicted_target_logits, is_multilabel=True\n",
        ")\n",
        "print(\"\\nTarget Metrics (Micro Avg):\", target_metrics)\n",
        "print(\"Target Confusion Matrix (Flattened):\\n\", target_cm)\n",
        "\n",
        "# Group (Multi-label Classification - treated as binary for each category)\n",
        "group_metrics, group_cm = calculate_metrics_and_confusion_matrix(\n",
        "    true_group_labels, predicted_group_logits, is_multilabel=True\n",
        ")\n",
        "print(\"\\nGroup Metrics (Micro Avg):\", group_metrics)\n",
        "print(\"Group Confusion Matrix (Flattened):\\n\", group_cm)"
      ]
    },
    {
      "cell_type": "code",
      "execution_count": null,
      "id": "wHApR61Tvziu",
      "metadata": {
        "id": "wHApR61Tvziu"
      },
      "outputs": [],
      "source": [
        "# Visualize Flattened Confusion Matrices for each group\n",
        "\n",
        "# Hatespeech Flattened Confusion Matrix\n",
        "plt.figure(figsize=(6, 4))\n",
        "sns.heatmap(hatespeech_cm, annot=True, fmt='d', cmap='Blues', xticklabels=['Predicted 0', 'Predicted 1'], yticklabels=['True 0', 'True 1'])\n",
        "plt.xlabel('Predicted Label')\n",
        "plt.ylabel('True Label')\n",
        "plt.title('Flattened Confusion Matrix for: Hatespeech')\n",
        "plt.show()\n",
        "\n",
        "# Sentiment Flattened Confusion Matrix (Micro Avg across labels)\n",
        "# Note: This matrix is based on the flattened true and predicted labels across all sentiment types.\n",
        "plt.figure(figsize=(6, 4))\n",
        "sns.heatmap(sentiment_cm, annot=True, fmt='d', cmap='Blues', xticklabels=['Predicted 0', 'Predicted 1'], yticklabels=['True 0', 'True 1'])\n",
        "plt.xlabel('Predicted Label')\n",
        "plt.ylabel('True Label')\n",
        "plt.title('Flattened Confusion Matrix for: Sentiment (Micro Avg)')\n",
        "plt.show()\n",
        "\n",
        "# Directness Flattened Confusion Matrix (Micro Avg across categories)\n",
        "# Note: This matrix is based on the flattened true and predicted labels across all directness categories.\n",
        "plt.figure(figsize=(6, 4))\n",
        "sns.heatmap(directness_cm, annot=True, fmt='d', cmap='Blues', xticklabels=['Predicted 0', 'Predicted 1'], yticklabels=['True 0', 'True 1'])\n",
        "plt.xlabel('Predicted Label')\n",
        "plt.ylabel('True Label')\n",
        "plt.title('Flattened Confusion Matrix for: Directness (Micro Avg)')\n",
        "plt.show()\n",
        "\n",
        "\n",
        "# Target Flattened Confusion Matrix (Micro Avg across categories)\n",
        "# Note: This matrix is based on the flattened true and predicted labels across all target categories.\n",
        "plt.figure(figsize=(6, 4))\n",
        "sns.heatmap(target_cm, annot=True, fmt='d', cmap='Blues', xticklabels=['Predicted 0', 'Predicted 1'], yticklabels=['True 0', 'True 1'])\n",
        "plt.xlabel('Predicted Label')\n",
        "plt.ylabel('True Label')\n",
        "plt.title('Flattened Confusion Matrix for: Target (Micro Avg)')\n",
        "plt.show()\n",
        "\n",
        "# Group Flattened Confusion Matrix (Micro Avg across categories)\n",
        "# Note: This matrix is based on the flattened true and predicted labels across all group categories.\n",
        "plt.figure(figsize=(6, 4))\n",
        "sns.heatmap(group_cm, annot=True, fmt='d', cmap='Blues', xticklabels=['Predicted 0', 'Predicted 1'], yticklabels=['True 0', 'True 1'])\n",
        "plt.xlabel('Predicted Label')\n",
        "plt.ylabel('True Label')\n",
        "plt.title('Flattened Confusion Matrix for: Group (Micro Avg)')\n",
        "plt.show()"
      ]
    },
    {
      "cell_type": "code",
      "execution_count": null,
      "id": "1MBy7FgS4Xze",
      "metadata": {
        "id": "1MBy7FgS4Xze"
      },
      "outputs": [],
      "source": [
        "# Visualize Confusion Matrices for each individual binary label\n",
        "\n",
        "# Apply sigmoid to get probabilities\n",
        "sigmoid = torch.nn.Sigmoid()\n",
        "predicted_probs_np = sigmoid(torch.Tensor(predicted_logits_np)).numpy()\n",
        "\n",
        "# Apply threshold to get binary predictions for each label\n",
        "predicted_binary_labels_np = (predicted_probs_np >= 0.5).astype(int)\n",
        "\n",
        "\n",
        "# Iterate through each binary label and plot its confusion matrix\n",
        "for i, label_name in id2label.items():\n",
        "    true_binary = true_labels_np[:, i]\n",
        "    predicted_binary = predicted_binary_labels_np[:, i]\n",
        "\n",
        "    # Calculate confusion matrix for the current binary label\n",
        "    cm = confusion_matrix(true_binary, predicted_binary)\n",
        "\n",
        "    # Plot the confusion matrix\n",
        "    plt.figure(figsize=(4, 3))\n",
        "    sns.heatmap(cm, annot=True, fmt='d', cmap='Blues', xticklabels=['Predicted 0', 'Predicted 1'], yticklabels=['True 0', 'True 1'])\n",
        "    plt.xlabel('Predicted Label')\n",
        "    plt.ylabel('True Label')\n",
        "    plt.title(f'Confusion Matrix for: {label_name}')\n",
        "    plt.show()"
      ]
    }
  ],
  "metadata": {
    "accelerator": "GPU",
    "colab": {
      "gpuType": "T4",
      "provenance": []
    },
    "kernelspec": {
      "display_name": "Python 3",
      "name": "python3"
    },
    "language_info": {
      "codemirror_mode": {
        "name": "ipython",
        "version": 3
      },
      "file_extension": ".py",
      "mimetype": "text/x-python",
      "name": "python",
      "nbconvert_exporter": "python",
      "pygments_lexer": "ipython3",
      "version": "3.10.6"
    },
    "widgets": {
      "application/vnd.jupyter.widget-state+json": {
        "f9c625d67645461b8091bcdcb2163c63": {
          "model_module": "@jupyter-widgets/controls",
          "model_name": "HBoxModel",
          "model_module_version": "1.5.0",
          "state": {
            "_dom_classes": [],
            "_model_module": "@jupyter-widgets/controls",
            "_model_module_version": "1.5.0",
            "_model_name": "HBoxModel",
            "_view_count": null,
            "_view_module": "@jupyter-widgets/controls",
            "_view_module_version": "1.5.0",
            "_view_name": "HBoxView",
            "box_style": "",
            "children": [
              "IPY_MODEL_e0e4046d593c4beeb20fc95006b937f4",
              "IPY_MODEL_1862d5d1184840f785764c4f7a495bba",
              "IPY_MODEL_e94de0dda93b4b78a1dda3a23cb88b73"
            ],
            "layout": "IPY_MODEL_6990060972504539bfffeca0d73ee1ba"
          }
        },
        "e0e4046d593c4beeb20fc95006b937f4": {
          "model_module": "@jupyter-widgets/controls",
          "model_name": "HTMLModel",
          "model_module_version": "1.5.0",
          "state": {
            "_dom_classes": [],
            "_model_module": "@jupyter-widgets/controls",
            "_model_module_version": "1.5.0",
            "_model_name": "HTMLModel",
            "_view_count": null,
            "_view_module": "@jupyter-widgets/controls",
            "_view_module_version": "1.5.0",
            "_view_name": "HTMLView",
            "description": "",
            "description_tooltip": null,
            "layout": "IPY_MODEL_ad7a77b4cbe3422ba0462ea6883464e5",
            "placeholder": "​",
            "style": "IPY_MODEL_1912db96fdfc4d779fb5af692ad0c13d",
            "value": "Map: 100%"
          }
        },
        "1862d5d1184840f785764c4f7a495bba": {
          "model_module": "@jupyter-widgets/controls",
          "model_name": "FloatProgressModel",
          "model_module_version": "1.5.0",
          "state": {
            "_dom_classes": [],
            "_model_module": "@jupyter-widgets/controls",
            "_model_module_version": "1.5.0",
            "_model_name": "FloatProgressModel",
            "_view_count": null,
            "_view_module": "@jupyter-widgets/controls",
            "_view_module_version": "1.5.0",
            "_view_name": "ProgressView",
            "bar_style": "success",
            "description": "",
            "description_tooltip": null,
            "layout": "IPY_MODEL_de5d83aaa0814f3195bc9e89f9b0ab3d",
            "max": 30702,
            "min": 0,
            "orientation": "horizontal",
            "style": "IPY_MODEL_8dff4a2dd3d549f1a01e812baa248aa8",
            "value": 30702
          }
        },
        "e94de0dda93b4b78a1dda3a23cb88b73": {
          "model_module": "@jupyter-widgets/controls",
          "model_name": "HTMLModel",
          "model_module_version": "1.5.0",
          "state": {
            "_dom_classes": [],
            "_model_module": "@jupyter-widgets/controls",
            "_model_module_version": "1.5.0",
            "_model_name": "HTMLModel",
            "_view_count": null,
            "_view_module": "@jupyter-widgets/controls",
            "_view_module_version": "1.5.0",
            "_view_name": "HTMLView",
            "description": "",
            "description_tooltip": null,
            "layout": "IPY_MODEL_64b2426a1919496185189f618f897abd",
            "placeholder": "​",
            "style": "IPY_MODEL_9a037da8941d4f7588ee8cd1ec9caa52",
            "value": " 30702/30702 [00:10&lt;00:00, 1909.33 examples/s]"
          }
        },
        "6990060972504539bfffeca0d73ee1ba": {
          "model_module": "@jupyter-widgets/base",
          "model_name": "LayoutModel",
          "model_module_version": "1.2.0",
          "state": {
            "_model_module": "@jupyter-widgets/base",
            "_model_module_version": "1.2.0",
            "_model_name": "LayoutModel",
            "_view_count": null,
            "_view_module": "@jupyter-widgets/base",
            "_view_module_version": "1.2.0",
            "_view_name": "LayoutView",
            "align_content": null,
            "align_items": null,
            "align_self": null,
            "border": null,
            "bottom": null,
            "display": null,
            "flex": null,
            "flex_flow": null,
            "grid_area": null,
            "grid_auto_columns": null,
            "grid_auto_flow": null,
            "grid_auto_rows": null,
            "grid_column": null,
            "grid_gap": null,
            "grid_row": null,
            "grid_template_areas": null,
            "grid_template_columns": null,
            "grid_template_rows": null,
            "height": null,
            "justify_content": null,
            "justify_items": null,
            "left": null,
            "margin": null,
            "max_height": null,
            "max_width": null,
            "min_height": null,
            "min_width": null,
            "object_fit": null,
            "object_position": null,
            "order": null,
            "overflow": null,
            "overflow_x": null,
            "overflow_y": null,
            "padding": null,
            "right": null,
            "top": null,
            "visibility": null,
            "width": null
          }
        },
        "ad7a77b4cbe3422ba0462ea6883464e5": {
          "model_module": "@jupyter-widgets/base",
          "model_name": "LayoutModel",
          "model_module_version": "1.2.0",
          "state": {
            "_model_module": "@jupyter-widgets/base",
            "_model_module_version": "1.2.0",
            "_model_name": "LayoutModel",
            "_view_count": null,
            "_view_module": "@jupyter-widgets/base",
            "_view_module_version": "1.2.0",
            "_view_name": "LayoutView",
            "align_content": null,
            "align_items": null,
            "align_self": null,
            "border": null,
            "bottom": null,
            "display": null,
            "flex": null,
            "flex_flow": null,
            "grid_area": null,
            "grid_auto_columns": null,
            "grid_auto_flow": null,
            "grid_auto_rows": null,
            "grid_column": null,
            "grid_gap": null,
            "grid_row": null,
            "grid_template_areas": null,
            "grid_template_columns": null,
            "grid_template_rows": null,
            "height": null,
            "justify_content": null,
            "justify_items": null,
            "left": null,
            "margin": null,
            "max_height": null,
            "max_width": null,
            "min_height": null,
            "min_width": null,
            "object_fit": null,
            "object_position": null,
            "order": null,
            "overflow": null,
            "overflow_x": null,
            "overflow_y": null,
            "padding": null,
            "right": null,
            "top": null,
            "visibility": null,
            "width": null
          }
        },
        "1912db96fdfc4d779fb5af692ad0c13d": {
          "model_module": "@jupyter-widgets/controls",
          "model_name": "DescriptionStyleModel",
          "model_module_version": "1.5.0",
          "state": {
            "_model_module": "@jupyter-widgets/controls",
            "_model_module_version": "1.5.0",
            "_model_name": "DescriptionStyleModel",
            "_view_count": null,
            "_view_module": "@jupyter-widgets/base",
            "_view_module_version": "1.2.0",
            "_view_name": "StyleView",
            "description_width": ""
          }
        },
        "de5d83aaa0814f3195bc9e89f9b0ab3d": {
          "model_module": "@jupyter-widgets/base",
          "model_name": "LayoutModel",
          "model_module_version": "1.2.0",
          "state": {
            "_model_module": "@jupyter-widgets/base",
            "_model_module_version": "1.2.0",
            "_model_name": "LayoutModel",
            "_view_count": null,
            "_view_module": "@jupyter-widgets/base",
            "_view_module_version": "1.2.0",
            "_view_name": "LayoutView",
            "align_content": null,
            "align_items": null,
            "align_self": null,
            "border": null,
            "bottom": null,
            "display": null,
            "flex": null,
            "flex_flow": null,
            "grid_area": null,
            "grid_auto_columns": null,
            "grid_auto_flow": null,
            "grid_auto_rows": null,
            "grid_column": null,
            "grid_gap": null,
            "grid_row": null,
            "grid_template_areas": null,
            "grid_template_columns": null,
            "grid_template_rows": null,
            "height": null,
            "justify_content": null,
            "justify_items": null,
            "left": null,
            "margin": null,
            "max_height": null,
            "max_width": null,
            "min_height": null,
            "min_width": null,
            "object_fit": null,
            "object_position": null,
            "order": null,
            "overflow": null,
            "overflow_x": null,
            "overflow_y": null,
            "padding": null,
            "right": null,
            "top": null,
            "visibility": null,
            "width": null
          }
        },
        "8dff4a2dd3d549f1a01e812baa248aa8": {
          "model_module": "@jupyter-widgets/controls",
          "model_name": "ProgressStyleModel",
          "model_module_version": "1.5.0",
          "state": {
            "_model_module": "@jupyter-widgets/controls",
            "_model_module_version": "1.5.0",
            "_model_name": "ProgressStyleModel",
            "_view_count": null,
            "_view_module": "@jupyter-widgets/base",
            "_view_module_version": "1.2.0",
            "_view_name": "StyleView",
            "bar_color": null,
            "description_width": ""
          }
        },
        "64b2426a1919496185189f618f897abd": {
          "model_module": "@jupyter-widgets/base",
          "model_name": "LayoutModel",
          "model_module_version": "1.2.0",
          "state": {
            "_model_module": "@jupyter-widgets/base",
            "_model_module_version": "1.2.0",
            "_model_name": "LayoutModel",
            "_view_count": null,
            "_view_module": "@jupyter-widgets/base",
            "_view_module_version": "1.2.0",
            "_view_name": "LayoutView",
            "align_content": null,
            "align_items": null,
            "align_self": null,
            "border": null,
            "bottom": null,
            "display": null,
            "flex": null,
            "flex_flow": null,
            "grid_area": null,
            "grid_auto_columns": null,
            "grid_auto_flow": null,
            "grid_auto_rows": null,
            "grid_column": null,
            "grid_gap": null,
            "grid_row": null,
            "grid_template_areas": null,
            "grid_template_columns": null,
            "grid_template_rows": null,
            "height": null,
            "justify_content": null,
            "justify_items": null,
            "left": null,
            "margin": null,
            "max_height": null,
            "max_width": null,
            "min_height": null,
            "min_width": null,
            "object_fit": null,
            "object_position": null,
            "order": null,
            "overflow": null,
            "overflow_x": null,
            "overflow_y": null,
            "padding": null,
            "right": null,
            "top": null,
            "visibility": null,
            "width": null
          }
        },
        "9a037da8941d4f7588ee8cd1ec9caa52": {
          "model_module": "@jupyter-widgets/controls",
          "model_name": "DescriptionStyleModel",
          "model_module_version": "1.5.0",
          "state": {
            "_model_module": "@jupyter-widgets/controls",
            "_model_module_version": "1.5.0",
            "_model_name": "DescriptionStyleModel",
            "_view_count": null,
            "_view_module": "@jupyter-widgets/base",
            "_view_module_version": "1.2.0",
            "_view_name": "StyleView",
            "description_width": ""
          }
        },
        "7a69b75bb08b4105a6d80001f05a8bef": {
          "model_module": "@jupyter-widgets/controls",
          "model_name": "HBoxModel",
          "model_module_version": "1.5.0",
          "state": {
            "_dom_classes": [],
            "_model_module": "@jupyter-widgets/controls",
            "_model_module_version": "1.5.0",
            "_model_name": "HBoxModel",
            "_view_count": null,
            "_view_module": "@jupyter-widgets/controls",
            "_view_module_version": "1.5.0",
            "_view_name": "HBoxView",
            "box_style": "",
            "children": [
              "IPY_MODEL_3333f29358af4ae58e496be16e81675a",
              "IPY_MODEL_2c1f2590d17849bcb44493af51f8fa70",
              "IPY_MODEL_0024d592205c4f908a4d7def0a05d31e"
            ],
            "layout": "IPY_MODEL_4883242d6af14ad18700551be6112f4b"
          }
        },
        "3333f29358af4ae58e496be16e81675a": {
          "model_module": "@jupyter-widgets/controls",
          "model_name": "HTMLModel",
          "model_module_version": "1.5.0",
          "state": {
            "_dom_classes": [],
            "_model_module": "@jupyter-widgets/controls",
            "_model_module_version": "1.5.0",
            "_model_name": "HTMLModel",
            "_view_count": null,
            "_view_module": "@jupyter-widgets/controls",
            "_view_module_version": "1.5.0",
            "_view_name": "HTMLView",
            "description": "",
            "description_tooltip": null,
            "layout": "IPY_MODEL_13d6ea4a1e0c453d81d7ce9d758106ab",
            "placeholder": "​",
            "style": "IPY_MODEL_de7ceda7db26473a93ddd5300e2aa602",
            "value": "Map: 100%"
          }
        },
        "2c1f2590d17849bcb44493af51f8fa70": {
          "model_module": "@jupyter-widgets/controls",
          "model_name": "FloatProgressModel",
          "model_module_version": "1.5.0",
          "state": {
            "_dom_classes": [],
            "_model_module": "@jupyter-widgets/controls",
            "_model_module_version": "1.5.0",
            "_model_name": "FloatProgressModel",
            "_view_count": null,
            "_view_module": "@jupyter-widgets/controls",
            "_view_module_version": "1.5.0",
            "_view_name": "ProgressView",
            "bar_style": "success",
            "description": "",
            "description_tooltip": null,
            "layout": "IPY_MODEL_a51c7b39ca50452f8e1da11149fbb6d7",
            "max": 3901,
            "min": 0,
            "orientation": "horizontal",
            "style": "IPY_MODEL_4b729ca6a1ca47629751b00e3a3ead8c",
            "value": 3901
          }
        },
        "0024d592205c4f908a4d7def0a05d31e": {
          "model_module": "@jupyter-widgets/controls",
          "model_name": "HTMLModel",
          "model_module_version": "1.5.0",
          "state": {
            "_dom_classes": [],
            "_model_module": "@jupyter-widgets/controls",
            "_model_module_version": "1.5.0",
            "_model_name": "HTMLModel",
            "_view_count": null,
            "_view_module": "@jupyter-widgets/controls",
            "_view_module_version": "1.5.0",
            "_view_name": "HTMLView",
            "description": "",
            "description_tooltip": null,
            "layout": "IPY_MODEL_d39b58f10b124979899dcd3b4e34bee8",
            "placeholder": "​",
            "style": "IPY_MODEL_48d8a25eb8184c60a3b49da2b851287e",
            "value": " 3901/3901 [00:03&lt;00:00, 1379.49 examples/s]"
          }
        },
        "4883242d6af14ad18700551be6112f4b": {
          "model_module": "@jupyter-widgets/base",
          "model_name": "LayoutModel",
          "model_module_version": "1.2.0",
          "state": {
            "_model_module": "@jupyter-widgets/base",
            "_model_module_version": "1.2.0",
            "_model_name": "LayoutModel",
            "_view_count": null,
            "_view_module": "@jupyter-widgets/base",
            "_view_module_version": "1.2.0",
            "_view_name": "LayoutView",
            "align_content": null,
            "align_items": null,
            "align_self": null,
            "border": null,
            "bottom": null,
            "display": null,
            "flex": null,
            "flex_flow": null,
            "grid_area": null,
            "grid_auto_columns": null,
            "grid_auto_flow": null,
            "grid_auto_rows": null,
            "grid_column": null,
            "grid_gap": null,
            "grid_row": null,
            "grid_template_areas": null,
            "grid_template_columns": null,
            "grid_template_rows": null,
            "height": null,
            "justify_content": null,
            "justify_items": null,
            "left": null,
            "margin": null,
            "max_height": null,
            "max_width": null,
            "min_height": null,
            "min_width": null,
            "object_fit": null,
            "object_position": null,
            "order": null,
            "overflow": null,
            "overflow_x": null,
            "overflow_y": null,
            "padding": null,
            "right": null,
            "top": null,
            "visibility": null,
            "width": null
          }
        },
        "13d6ea4a1e0c453d81d7ce9d758106ab": {
          "model_module": "@jupyter-widgets/base",
          "model_name": "LayoutModel",
          "model_module_version": "1.2.0",
          "state": {
            "_model_module": "@jupyter-widgets/base",
            "_model_module_version": "1.2.0",
            "_model_name": "LayoutModel",
            "_view_count": null,
            "_view_module": "@jupyter-widgets/base",
            "_view_module_version": "1.2.0",
            "_view_name": "LayoutView",
            "align_content": null,
            "align_items": null,
            "align_self": null,
            "border": null,
            "bottom": null,
            "display": null,
            "flex": null,
            "flex_flow": null,
            "grid_area": null,
            "grid_auto_columns": null,
            "grid_auto_flow": null,
            "grid_auto_rows": null,
            "grid_column": null,
            "grid_gap": null,
            "grid_row": null,
            "grid_template_areas": null,
            "grid_template_columns": null,
            "grid_template_rows": null,
            "height": null,
            "justify_content": null,
            "justify_items": null,
            "left": null,
            "margin": null,
            "max_height": null,
            "max_width": null,
            "min_height": null,
            "min_width": null,
            "object_fit": null,
            "object_position": null,
            "order": null,
            "overflow": null,
            "overflow_x": null,
            "overflow_y": null,
            "padding": null,
            "right": null,
            "top": null,
            "visibility": null,
            "width": null
          }
        },
        "de7ceda7db26473a93ddd5300e2aa602": {
          "model_module": "@jupyter-widgets/controls",
          "model_name": "DescriptionStyleModel",
          "model_module_version": "1.5.0",
          "state": {
            "_model_module": "@jupyter-widgets/controls",
            "_model_module_version": "1.5.0",
            "_model_name": "DescriptionStyleModel",
            "_view_count": null,
            "_view_module": "@jupyter-widgets/base",
            "_view_module_version": "1.2.0",
            "_view_name": "StyleView",
            "description_width": ""
          }
        },
        "a51c7b39ca50452f8e1da11149fbb6d7": {
          "model_module": "@jupyter-widgets/base",
          "model_name": "LayoutModel",
          "model_module_version": "1.2.0",
          "state": {
            "_model_module": "@jupyter-widgets/base",
            "_model_module_version": "1.2.0",
            "_model_name": "LayoutModel",
            "_view_count": null,
            "_view_module": "@jupyter-widgets/base",
            "_view_module_version": "1.2.0",
            "_view_name": "LayoutView",
            "align_content": null,
            "align_items": null,
            "align_self": null,
            "border": null,
            "bottom": null,
            "display": null,
            "flex": null,
            "flex_flow": null,
            "grid_area": null,
            "grid_auto_columns": null,
            "grid_auto_flow": null,
            "grid_auto_rows": null,
            "grid_column": null,
            "grid_gap": null,
            "grid_row": null,
            "grid_template_areas": null,
            "grid_template_columns": null,
            "grid_template_rows": null,
            "height": null,
            "justify_content": null,
            "justify_items": null,
            "left": null,
            "margin": null,
            "max_height": null,
            "max_width": null,
            "min_height": null,
            "min_width": null,
            "object_fit": null,
            "object_position": null,
            "order": null,
            "overflow": null,
            "overflow_x": null,
            "overflow_y": null,
            "padding": null,
            "right": null,
            "top": null,
            "visibility": null,
            "width": null
          }
        },
        "4b729ca6a1ca47629751b00e3a3ead8c": {
          "model_module": "@jupyter-widgets/controls",
          "model_name": "ProgressStyleModel",
          "model_module_version": "1.5.0",
          "state": {
            "_model_module": "@jupyter-widgets/controls",
            "_model_module_version": "1.5.0",
            "_model_name": "ProgressStyleModel",
            "_view_count": null,
            "_view_module": "@jupyter-widgets/base",
            "_view_module_version": "1.2.0",
            "_view_name": "StyleView",
            "bar_color": null,
            "description_width": ""
          }
        },
        "d39b58f10b124979899dcd3b4e34bee8": {
          "model_module": "@jupyter-widgets/base",
          "model_name": "LayoutModel",
          "model_module_version": "1.2.0",
          "state": {
            "_model_module": "@jupyter-widgets/base",
            "_model_module_version": "1.2.0",
            "_model_name": "LayoutModel",
            "_view_count": null,
            "_view_module": "@jupyter-widgets/base",
            "_view_module_version": "1.2.0",
            "_view_name": "LayoutView",
            "align_content": null,
            "align_items": null,
            "align_self": null,
            "border": null,
            "bottom": null,
            "display": null,
            "flex": null,
            "flex_flow": null,
            "grid_area": null,
            "grid_auto_columns": null,
            "grid_auto_flow": null,
            "grid_auto_rows": null,
            "grid_column": null,
            "grid_gap": null,
            "grid_row": null,
            "grid_template_areas": null,
            "grid_template_columns": null,
            "grid_template_rows": null,
            "height": null,
            "justify_content": null,
            "justify_items": null,
            "left": null,
            "margin": null,
            "max_height": null,
            "max_width": null,
            "min_height": null,
            "min_width": null,
            "object_fit": null,
            "object_position": null,
            "order": null,
            "overflow": null,
            "overflow_x": null,
            "overflow_y": null,
            "padding": null,
            "right": null,
            "top": null,
            "visibility": null,
            "width": null
          }
        },
        "48d8a25eb8184c60a3b49da2b851287e": {
          "model_module": "@jupyter-widgets/controls",
          "model_name": "DescriptionStyleModel",
          "model_module_version": "1.5.0",
          "state": {
            "_model_module": "@jupyter-widgets/controls",
            "_model_module_version": "1.5.0",
            "_model_name": "DescriptionStyleModel",
            "_view_count": null,
            "_view_module": "@jupyter-widgets/base",
            "_view_module_version": "1.2.0",
            "_view_name": "StyleView",
            "description_width": ""
          }
        }
      }
    }
  },
  "nbformat": 4,
  "nbformat_minor": 5
}