version https://git-lfs.github.com/spec/v1
oid sha256:687480675998346d3ac3413238517c0e85ee3fd096f8d59fd7f9838b140e8aae
size 245259456
